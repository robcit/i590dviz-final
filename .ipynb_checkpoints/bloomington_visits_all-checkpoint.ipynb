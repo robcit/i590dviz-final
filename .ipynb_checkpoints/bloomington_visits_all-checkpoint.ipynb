{
 "cells": [
  {
   "cell_type": "markdown",
   "metadata": {},
   "source": [
    "# Mapping Bloomington Residents"
   ]
  },
  {
   "cell_type": "code",
   "execution_count": 117,
   "metadata": {},
   "outputs": [
    {
     "data": {
      "text/plain": [
       "DataTransformerRegistry.enable('default')"
      ]
     },
     "execution_count": 117,
     "metadata": {},
     "output_type": "execute_result"
    }
   ],
   "source": [
    "import pandas as pd\n",
    "import numpy as np\n",
    "import altair as alt\n",
    "import datetime\n",
    "import calendar\n",
    "from vega_datasets import data as vega_data\n",
    "\n",
    "# Altair has a 5,000 row limit that must be disabled.\n",
    "alt.data_transformers.disable_max_rows()"
   ]
  },
  {
   "cell_type": "markdown",
   "metadata": {},
   "source": [
    "# Utility Functions"
   ]
  },
  {
   "cell_type": "code",
   "execution_count": 118,
   "metadata": {},
   "outputs": [],
   "source": [
    "# Create an array of dataset names\n",
    "dataset_names = np.array(['visits_01_2019', 'visits_02_2019', 'visits_03_2019', 'visits_04_2019', 'visits_01_2020', 'visits_02_2020', 'visits_03_2020', 'visits_04_2020'])\n",
    "#dataset_names = ['visits_01_2019', 'visits_02_2019']\n",
    "datasets = []\n",
    "maps = []"
   ]
  },
  {
   "cell_type": "code",
   "execution_count": 119,
   "metadata": {},
   "outputs": [],
   "source": [
    "# Get an array of the Transient CBGs for Bloomington and convert them each to strings\n",
    "# We will use this array repeatedly\n",
    "transient_df = pd.read_csv('bton_transient_cbgs.csv')\n",
    "transient_df.census_block_group = transient_df.census_block_group.astype(str)\n",
    "transient_df.dtypes\n",
    "transient = transient_df.census_block_group.to_numpy()"
   ]
  },
  {
   "cell_type": "code",
   "execution_count": 120,
   "metadata": {},
   "outputs": [],
   "source": [
    "# Function to rename columns from the output\n",
    "def rename_columns(df):\n",
    "    # Rename the columns\n",
    "    data = df.rename(columns={\n",
    "        'x181050002011_visits' : '181050002011',\n",
    "        'x181050002012_visits' : '181050002012',\n",
    "        'x181050002013_visits' : '181050002013',\n",
    "        'x181050002021_visits' : '181050002021',\n",
    "        'x181050002022_visits' : '181050002022',\n",
    "        'x181050003014_visits' : '181050003014',\n",
    "        'x181050003021_visits' : '181050003021',\n",
    "        'x181050007003_visits' : '181050007003',\n",
    "        'x181050012002_visits' : '181050012002',\n",
    "        'x181050012005_visits' : '181050012005',\n",
    "        'x181050013014_visits' : '181050013014',\n",
    "        'x181050014012_visits' : '181050014012',\n",
    "        'x181050016001_visits' : '181050016001',\n",
    "        'x181050016002_visits' : '181050016002',\n",
    "        'x181050016003_visits' : '181050016003',\n",
    "    })\n",
    "    return data"
   ]
  },
  {
   "cell_type": "markdown",
   "metadata": {},
   "source": [
    "# Load & Clean Data"
   ]
  },
  {
   "cell_type": "code",
   "execution_count": 121,
   "metadata": {},
   "outputs": [
    {
     "name": "stdout",
     "output_type": "stream",
     "text": [
      "You have 2 datasets ready to go.\n"
     ]
    }
   ],
   "source": [
    "for dataset in dataset_names:\n",
    "    df = pd.read_csv('bloomington_transient_' + dataset + '.csv')\n",
    "    df2 = rename_columns(df)\n",
    "    \n",
    "    # Get rid of NaNs\n",
    "    df2 = df2.fillna(0)\n",
    "    \n",
    "    # Convert visit columns to int\n",
    "    for cbg in transient:\n",
    "        df2[cbg] = df2[cbg].astype(int)\n",
    "        \n",
    "    # Add a column that has the summed number of visits by transient residents\n",
    "    df2['total_visits'] = df2[transient].sum(axis=1)\n",
    "        \n",
    "    datasets.append(df2)\n",
    "\n",
    "print('You have ' + str(len(datasets)) + ' datasets ready to go.')"
   ]
  },
  {
   "cell_type": "markdown",
   "metadata": {},
   "source": [
    "# Mapping Functions"
   ]
  },
  {
   "cell_type": "code",
   "execution_count": 122,
   "metadata": {},
   "outputs": [],
   "source": [
    "# Function to extract the date of visits and create a title for the map\n",
    "def get_title(data):\n",
    "    start_date = pd.to_datetime(data.iloc[0].date_range_start)\n",
    "    return str(calendar.month_name[start_date.month]) + \" \" + str(start_date.year)"
   ]
  },
  {
   "cell_type": "code",
   "execution_count": 123,
   "metadata": {},
   "outputs": [],
   "source": [
    "# Function to create a map for a specific dataset\n",
    "def visit_map(data):\n",
    "    map_title = get_title(data)\n",
    "    map = alt.Chart(data).mark_circle(size=2).encode(\n",
    "        longitude='longitude:Q',\n",
    "        latitude='latitude:Q',\n",
    "        color=alt.value('red'),\n",
    "        size=alt.Size('total_visits:Q'),\n",
    "        tooltip='location_name:N'\n",
    "    ).project(\n",
    "        type='albersUsa'\n",
    "    ).properties(\n",
    "        title=map_title,\n",
    "        width=800,\n",
    "        height=500,\n",
    "    )\n",
    "    return map"
   ]
  },
  {
   "cell_type": "code",
   "execution_count": 124,
   "metadata": {},
   "outputs": [],
   "source": [
    "# Create an array of maps for each month\n",
    "for dataset in datasets:\n",
    "    map = visit_map(dataset)\n",
    "    maps.append(map)"
   ]
  },
  {
   "cell_type": "markdown",
   "metadata": {},
   "source": [
    "# Display Maps"
   ]
  },
  {
   "cell_type": "code",
   "execution_count": 125,
   "metadata": {},
   "outputs": [],
   "source": [
    "states = alt.topo_feature(vega_data.us_10m.url, 'states')\n",
    "\n",
    "# EXAMPLE: https://altair-viz.github.io/gallery/us_state_capitals.html\n",
    "# US states background\n",
    "background = alt.Chart(states).mark_geoshape(\n",
    "    fill='lightgray',\n",
    "    stroke='white'\n",
    ").properties(\n",
    "    width=800,\n",
    "    height=400\n",
    ").project('albersUsa')"
   ]
  },
  {
   "cell_type": "code",
   "execution_count": null,
   "metadata": {},
   "outputs": [],
   "source": [
    "alt.vconcat((background+maps[0]))"
   ]
  },
  {
   "cell_type": "code",
   "execution_count": null,
   "metadata": {},
   "outputs": [],
   "source": [
    "alt.vconcat((background+maps[1]))"
   ]
  },
  {
   "cell_type": "code",
   "execution_count": null,
   "metadata": {},
   "outputs": [],
   "source": [
    "alt.vconcat((background+maps[2]))"
   ]
  },
  {
   "cell_type": "code",
   "execution_count": null,
   "metadata": {},
   "outputs": [],
   "source": [
    "alt.vconcat((background+maps[3]))"
   ]
  },
  {
   "cell_type": "code",
   "execution_count": null,
   "metadata": {},
   "outputs": [],
   "source": [
    "alt.vconcat((background+maps[4]))"
   ]
  },
  {
   "cell_type": "code",
   "execution_count": null,
   "metadata": {},
   "outputs": [],
   "source": [
    "alt.vconcat((background+maps[5]))"
   ]
  },
  {
   "cell_type": "code",
   "execution_count": null,
   "metadata": {},
   "outputs": [],
   "source": [
    "alt.vconcat((background+maps[6]))"
   ]
  },
  {
   "cell_type": "code",
   "execution_count": null,
   "metadata": {},
   "outputs": [],
   "source": [
    "alt.vconcat((background+maps[7]))"
   ]
  }
 ],
 "metadata": {
  "kernelspec": {
   "display_name": "Python 3",
   "language": "python",
   "name": "python3"
  },
  "language_info": {
   "codemirror_mode": {
    "name": "ipython",
    "version": 3
   },
   "file_extension": ".py",
   "mimetype": "text/x-python",
   "name": "python",
   "nbconvert_exporter": "python",
   "pygments_lexer": "ipython3",
   "version": "3.8.3"
  }
 },
 "nbformat": 4,
 "nbformat_minor": 4
}
