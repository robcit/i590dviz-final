{
 "cells": [
  {
   "cell_type": "code",
   "execution_count": null,
   "metadata": {},
   "outputs": [],
   "source": []
  },
  {
   "cell_type": "code",
   "execution_count": null,
   "metadata": {},
   "outputs": [],
   "source": [
    "import pandas as pd\n",
    "import numpy as np"
   ]
  },
  {
   "cell_type": "code",
   "execution_count": null,
   "metadata": {},
   "outputs": [],
   "source": [
    "data = pd.read_csv('bloomington_transient_visits_01_2020.csv')\n",
    "data['safegraph_place_id']\n",
    "data.dtypes"
   ]
  },
  {
   "cell_type": "code",
   "execution_count": null,
   "metadata": {},
   "outputs": [],
   "source": [
    "# Rename the columns\n",
    "data = data.rename(columns={\n",
    "    'x181050002011_visits' : '181050002011',\n",
    "    'x181050002012_visits' : '181050002012',\n",
    "    'x181050002013_visits' : '181050002013',\n",
    "    'x181050002021_visits' : '181050002021',\n",
    "    'x181050002022_visits' : '181050002022',\n",
    "    'x181050003014_visits' : '181050003014',\n",
    "    'x181050003021_visits' : '181050003021',\n",
    "    'x181050007003_visits' : '181050007003',\n",
    "    'x181050012002_visits' : '181050012002',\n",
    "    'x181050012005_visits' : '181050012005',\n",
    "    'x181050013014_visits' : '181050013014',\n",
    "    'x181050014012_visits' : '181050014012',\n",
    "    'x181050016001_visits' : '181050016001',\n",
    "    'x181050016002_visits' : '181050016002',\n",
    "    'x181050016003_visits' : '181050016003',\n",
    "})\n",
    "data.dtypes"
   ]
  },
  {
   "cell_type": "code",
   "execution_count": null,
   "metadata": {},
   "outputs": [],
   "source": [
    "# Get an array of the Transient CBGs for Bloomington and convert them each to strings\n",
    "transient_df = pd.read_csv('bton_transient_cbgs.csv')\n",
    "transient_df.census_block_group = transient_df.census_block_group.astype(str)\n",
    "transient_df.dtypes\n",
    "transient = transient_df.census_block_group.to_numpy()\n",
    "transient"
   ]
  },
  {
   "cell_type": "code",
   "execution_count": null,
   "metadata": {},
   "outputs": [],
   "source": [
    "# Fill any NaN values with zeroes\n",
    "data = data.fillna(0)\n",
    "data.dtypes"
   ]
  },
  {
   "cell_type": "code",
   "execution_count": null,
   "metadata": {},
   "outputs": [],
   "source": [
    "# Convert each visit column in the dataframe to int instead of float64\n",
    "\n",
    "for cbg in transient:\n",
    "    data[cbg] = data[cbg].astype(int)\n",
    "\n",
    "data.head()"
   ]
  },
  {
   "cell_type": "code",
   "execution_count": null,
   "metadata": {},
   "outputs": [],
   "source": [
    "# Create a new dataframe that contains just the places visited\n",
    "df_visits = data.drop(columns=['location_name', 'street_address', 'city', 'region', 'postal_code', 'safegraph_brand_ids', 'date_range_start', 'date_range_end', 'visitor_home_cbgs'])\n",
    "df_visits.head()"
   ]
  },
  {
   "cell_type": "code",
   "execution_count": null,
   "metadata": {},
   "outputs": [],
   "source": [
    "df_visits = pd.melt(df_visits, id_vars=['safegraph_place_id','poi_cbg','latitude','longitude'], value_vars=transient, var_name='source_cbg', value_name='visits')\n",
    "df_visits.head()"
   ]
  },
  {
   "cell_type": "code",
   "execution_count": null,
   "metadata": {},
   "outputs": [],
   "source": [
    "# Get rid of columns where visits are 0\n",
    "df_visits = df_visits.visits > 0\n",
    "df_visits.head()"
   ]
  },
  {
   "cell_type": "code",
   "execution_count": 14,
   "metadata": {},
   "outputs": [
    {
     "data": {
      "text/html": [
       "<div>\n",
       "<style scoped>\n",
       "    .dataframe tbody tr th:only-of-type {\n",
       "        vertical-align: middle;\n",
       "    }\n",
       "\n",
       "    .dataframe tbody tr th {\n",
       "        vertical-align: top;\n",
       "    }\n",
       "\n",
       "    .dataframe thead th {\n",
       "        text-align: right;\n",
       "    }\n",
       "</style>\n",
       "<table border=\"1\" class=\"dataframe\">\n",
       "  <thead>\n",
       "    <tr style=\"text-align: right;\">\n",
       "      <th></th>\n",
       "      <th>census_block_group</th>\n",
       "      <th>amount_land</th>\n",
       "      <th>amount_water</th>\n",
       "      <th>latitude</th>\n",
       "      <th>longitude</th>\n",
       "    </tr>\n",
       "  </thead>\n",
       "  <tbody>\n",
       "    <tr>\n",
       "      <th>0</th>\n",
       "      <td>10010201001</td>\n",
       "      <td>4254524.0</td>\n",
       "      <td>23431</td>\n",
       "      <td>32.465829</td>\n",
       "      <td>-86.489614</td>\n",
       "    </tr>\n",
       "    <tr>\n",
       "      <th>1</th>\n",
       "      <td>10010201002</td>\n",
       "      <td>5568295.0</td>\n",
       "      <td>0</td>\n",
       "      <td>32.485849</td>\n",
       "      <td>-86.489690</td>\n",
       "    </tr>\n",
       "    <tr>\n",
       "      <th>2</th>\n",
       "      <td>10010202001</td>\n",
       "      <td>2058380.0</td>\n",
       "      <td>0</td>\n",
       "      <td>32.480082</td>\n",
       "      <td>-86.474974</td>\n",
       "    </tr>\n",
       "    <tr>\n",
       "      <th>3</th>\n",
       "      <td>10010202002</td>\n",
       "      <td>1283506.0</td>\n",
       "      <td>5968</td>\n",
       "      <td>32.464435</td>\n",
       "      <td>-86.469766</td>\n",
       "    </tr>\n",
       "    <tr>\n",
       "      <th>4</th>\n",
       "      <td>10010203001</td>\n",
       "      <td>3866515.0</td>\n",
       "      <td>9054</td>\n",
       "      <td>32.480175</td>\n",
       "      <td>-86.460793</td>\n",
       "    </tr>\n",
       "  </tbody>\n",
       "</table>\n",
       "</div>"
      ],
      "text/plain": [
       "   census_block_group  amount_land  amount_water   latitude  longitude\n",
       "0         10010201001    4254524.0         23431  32.465829 -86.489614\n",
       "1         10010201002    5568295.0             0  32.485849 -86.489690\n",
       "2         10010202001    2058380.0             0  32.480082 -86.474974\n",
       "3         10010202002    1283506.0          5968  32.464435 -86.469766\n",
       "4         10010203001    3866515.0          9054  32.480175 -86.460793"
      ]
     },
     "execution_count": 14,
     "metadata": {},
     "output_type": "execute_result"
    }
   ],
   "source": [
    "cbg_coordinates = pd.read_csv('../open_census/safegraph_open_census_data/metadata/cbg_geographic_data.csv')\n",
    "cbg_coordinates.head()"
   ]
  },
  {
   "cell_type": "code",
   "execution_count": 15,
   "metadata": {},
   "outputs": [],
   "source": [
    "df_visits.to_csv('bloomington_connections_01_2020.csv')"
   ]
  },
  {
   "cell_type": "code",
   "execution_count": null,
   "metadata": {},
   "outputs": [],
   "source": []
  }
 ],
 "metadata": {
  "kernelspec": {
   "display_name": "Python 3",
   "language": "python",
   "name": "python3"
  },
  "language_info": {
   "codemirror_mode": {
    "name": "ipython",
    "version": 3
   },
   "file_extension": ".py",
   "mimetype": "text/x-python",
   "name": "python",
   "nbconvert_exporter": "python",
   "pygments_lexer": "ipython3",
   "version": "3.7.6"
  }
 },
 "nbformat": 4,
 "nbformat_minor": 4
}
