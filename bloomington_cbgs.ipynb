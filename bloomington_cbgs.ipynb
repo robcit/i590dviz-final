{
 "cells": [
  {
   "cell_type": "markdown",
   "metadata": {},
   "source": [
    "Find all Census Block Groups in Bloomington, IN."
   ]
  },
  {
   "cell_type": "code",
   "execution_count": 75,
   "metadata": {},
   "outputs": [],
   "source": [
    "# EXAMPLES: http://andrewgaidus.com/Dot_Density_County_Maps/\n",
    "\n",
    "import pandas as pd"
   ]
  },
  {
   "cell_type": "code",
   "execution_count": 76,
   "metadata": {},
   "outputs": [
    {
     "data": {
      "text/html": [
       "<div>\n",
       "<style scoped>\n",
       "    .dataframe tbody tr th:only-of-type {\n",
       "        vertical-align: middle;\n",
       "    }\n",
       "\n",
       "    .dataframe tbody tr th {\n",
       "        vertical-align: top;\n",
       "    }\n",
       "\n",
       "    .dataframe thead th {\n",
       "        text-align: right;\n",
       "    }\n",
       "</style>\n",
       "<table border=\"1\" class=\"dataframe\">\n",
       "  <thead>\n",
       "    <tr style=\"text-align: right;\">\n",
       "      <th></th>\n",
       "      <th>census_block_group</th>\n",
       "      <th>devices07222019</th>\n",
       "    </tr>\n",
       "  </thead>\n",
       "  <tbody>\n",
       "    <tr>\n",
       "      <th>220102</th>\n",
       "      <td>560210004015</td>\n",
       "      <td>80</td>\n",
       "    </tr>\n",
       "    <tr>\n",
       "      <th>220103</th>\n",
       "      <td>560399676003</td>\n",
       "      <td>82</td>\n",
       "    </tr>\n",
       "    <tr>\n",
       "      <th>220104</th>\n",
       "      <td>560319594001</td>\n",
       "      <td>30</td>\n",
       "    </tr>\n",
       "    <tr>\n",
       "      <th>220105</th>\n",
       "      <td>560419752002</td>\n",
       "      <td>33</td>\n",
       "    </tr>\n",
       "    <tr>\n",
       "      <th>220106</th>\n",
       "      <td>560250011002</td>\n",
       "      <td>107</td>\n",
       "    </tr>\n",
       "  </tbody>\n",
       "</table>\n",
       "</div>"
      ],
      "text/plain": [
       "        census_block_group  devices07222019\n",
       "220102        560210004015               80\n",
       "220103        560399676003               82\n",
       "220104        560319594001               30\n",
       "220105        560419752002               33\n",
       "220106        560250011002              107"
      ]
     },
     "execution_count": 76,
     "metadata": {},
     "output_type": "execute_result"
    }
   ],
   "source": [
    "# Get count of devices residing in each CBG on 07/22/2019\n",
    "devices_residing07222019 = pd.read_csv('../home_panels/2019-07-22-home-panel-summary.csv')\n",
    "\n",
    "devices_residing07222019 = devices_residing07222019.rename(columns={'number_devices_residing': 'devices07222019'})\n",
    "devices_residing07222019 = devices_residing07222019.drop(['date_range_start', 'date_range_end', 'state'], axis=1)\n",
    "\n",
    "devices_residing07222019.tail()"
   ]
  },
  {
   "cell_type": "code",
   "execution_count": 77,
   "metadata": {},
   "outputs": [
    {
     "data": {
      "text/html": [
       "<div>\n",
       "<style scoped>\n",
       "    .dataframe tbody tr th:only-of-type {\n",
       "        vertical-align: middle;\n",
       "    }\n",
       "\n",
       "    .dataframe tbody tr th {\n",
       "        vertical-align: top;\n",
       "    }\n",
       "\n",
       "    .dataframe thead th {\n",
       "        text-align: right;\n",
       "    }\n",
       "</style>\n",
       "<table border=\"1\" class=\"dataframe\">\n",
       "  <thead>\n",
       "    <tr style=\"text-align: right;\">\n",
       "      <th></th>\n",
       "      <th>census_block_group</th>\n",
       "      <th>devices02032020</th>\n",
       "    </tr>\n",
       "  </thead>\n",
       "  <tbody>\n",
       "    <tr>\n",
       "      <th>220159</th>\n",
       "      <td>560250017002</td>\n",
       "      <td>232</td>\n",
       "    </tr>\n",
       "    <tr>\n",
       "      <th>220160</th>\n",
       "      <td>560210010002</td>\n",
       "      <td>62</td>\n",
       "    </tr>\n",
       "    <tr>\n",
       "      <th>220161</th>\n",
       "      <td>560430002001</td>\n",
       "      <td>51</td>\n",
       "    </tr>\n",
       "    <tr>\n",
       "      <th>220162</th>\n",
       "      <td>560119503002</td>\n",
       "      <td>76</td>\n",
       "    </tr>\n",
       "    <tr>\n",
       "      <th>220163</th>\n",
       "      <td>560210015013</td>\n",
       "      <td>80</td>\n",
       "    </tr>\n",
       "  </tbody>\n",
       "</table>\n",
       "</div>"
      ],
      "text/plain": [
       "        census_block_group  devices02032020\n",
       "220159        560250017002              232\n",
       "220160        560210010002               62\n",
       "220161        560430002001               51\n",
       "220162        560119503002               76\n",
       "220163        560210015013               80"
      ]
     },
     "execution_count": 77,
     "metadata": {},
     "output_type": "execute_result"
    }
   ],
   "source": [
    "# Get count of devices residing in each CBG on 02/03/2020\n",
    "devices_residing02032020 = pd.read_csv('../home_panels/2020-02-03-home-panel-summary.csv')\n",
    "\n",
    "devices_residing02032020 = devices_residing02032020.rename(columns={'number_devices_residing': 'devices02032020'})\n",
    "devices_residing02032020 = devices_residing02032020.drop(['date_range_start', 'date_range_end', 'state'], axis=1)\n",
    "\n",
    "devices_residing02032020.tail()"
   ]
  },
  {
   "cell_type": "code",
   "execution_count": 78,
   "metadata": {},
   "outputs": [
    {
     "data": {
      "text/plain": [
       "<bound method DataFrame.count of     census_block_group\n",
       "0         181050001001\n",
       "1         181050001002\n",
       "2         181050001003\n",
       "3         181050002011\n",
       "4         181050002012\n",
       "..                 ...\n",
       "87        181050015022\n",
       "88        181050016001\n",
       "89        181050016002\n",
       "90        181050016003\n",
       "91        181199559003\n",
       "\n",
       "[92 rows x 1 columns]>"
      ]
     },
     "execution_count": 78,
     "metadata": {},
     "output_type": "execute_result"
    }
   ],
   "source": [
    "# Create a list of unique Census Block Groups for Bloomington, IN\n",
    "bton_cbgs = pd.read_csv('bloomington_cbgs.csv')\n",
    "bton_cbgs.drop_duplicates('census_block_group', keep=False, inplace=True)\n",
    "bton_cbgs.count"
   ]
  },
  {
   "cell_type": "code",
   "execution_count": 84,
   "metadata": {},
   "outputs": [
    {
     "data": {
      "text/html": [
       "<div>\n",
       "<style scoped>\n",
       "    .dataframe tbody tr th:only-of-type {\n",
       "        vertical-align: middle;\n",
       "    }\n",
       "\n",
       "    .dataframe tbody tr th {\n",
       "        vertical-align: top;\n",
       "    }\n",
       "\n",
       "    .dataframe thead th {\n",
       "        text-align: right;\n",
       "    }\n",
       "</style>\n",
       "<table border=\"1\" class=\"dataframe\">\n",
       "  <thead>\n",
       "    <tr style=\"text-align: right;\">\n",
       "      <th></th>\n",
       "      <th>census_block_group</th>\n",
       "      <th>devices07222019</th>\n",
       "      <th>devices02032020</th>\n",
       "      <th>pop_change</th>\n",
       "      <th>pop_pct_change</th>\n",
       "    </tr>\n",
       "  </thead>\n",
       "  <tbody>\n",
       "    <tr>\n",
       "      <th>0</th>\n",
       "      <td>181050001001</td>\n",
       "      <td>65</td>\n",
       "      <td>106</td>\n",
       "      <td>41</td>\n",
       "      <td>0.630769</td>\n",
       "    </tr>\n",
       "    <tr>\n",
       "      <th>1</th>\n",
       "      <td>181050001002</td>\n",
       "      <td>70</td>\n",
       "      <td>122</td>\n",
       "      <td>52</td>\n",
       "      <td>0.742857</td>\n",
       "    </tr>\n",
       "    <tr>\n",
       "      <th>2</th>\n",
       "      <td>181050001003</td>\n",
       "      <td>52</td>\n",
       "      <td>91</td>\n",
       "      <td>39</td>\n",
       "      <td>0.750000</td>\n",
       "    </tr>\n",
       "    <tr>\n",
       "      <th>3</th>\n",
       "      <td>181050002011</td>\n",
       "      <td>4</td>\n",
       "      <td>108</td>\n",
       "      <td>104</td>\n",
       "      <td>26.000000</td>\n",
       "    </tr>\n",
       "    <tr>\n",
       "      <th>4</th>\n",
       "      <td>181050002012</td>\n",
       "      <td>4</td>\n",
       "      <td>169</td>\n",
       "      <td>165</td>\n",
       "      <td>41.250000</td>\n",
       "    </tr>\n",
       "    <tr>\n",
       "      <th>...</th>\n",
       "      <td>...</td>\n",
       "      <td>...</td>\n",
       "      <td>...</td>\n",
       "      <td>...</td>\n",
       "      <td>...</td>\n",
       "    </tr>\n",
       "    <tr>\n",
       "      <th>87</th>\n",
       "      <td>181050015022</td>\n",
       "      <td>56</td>\n",
       "      <td>72</td>\n",
       "      <td>16</td>\n",
       "      <td>0.285714</td>\n",
       "    </tr>\n",
       "    <tr>\n",
       "      <th>88</th>\n",
       "      <td>181050016001</td>\n",
       "      <td>94</td>\n",
       "      <td>219</td>\n",
       "      <td>125</td>\n",
       "      <td>1.329787</td>\n",
       "    </tr>\n",
       "    <tr>\n",
       "      <th>89</th>\n",
       "      <td>181050016002</td>\n",
       "      <td>61</td>\n",
       "      <td>139</td>\n",
       "      <td>78</td>\n",
       "      <td>1.278689</td>\n",
       "    </tr>\n",
       "    <tr>\n",
       "      <th>90</th>\n",
       "      <td>181050016003</td>\n",
       "      <td>11</td>\n",
       "      <td>79</td>\n",
       "      <td>68</td>\n",
       "      <td>6.181818</td>\n",
       "    </tr>\n",
       "    <tr>\n",
       "      <th>91</th>\n",
       "      <td>181199559003</td>\n",
       "      <td>80</td>\n",
       "      <td>107</td>\n",
       "      <td>27</td>\n",
       "      <td>0.337500</td>\n",
       "    </tr>\n",
       "  </tbody>\n",
       "</table>\n",
       "<p>92 rows × 5 columns</p>\n",
       "</div>"
      ],
      "text/plain": [
       "    census_block_group  devices07222019  devices02032020  pop_change  \\\n",
       "0         181050001001               65              106          41   \n",
       "1         181050001002               70              122          52   \n",
       "2         181050001003               52               91          39   \n",
       "3         181050002011                4              108         104   \n",
       "4         181050002012                4              169         165   \n",
       "..                 ...              ...              ...         ...   \n",
       "87        181050015022               56               72          16   \n",
       "88        181050016001               94              219         125   \n",
       "89        181050016002               61              139          78   \n",
       "90        181050016003               11               79          68   \n",
       "91        181199559003               80              107          27   \n",
       "\n",
       "    pop_pct_change  \n",
       "0         0.630769  \n",
       "1         0.742857  \n",
       "2         0.750000  \n",
       "3        26.000000  \n",
       "4        41.250000  \n",
       "..             ...  \n",
       "87        0.285714  \n",
       "88        1.329787  \n",
       "89        1.278689  \n",
       "90        6.181818  \n",
       "91        0.337500  \n",
       "\n",
       "[92 rows x 5 columns]"
      ]
     },
     "execution_count": 84,
     "metadata": {},
     "output_type": "execute_result"
    }
   ],
   "source": [
    "# Merge dataframes so we have one dataframe that includes summer and winter population, population change, and percent change\n",
    "filtered_2019_df = pd.merge(bton_cbgs, devices_residing07222019, on=['census_block_group'])\n",
    "filtered_2020_df = pd.merge(devices_residing02032020, bton_cbgs, how='inner')\n",
    "\n",
    "bton_devices_residing = pd.merge(filtered_2019_df, filtered_2020_df, how='left', on='census_block_group')\n",
    "\n",
    "bton_devices_residing['pop_change'] = bton_devices_residing['devices02032020'] - bton_devices_residing['devices07222019']\n",
    "bton_devices_residing['pop_pct_change'] = bton_devices_residing['pop_change'] / bton_devices_residing['devices07222019']\n",
    "\n",
    "bton_devices_residing"
   ]
  },
  {
   "cell_type": "code",
   "execution_count": 89,
   "metadata": {},
   "outputs": [],
   "source": [
    "# Create a dataframe that only contains CBGs where the population increased by more than 100% from summer to winter\n",
    "bton_transient_df = bton_devices_residing[bton_devices_residing['pop_pct_change'] > 1]\n",
    "bton_transient_df"
   ]
  },
  {
   "cell_type": "code",
   "execution_count": 91,
   "metadata": {},
   "outputs": [],
   "source": [
    "bton_transient_df.to_csv('bton_transient_cbgs.csv')"
   ]
  },
  {
   "cell_type": "code",
   "execution_count": 90,
   "metadata": {},
   "outputs": [],
   "source": [
    "# Create a dataframe that only contains CBGs where the population increased by more than 100% from summer to winter\n",
    "bton_static_df = bton_devices_residing[bton_devices_residing['pop_pct_change'] <= 1]\n",
    "bton_static_df"
   ]
  },
  {
   "cell_type": "code",
   "execution_count": 92,
   "metadata": {},
   "outputs": [],
   "source": [
    "bton_static_df.to_csv('bton_static_cbgs.csv')"
   ]
  },
  {
   "cell_type": "markdown",
   "metadata": {},
   "source": [
    "I now have two dataframes: one that includes the more transient census block groups (e.g. 'students') and one that is more static (e.g. year-round residents.)"
   ]
  },
  {
   "cell_type": "code",
   "execution_count": null,
   "metadata": {},
   "outputs": [],
   "source": []
  }
 ],
 "metadata": {
  "kernelspec": {
   "display_name": "Python 3",
   "language": "python",
   "name": "python3"
  },
  "language_info": {
   "codemirror_mode": {
    "name": "ipython",
    "version": 3
   },
   "file_extension": ".py",
   "mimetype": "text/x-python",
   "name": "python",
   "nbconvert_exporter": "python",
   "pygments_lexer": "ipython3",
   "version": "3.8.3"
  }
 },
 "nbformat": 4,
 "nbformat_minor": 4
}
