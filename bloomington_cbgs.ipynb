{
 "cells": [
  {
   "cell_type": "markdown",
   "metadata": {},
   "source": [
    "Find all Census Block Groups in Bloomington, IN."
   ]
  },
  {
   "cell_type": "code",
   "execution_count": 1,
   "metadata": {},
   "outputs": [],
   "source": [
    "# EXAMPLES: http://andrewgaidus.com/Dot_Density_County_Maps/\n",
    "\n",
    "import geojson\n",
    "import pandas as pd\n",
    "import altair as alt\n",
    "import pprint"
   ]
  },
  {
   "cell_type": "code",
   "execution_count": null,
   "metadata": {},
   "outputs": [],
   "source": [
    "# Get count of devices residing in each CBG on 07/22/2019\n",
    "devices_residing07222019 = pd.read_csv('../home_panels/2019-07-22-home-panel-summary.csv')\n",
    "\n",
    "devices_residing07222019 = devices_residing07222019.rename(columns={'number_devices_residing': 'devices07222019'})\n",
    "devices_residing07222019 = devices_residing07222019.drop(['date_range_start', 'date_range_end', 'state'], axis=1)\n",
    "\n",
    "devices_residing07222019.tail()"
   ]
  },
  {
   "cell_type": "code",
   "execution_count": null,
   "metadata": {},
   "outputs": [],
   "source": [
    "# Get count of devices residing in each CBG on 02/03/2020\n",
    "devices_residing02032020 = pd.read_csv('../home_panels/2020-02-03-home-panel-summary.csv')\n",
    "\n",
    "devices_residing02032020 = devices_residing02032020.rename(columns={'number_devices_residing': 'devices02032020'})\n",
    "devices_residing02032020 = devices_residing02032020.drop(['date_range_start', 'date_range_end', 'state'], axis=1)\n",
    "\n",
    "devices_residing02032020.tail()"
   ]
  },
  {
   "cell_type": "code",
   "execution_count": null,
   "metadata": {},
   "outputs": [],
   "source": [
    "# Create a list of unique Census Block Groups for Bloomington, IN\n",
    "bton_cbgs = pd.read_csv('bloomington_cbgs.csv')\n",
    "bton_cbgs.drop_duplicates('census_block_group', keep=False, inplace=True)\n",
    "bton_cbgs.count"
   ]
  },
  {
   "cell_type": "code",
   "execution_count": null,
   "metadata": {},
   "outputs": [],
   "source": [
    "# Merge dataframes so we have one dataframe that includes summer and winter population, population change, and percent change\n",
    "filtered_2019_df = pd.merge(bton_cbgs, devices_residing07222019, on=['census_block_group'])\n",
    "filtered_2020_df = pd.merge(devices_residing02032020, bton_cbgs, how='inner')\n",
    "\n",
    "bton_devices_residing = pd.merge(filtered_2019_df, filtered_2020_df, how='left', on='census_block_group')\n",
    "\n",
    "bton_devices_residing['pop_change'] = bton_devices_residing['devices02032020'] - bton_devices_residing['devices07222019']\n",
    "bton_devices_residing['pop_pct_change'] = bton_devices_residing['pop_change'] / bton_devices_residing['devices07222019']\n",
    "\n",
    "bton_devices_residing"
   ]
  },
  {
   "cell_type": "code",
   "execution_count": null,
   "metadata": {},
   "outputs": [],
   "source": [
    "# Create a dataframe that only contains CBGs where the population increased by more than 100% from summer to winter\n",
    "bton_transient_df = bton_devices_residing[bton_devices_residing['pop_pct_change'] > 1]\n",
    "bton_transient_df"
   ]
  },
  {
   "cell_type": "code",
   "execution_count": null,
   "metadata": {},
   "outputs": [],
   "source": [
    "bton_transient_df.to_csv('bton_transient_cbgs.csv')"
   ]
  },
  {
   "cell_type": "code",
   "execution_count": null,
   "metadata": {},
   "outputs": [],
   "source": [
    "# Create a dataframe that only contains CBGs where the population increased by more than 100% from summer to winter\n",
    "bton_static_df = bton_devices_residing[bton_devices_residing['pop_pct_change'] <= 1]\n",
    "bton_static_df"
   ]
  },
  {
   "cell_type": "code",
   "execution_count": null,
   "metadata": {},
   "outputs": [],
   "source": [
    "bton_static_df.to_csv('bton_static_cbgs.csv')"
   ]
  },
  {
   "cell_type": "markdown",
   "metadata": {},
   "source": [
    "I now have two dataframes: one that includes the more transient census block groups (e.g. 'students') and one that is more static (e.g. year-round residents.)"
   ]
  },
  {
   "cell_type": "markdown",
   "metadata": {},
   "source": [
    "# Maps of Monroe County, IN"
   ]
  },
  {
   "cell_type": "code",
   "execution_count": 10,
   "metadata": {},
   "outputs": [
    {
     "name": "stdout",
     "output_type": "stream",
     "text": [
      "Data({\n",
      "  format: DataFormat({\n",
      "    property: 'features',\n",
      "    type: 'json'\n",
      "  }),\n",
      "  url: '../open_census/safegraph_open_census_data/geometry/temp_small.geojson'\n",
      "})\n"
     ]
    }
   ],
   "source": [
    "# Import the geo_json from the Safegraph Open Census Data\n",
    "url_geojson = '../open_census/safegraph_open_census_data/geometry/temp_small.geojson'\n",
    "data_geojson_remote = alt.Data(url=url_geojson, format=alt.DataFormat(property='features',type='json'))\n"
   ]
  },
  {
   "cell_type": "code",
   "execution_count": 11,
   "metadata": {},
   "outputs": [
    {
     "name": "stdout",
     "output_type": "stream",
     "text": [
      "Data({\n",
      "  format: DataFormat({\n",
      "    property: 'features',\n",
      "    type: 'json'\n",
      "  }),\n",
      "  url: '../open_census/safegraph_open_census_data/geometry/temp_small.geojson'\n",
      "})\n"
     ]
    }
   ],
   "source": []
  },
  {
   "cell_type": "code",
   "execution_count": 13,
   "metadata": {},
   "outputs": [
    {
     "data": {
      "application/vnd.vegalite.v3+json": {
       "$schema": "https://vega.github.io/schema/vega-lite/v3.4.0.json",
       "config": {
        "mark": {
         "tooltip": null
        },
        "view": {
         "height": 300,
         "width": 400
        }
       },
       "data": {
        "format": {
         "property": "features",
         "type": "json"
        },
        "name": "data-da2e34e3ba9e2b8d1bc8d2d748bb7cad"
       },
       "datasets": {
        "data-da2e34e3ba9e2b8d1bc8d2d748bb7cad": "../open_census/safegraph_open_census_data/geometry/temp_small.geojson"
       },
       "encoding": {
        "color": {
         "field": "properties.CensusBureauGroup",
         "type": "nominal"
        }
       },
       "mark": "geoshape",
       "projection": {
        "reflectY": true,
        "type": "identity"
       }
      },
      "text/plain": [
       "<VegaLite 3 object>\n",
       "\n",
       "If you see this message, it means the renderer has not been properly enabled\n",
       "for the frontend that you are using. For more information, see\n",
       "https://altair-viz.github.io/user_guide/troubleshooting.html\n"
      ]
     },
     "execution_count": 13,
     "metadata": {},
     "output_type": "execute_result"
    }
   ],
   "source": [
    "# inline geojson data object\n",
    "data_geojson = alt.InlineData(values=url_geojson, format=alt.DataFormat(property='features',type='json')) \n",
    "\n",
    "# chart object\n",
    "alt.Chart(data_geojson).mark_geoshape(\n",
    ").encode(\n",
    "    color=\"properties.CensusBureauGroup:N\"\n",
    ").properties(\n",
    "    projection={'type': 'identity', 'reflectY': True}\n",
    ")"
   ]
  },
  {
   "cell_type": "code",
   "execution_count": 3,
   "metadata": {},
   "outputs": [
    {
     "name": "stdout",
     "output_type": "stream",
     "text": [
      "{'features': [{'geometry': {'coordinates': [[[0, 0],\n",
      "                                             [1, 0],\n",
      "                                             [1, 1],\n",
      "                                             [0, 1],\n",
      "                                             [0, 0]]],\n",
      "                            'type': 'Polygon'},\n",
      "               'properties': {'name': 'abc'},\n",
      "               'type': 'Feature'},\n",
      "              {'geometry': {'coordinates': [[[1, 0],\n",
      "                                             [2, 0],\n",
      "                                             [2, 1],\n",
      "                                             [1, 1],\n",
      "                                             [1, 0]]],\n",
      "                            'type': 'Polygon'},\n",
      "               'properties': {'name': 'def'},\n",
      "               'type': 'Feature'}],\n",
      " 'type': 'FeatureCollection'}\n"
     ]
    }
   ],
   "source": [
    "# https://stackoverflow.com/questions/55923300/how-can-i-make-a-map-using-geojson-data-in-altair\n",
    "feature_1 = geojson.Feature(\n",
    "    geometry=geojson.Polygon([[[0, 0], [1, 0], [1, 1], [0, 1], [0, 0]]]),\n",
    "    properties={\"name\":\"abc\"}\n",
    ")\n",
    "feature_2 = geojson.Feature(\n",
    "    geometry=geojson.Polygon([[[1, 0], [2, 0], [2, 1], [1, 1], [1, 0]]]),\n",
    "    properties={\"name\":\"def\"}\n",
    ")\n",
    "var_geojson = geojson.FeatureCollection([feature_1, feature_2])\n",
    "pprint.pprint(var_geojson)"
   ]
  },
  {
   "cell_type": "code",
   "execution_count": 4,
   "metadata": {},
   "outputs": [
    {
     "data": {
      "application/vnd.vegalite.v3+json": {
       "$schema": "https://vega.github.io/schema/vega-lite/v3.4.0.json",
       "config": {
        "mark": {
         "tooltip": null
        },
        "view": {
         "height": 300,
         "width": 400
        }
       },
       "data": {
        "format": {
         "property": "features",
         "type": "json"
        },
        "name": "data-a72faca7d66bcc716687d07d710f4daa"
       },
       "datasets": {
        "data-a72faca7d66bcc716687d07d710f4daa": {
         "features": [
          {
           "geometry": {
            "coordinates": [
             [
              [
               0,
               0
              ],
              [
               1,
               0
              ],
              [
               1,
               1
              ],
              [
               0,
               1
              ],
              [
               0,
               0
              ]
             ]
            ],
            "type": "Polygon"
           },
           "properties": {
            "name": "abc"
           },
           "type": "Feature"
          },
          {
           "geometry": {
            "coordinates": [
             [
              [
               1,
               0
              ],
              [
               2,
               0
              ],
              [
               2,
               1
              ],
              [
               1,
               1
              ],
              [
               1,
               0
              ]
             ]
            ],
            "type": "Polygon"
           },
           "properties": {
            "name": "def"
           },
           "type": "Feature"
          }
         ],
         "type": "FeatureCollection"
        }
       },
       "encoding": {
        "color": {
         "field": "properties.name",
         "type": "nominal"
        }
       },
       "mark": "geoshape",
       "projection": {
        "reflectY": true,
        "type": "identity"
       }
      },
      "image/png": "[encoded data removed]",
      "text/plain": [
       "<VegaLite 3 object>\n",
       "\n",
       "If you see this message, it means the renderer has not been properly enabled\n",
       "for the frontend that you are using. For more information, see\n",
       "https://altair-viz.github.io/user_guide/troubleshooting.html\n"
      ]
     },
     "execution_count": 4,
     "metadata": {},
     "output_type": "execute_result"
    }
   ],
   "source": [
    "# inline geojson data object\n",
    "data_geojson = alt.InlineData(values=var_geojson, format=alt.DataFormat(property='features',type='json')) \n",
    "\n",
    "# chart object\n",
    "alt.Chart(data_geojson).mark_geoshape(\n",
    ").encode(\n",
    "    color=\"properties.name:N\"\n",
    ").properties(\n",
    "    projection={'type': 'identity', 'reflectY': True}\n",
    ")"
   ]
  },
  {
   "cell_type": "code",
   "execution_count": null,
   "metadata": {},
   "outputs": [],
   "source": []
  }
 ],
 "metadata": {
  "kernelspec": {
   "display_name": "Python 3",
   "language": "python",
   "name": "python3"
  },
  "language_info": {
   "codemirror_mode": {
    "name": "ipython",
    "version": 3
   },
   "file_extension": ".py",
   "mimetype": "text/x-python",
   "name": "python",
   "nbconvert_exporter": "python",
   "pygments_lexer": "ipython3",
   "version": "3.8.3"
  }
 },
 "nbformat": 4,
 "nbformat_minor": 4
}
