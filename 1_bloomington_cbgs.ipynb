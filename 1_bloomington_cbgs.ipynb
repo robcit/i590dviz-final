{
 "cells": [
  {
   "cell_type": "markdown",
   "metadata": {},
   "source": [
    "# Examining Bloomington Census Populations\n",
    "\n",
    "This file shows my work examining the Census Bureau Groups (CBG) in Monroe County, IN.\n",
    "\n",
    "It incorporates weekly place data from SafeGraph, which describes how many residents (i.e. devices) reside in a specific CBG at a given point in time.\n",
    "\n",
    "I wanted to see the different in population between a week in the Summer and a week in the Winter when school is in session.  I arbitrarily chose *07/22/2019* and *02/03/2020* as the weeks to use for comparison.\n",
    "\n",
    "This also uses [GeoPandas](https://geopandas.org/) and census shape files to build the maps of the county and each CBG."
   ]
  },
  {
   "cell_type": "code",
   "execution_count": null,
   "metadata": {},
   "outputs": [],
   "source": [
    "# EXAMPLES: http://andrewgaidus.com/Dot_Density_County_Maps/\n",
    "\n",
    "import geojson\n",
    "import pandas as pd\n",
    "import altair as alt\n",
    "import pprint\n",
    "import json\n",
    "import geopandas as gpd\n",
    "import matplotlib.pyplot as plt"
   ]
  },
  {
   "cell_type": "code",
   "execution_count": null,
   "metadata": {},
   "outputs": [],
   "source": [
    "# Get count of devices residing in each CBG on 07/22/2019\n",
    "devices_residing07222019 = pd.read_csv('home_panel_data/2019-07-22-home-panel-summary.csv')\n",
    "\n",
    "devices_residing07222019 = devices_residing07222019.rename(columns={'number_devices_residing': 'devices07222019'})\n",
    "devices_residing07222019 = devices_residing07222019.drop(['date_range_start', 'date_range_end', 'state'], axis=1)\n",
    "\n",
    "devices_residing07222019.tail()"
   ]
  },
  {
   "cell_type": "code",
   "execution_count": null,
   "metadata": {},
   "outputs": [],
   "source": [
    "# Get count of devices residing in each CBG on 02/03/2020\n",
    "devices_residing02032020 = pd.read_csv('home_panel_data/2020-02-03-home-panel-summary.csv')\n",
    "\n",
    "devices_residing02032020 = devices_residing02032020.rename(columns={'number_devices_residing': 'devices02032020'})\n",
    "devices_residing02032020 = devices_residing02032020.drop(['date_range_start', 'date_range_end', 'state'], axis=1)\n",
    "\n",
    "devices_residing02032020.tail()"
   ]
  },
  {
   "cell_type": "code",
   "execution_count": null,
   "metadata": {},
   "outputs": [],
   "source": [
    "# Create a list of unique Census Block Groups for Bloomington, IN\n",
    "bton_cbgs = pd.read_csv('cbgs_data/bloomington_cbgs.csv')\n",
    "bton_cbgs.drop_duplicates('census_block_group', keep=False, inplace=True)\n",
    "bton_cbgs.count"
   ]
  },
  {
   "cell_type": "code",
   "execution_count": null,
   "metadata": {},
   "outputs": [],
   "source": [
    "# Merge dataframes so we have one dataframe that includes summer and winter population, population change, and percent change\n",
    "filtered_2019_df = pd.merge(bton_cbgs, devices_residing07222019, on=['census_block_group'])\n",
    "filtered_2020_df = pd.merge(devices_residing02032020, bton_cbgs, how='inner')\n",
    "\n",
    "bton_devices_residing = pd.merge(filtered_2019_df, filtered_2020_df, how='left', on='census_block_group')\n",
    "\n",
    "bton_devices_residing['pop_change'] = bton_devices_residing['devices02032020'] - bton_devices_residing['devices07222019']\n",
    "bton_devices_residing['pop_pct_change'] = (bton_devices_residing['pop_change'] / bton_devices_residing['devices07222019'])*100\n",
    "\n",
    "bton_devices_residing"
   ]
  },
  {
   "cell_type": "code",
   "execution_count": null,
   "metadata": {},
   "outputs": [],
   "source": [
    "# Chart the difference in population in an Altair scatter plot\n",
    "base_chart = alt.Chart(bton_devices_residing).mark_circle(size=60).encode(\n",
    "    alt.X('devices07222019',\n",
    "         axis=alt.Axis(title='Number of Resident Devices (Summer)')),\n",
    "    alt.Y('pop_pct_change:Q',\n",
    "        scale=alt.Scale(\n",
    "            domain=(0, 500),\n",
    "            clamp=True\n",
    "        ),\n",
    "        axis=alt.Axis(\n",
    "         title='Percent Population Change (Winter)'\n",
    "        )\n",
    "    ),\n",
    "    color=alt.Color('pop_change:Q',\n",
    "                    legend=alt.Legend(title='Percent Population Change')\n",
    "                   ),\n",
    "    tooltip=['pop_pct_change']\n",
    ").interactive().properties(width=800)\n",
    "\n",
    "base_chart"
   ]
  },
  {
   "cell_type": "code",
   "execution_count": null,
   "metadata": {},
   "outputs": [],
   "source": [
    "band_df = pd.DataFrame([{'x_min':0, 'x_max':260, 'y_min':0, 'y_max':100}])\n",
    "band = alt.Chart(band_df).mark_rect(color='firebrick', opacity=0.3).encode(\n",
    "    x='x_min:Q',\n",
    "    x2='x_max:Q',\n",
    "    y='y_min:Q',\n",
    "    y2='y_max:Q'\n",
    ")\n",
    "alt.layer(base_chart, band)"
   ]
  },
  {
   "cell_type": "code",
   "execution_count": null,
   "metadata": {},
   "outputs": [],
   "source": [
    "alt.Chart(bton_devices_residing).mark_bar().encode(\n",
    "    alt.X(\"census_block_group:N\", axis=None),\n",
    "    alt.Y(\"pop_pct_change:Q\",\n",
    "        axis=alt.Axis(\n",
    "         title='Percent Population Change (Summer to Winter)'\n",
    "        )\n",
    "    ),\n",
    "    color=alt.Color(\"pop_pct_change:N\", legend=None)\n",
    ").properties(width=800)"
   ]
  },
  {
   "cell_type": "code",
   "execution_count": null,
   "metadata": {},
   "outputs": [],
   "source": [
    "# Create a dataframe that only contains CBGs where the population increased by more than 100% from summer to winter\n",
    "bton_transient_df = bton_devices_residing[bton_devices_residing['pop_pct_change'] > 100]\n",
    "bton_transient_df"
   ]
  },
  {
   "cell_type": "code",
   "execution_count": null,
   "metadata": {},
   "outputs": [],
   "source": [
    "bton_transient_df.to_csv('cbgs_data/bton_transient_cbgs.csv')\n",
    "bton_transient_df.shape"
   ]
  },
  {
   "cell_type": "code",
   "execution_count": null,
   "metadata": {},
   "outputs": [],
   "source": [
    "# Create a dataframe that only contains CBGs where the population increased by more than 100% from summer to winter\n",
    "bton_static_df = bton_devices_residing[bton_devices_residing['pop_pct_change'] <= 100]\n",
    "bton_static_df"
   ]
  },
  {
   "cell_type": "code",
   "execution_count": null,
   "metadata": {},
   "outputs": [],
   "source": [
    "bton_static_df.to_csv('cbgs_data/bton_static_cbgs.csv')"
   ]
  },
  {
   "cell_type": "markdown",
   "metadata": {},
   "source": [
    "I now have two dataframes: one that includes the more transient census block groups (e.g. 'students') and one that is more static (e.g. year-round residents.)"
   ]
  },
  {
   "cell_type": "markdown",
   "metadata": {},
   "source": [
    "# Maps of Monroe County, IN\n",
    "I'd like to create maps of Monroe County that show the percent change in population between summer (July 2019) and winter (February 2020)"
   ]
  },
  {
   "cell_type": "code",
   "execution_count": null,
   "metadata": {},
   "outputs": [],
   "source": [
    "# https://medium.com/dataexplorations/creating-choropleth-maps-in-altair-eeb7085779a1\n",
    "# Source https://www.census.gov/cgi-bin/geo/shapefiles/index.php?year=2019&layergroup=Block+Groups\n",
    "gdf = gpd.read_file('census_indiana_shapefile/tl_2019_18_bg.shp')\n",
    "gdf.head()"
   ]
  },
  {
   "cell_type": "code",
   "execution_count": null,
   "metadata": {},
   "outputs": [],
   "source": [
    "# Filter for only CBGs in Monroe County ('015')\n",
    "gdf = gdf[gdf.COUNTYFP=='105']\n",
    "gdf.head()"
   ]
  },
  {
   "cell_type": "code",
   "execution_count": null,
   "metadata": {},
   "outputs": [],
   "source": [
    "gdf.shape"
   ]
  },
  {
   "cell_type": "code",
   "execution_count": null,
   "metadata": {},
   "outputs": [],
   "source": [
    "gdf.dtypes"
   ]
  },
  {
   "cell_type": "code",
   "execution_count": null,
   "metadata": {},
   "outputs": [],
   "source": [
    "gdf.plot()"
   ]
  },
  {
   "cell_type": "code",
   "execution_count": null,
   "metadata": {},
   "outputs": [],
   "source": [
    "# Need to convert the GEOID field in the geo dataframe to int64 so we can merge it with the other dataframe\n",
    "gdf.GEOID = gdf.GEOID.astype(int)"
   ]
  },
  {
   "cell_type": "code",
   "execution_count": null,
   "metadata": {},
   "outputs": [],
   "source": [
    "# Merge the bton_devices_residing dataframe with the geography dataframe\n",
    "gdf_merged = gdf.merge(bton_devices_residing, left_on='GEOID', right_on='census_block_group')\n",
    "gdf_merged.head()\n",
    "gdf_merged"
   ]
  },
  {
   "cell_type": "code",
   "execution_count": null,
   "metadata": {},
   "outputs": [],
   "source": [
    "# Add a column that shows if the row is a \"transient\" or \"static\" CBG\n",
    "gdf_merged['cbg_type'] = ['Transient' if x>100 else 'Static' for x in gdf_merged['pop_pct_change']]\n",
    "gdf_merged.tail()"
   ]
  },
  {
   "cell_type": "code",
   "execution_count": null,
   "metadata": {},
   "outputs": [],
   "source": [
    "# Now build a choropleth of the geographic data colored by percentage of population change from summer to winter\n",
    "gdf_merged.plot(column='pop_pct_change')"
   ]
  },
  {
   "cell_type": "code",
   "execution_count": null,
   "metadata": {},
   "outputs": [],
   "source": [
    "# And a choropleth of the different types of CBGs (transient vs. static)\n",
    "#plt.figure(figsize=(6,3))\n",
    "gdf_merged.plot(column='cbg_type',figsize=(12,15))"
   ]
  },
  {
   "cell_type": "code",
   "execution_count": null,
   "metadata": {},
   "outputs": [],
   "source": [
    "# Build the choropleth in Altair\n",
    "# Data for base map will have all CBGs (even those that have missing values)\n",
    "base_choro_json = json.loads(gdf.to_json())\n",
    "base_choro_data = alt.Data(values=base_choro_json['features'])\n",
    "\n",
    "# Data for choropleth layer will only include CBGs where data is found\n",
    "data_choro_json = json.loads(gdf_merged.to_json())\n",
    "data_choro_data = alt.Data(values=data_choro_json['features'])"
   ]
  },
  {
   "cell_type": "code",
   "execution_count": null,
   "metadata": {},
   "outputs": [],
   "source": [
    "# Create Base Layer\n",
    "base = alt.Chart(base_choro_data, title = 'Monroe County Census Bureau Groups').mark_geoshape(\n",
    "    stroke='black',\n",
    "    strokeWidth=1\n",
    ").encode(\n",
    "    tooltip='properties.GEOID:N'\n",
    ").properties(\n",
    "    width=800,\n",
    "    height=800\n",
    ")\n",
    "\n",
    "base"
   ]
  },
  {
   "cell_type": "code",
   "execution_count": null,
   "metadata": {},
   "outputs": [],
   "source": [
    "#Add Choropleth layer\n",
    "choro = alt.Chart(data_choro_data).mark_geoshape(\n",
    "\n",
    ").encode(\n",
    "    alt.Color('properties.pop_pct_change', \n",
    "              type='quantitative', \n",
    "              scale=alt.Scale(scheme='viridis'),\n",
    "              title = \"Percentage Population Change\"),\n",
    "    tooltip='properties.pop_pct_change:Q'\n",
    ")\n",
    "\n",
    "base + choro"
   ]
  },
  {
   "cell_type": "code",
   "execution_count": null,
   "metadata": {},
   "outputs": [],
   "source": [
    "# That choropleth sucks, so let's build one that only shows transient vs. static CBGs\n",
    "choro2 = alt.Chart(data_choro_data).mark_geoshape(\n",
    "\n",
    ").encode(\n",
    "    alt.Color('properties.cbg_type:N', \n",
    "              title = \"CBG Type\")\n",
    ")\n",
    "\n",
    "choro2"
   ]
  },
  {
   "cell_type": "code",
   "execution_count": null,
   "metadata": {},
   "outputs": [],
   "source": []
  }
 ],
 "metadata": {
  "kernelspec": {
   "display_name": "Python 3",
   "language": "python",
   "name": "python3"
  },
  "language_info": {
   "codemirror_mode": {
    "name": "ipython",
    "version": 3
   },
   "file_extension": ".py",
   "mimetype": "text/x-python",
   "name": "python",
   "nbconvert_exporter": "python",
   "pygments_lexer": "ipython3",
   "version": "3.8.3"
  }
 },
 "nbformat": 4,
 "nbformat_minor": 4
}
