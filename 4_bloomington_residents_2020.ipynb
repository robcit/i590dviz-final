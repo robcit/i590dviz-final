{
 "cells": [
  {
   "cell_type": "markdown",
   "metadata": {},
   "source": [
    "# Tracking Transient Residents in April 2020\n",
    "\n",
    "The visit data from April 2020 showed a significant decrease in visits by residents of the transient Bloomington CBGs.\n",
    "\n",
    "My initial reaction is that this was because of stay-at-home orders, but then I realized that the residents were *transient* and had likely left the CBGs.  \n",
    "\n",
    "I wanted to quickly ascertain if that was the case, so I will compare the populations of the CBGs between February 2020 and April 2020."
   ]
  },
  {
   "cell_type": "code",
   "execution_count": 66,
   "metadata": {},
   "outputs": [],
   "source": [
    "import pandas as pd\n",
    "import altair as alt"
   ]
  },
  {
   "cell_type": "code",
   "execution_count": 67,
   "metadata": {},
   "outputs": [
    {
     "data": {
      "text/html": [
       "<div>\n",
       "<style scoped>\n",
       "    .dataframe tbody tr th:only-of-type {\n",
       "        vertical-align: middle;\n",
       "    }\n",
       "\n",
       "    .dataframe tbody tr th {\n",
       "        vertical-align: top;\n",
       "    }\n",
       "\n",
       "    .dataframe thead th {\n",
       "        text-align: right;\n",
       "    }\n",
       "</style>\n",
       "<table border=\"1\" class=\"dataframe\">\n",
       "  <thead>\n",
       "    <tr style=\"text-align: right;\">\n",
       "      <th></th>\n",
       "      <th>census_block_group</th>\n",
       "      <th>devices02032020</th>\n",
       "      <th>month</th>\n",
       "    </tr>\n",
       "  </thead>\n",
       "  <tbody>\n",
       "    <tr>\n",
       "      <th>220159</th>\n",
       "      <td>560250017002</td>\n",
       "      <td>232</td>\n",
       "      <td>February</td>\n",
       "    </tr>\n",
       "    <tr>\n",
       "      <th>220160</th>\n",
       "      <td>560210010002</td>\n",
       "      <td>62</td>\n",
       "      <td>February</td>\n",
       "    </tr>\n",
       "    <tr>\n",
       "      <th>220161</th>\n",
       "      <td>560430002001</td>\n",
       "      <td>51</td>\n",
       "      <td>February</td>\n",
       "    </tr>\n",
       "    <tr>\n",
       "      <th>220162</th>\n",
       "      <td>560119503002</td>\n",
       "      <td>76</td>\n",
       "      <td>February</td>\n",
       "    </tr>\n",
       "    <tr>\n",
       "      <th>220163</th>\n",
       "      <td>560210015013</td>\n",
       "      <td>80</td>\n",
       "      <td>February</td>\n",
       "    </tr>\n",
       "  </tbody>\n",
       "</table>\n",
       "</div>"
      ],
      "text/plain": [
       "        census_block_group  devices02032020     month\n",
       "220159        560250017002              232  February\n",
       "220160        560210010002               62  February\n",
       "220161        560430002001               51  February\n",
       "220162        560119503002               76  February\n",
       "220163        560210015013               80  February"
      ]
     },
     "execution_count": 67,
     "metadata": {},
     "output_type": "execute_result"
    }
   ],
   "source": [
    "# Get count of devices residing in each CBG on 02/03/2020\n",
    "devices_residing02032020 = pd.read_csv('home_panel_data/2020-02-03-home-panel-summary.csv')\n",
    "\n",
    "devices_residing02032020 = devices_residing02032020.rename(columns={'number_devices_residing': 'devices02032020'})\n",
    "devices_residing02032020 = devices_residing02032020.drop(['date_range_start', 'date_range_end', 'state'], axis=1)\n",
    "devices_residing02032020['month'] = 'February'\n",
    "\n",
    "devices_residing02032020.tail()"
   ]
  },
  {
   "cell_type": "code",
   "execution_count": 68,
   "metadata": {},
   "outputs": [
    {
     "data": {
      "text/html": [
       "<div>\n",
       "<style scoped>\n",
       "    .dataframe tbody tr th:only-of-type {\n",
       "        vertical-align: middle;\n",
       "    }\n",
       "\n",
       "    .dataframe tbody tr th {\n",
       "        vertical-align: top;\n",
       "    }\n",
       "\n",
       "    .dataframe thead th {\n",
       "        text-align: right;\n",
       "    }\n",
       "</style>\n",
       "<table border=\"1\" class=\"dataframe\">\n",
       "  <thead>\n",
       "    <tr style=\"text-align: right;\">\n",
       "      <th></th>\n",
       "      <th>census_block_group</th>\n",
       "      <th>devices04132020</th>\n",
       "      <th>month</th>\n",
       "    </tr>\n",
       "  </thead>\n",
       "  <tbody>\n",
       "    <tr>\n",
       "      <th>219922</th>\n",
       "      <td>560399678004</td>\n",
       "      <td>27</td>\n",
       "      <td>April</td>\n",
       "    </tr>\n",
       "    <tr>\n",
       "      <th>219923</th>\n",
       "      <td>560050001002</td>\n",
       "      <td>149</td>\n",
       "      <td>April</td>\n",
       "    </tr>\n",
       "    <tr>\n",
       "      <th>219924</th>\n",
       "      <td>560210011001</td>\n",
       "      <td>21</td>\n",
       "      <td>April</td>\n",
       "    </tr>\n",
       "    <tr>\n",
       "      <th>219925</th>\n",
       "      <td>560039628003</td>\n",
       "      <td>48</td>\n",
       "      <td>April</td>\n",
       "    </tr>\n",
       "    <tr>\n",
       "      <th>219926</th>\n",
       "      <td>560019627001</td>\n",
       "      <td>89</td>\n",
       "      <td>April</td>\n",
       "    </tr>\n",
       "  </tbody>\n",
       "</table>\n",
       "</div>"
      ],
      "text/plain": [
       "        census_block_group  devices04132020  month\n",
       "219922        560399678004               27  April\n",
       "219923        560050001002              149  April\n",
       "219924        560210011001               21  April\n",
       "219925        560039628003               48  April\n",
       "219926        560019627001               89  April"
      ]
     },
     "execution_count": 68,
     "metadata": {},
     "output_type": "execute_result"
    }
   ],
   "source": [
    "# Get count of devices residing in each CBG on 02/03/2020\n",
    "devices_residing04132020 = pd.read_csv('home_panel_data/2020-04-13-home-panel-summary.csv')\n",
    "\n",
    "devices_residing04132020 = devices_residing04132020.rename(columns={'number_devices_residing': 'devices04132020'})\n",
    "devices_residing04132020 = devices_residing04132020.drop(['date_range_start', 'date_range_end', 'state'], axis=1)\n",
    "devices_residing04132020['month'] = 'April'\n",
    "\n",
    "devices_residing04132020.tail()"
   ]
  },
  {
   "cell_type": "code",
   "execution_count": 69,
   "metadata": {},
   "outputs": [
    {
     "data": {
      "text/plain": [
       "<bound method DataFrame.count of     census_block_group\n",
       "0         181050001001\n",
       "1         181050001002\n",
       "2         181050001003\n",
       "3         181050002011\n",
       "4         181050002012\n",
       "..                 ...\n",
       "87        181050015022\n",
       "88        181050016001\n",
       "89        181050016002\n",
       "90        181050016003\n",
       "91        181199559003\n",
       "\n",
       "[92 rows x 1 columns]>"
      ]
     },
     "execution_count": 69,
     "metadata": {},
     "output_type": "execute_result"
    }
   ],
   "source": [
    "# Create a list of unique Census Block Groups for Bloomington, IN\n",
    "bton_cbgs = pd.read_csv('cbgs_data/bloomington_cbgs.csv')\n",
    "bton_cbgs.drop_duplicates('census_block_group', keep=False, inplace=True)\n",
    "bton_cbgs.count"
   ]
  },
  {
   "cell_type": "code",
   "execution_count": 70,
   "metadata": {},
   "outputs": [
    {
     "data": {
      "text/html": [
       "<div>\n",
       "<style scoped>\n",
       "    .dataframe tbody tr th:only-of-type {\n",
       "        vertical-align: middle;\n",
       "    }\n",
       "\n",
       "    .dataframe tbody tr th {\n",
       "        vertical-align: top;\n",
       "    }\n",
       "\n",
       "    .dataframe thead th {\n",
       "        text-align: right;\n",
       "    }\n",
       "</style>\n",
       "<table border=\"1\" class=\"dataframe\">\n",
       "  <thead>\n",
       "    <tr style=\"text-align: right;\">\n",
       "      <th></th>\n",
       "      <th>census_block_group</th>\n",
       "      <th>devices02032020</th>\n",
       "      <th>month_x</th>\n",
       "      <th>devices04132020</th>\n",
       "      <th>month_y</th>\n",
       "      <th>pop_change</th>\n",
       "      <th>pop_pct_change</th>\n",
       "    </tr>\n",
       "  </thead>\n",
       "  <tbody>\n",
       "    <tr>\n",
       "      <th>0</th>\n",
       "      <td>181050001001</td>\n",
       "      <td>106</td>\n",
       "      <td>February</td>\n",
       "      <td>62</td>\n",
       "      <td>April</td>\n",
       "      <td>-44</td>\n",
       "      <td>-41.509434</td>\n",
       "    </tr>\n",
       "    <tr>\n",
       "      <th>1</th>\n",
       "      <td>181050001002</td>\n",
       "      <td>122</td>\n",
       "      <td>February</td>\n",
       "      <td>61</td>\n",
       "      <td>April</td>\n",
       "      <td>-61</td>\n",
       "      <td>-50.000000</td>\n",
       "    </tr>\n",
       "    <tr>\n",
       "      <th>2</th>\n",
       "      <td>181050001003</td>\n",
       "      <td>91</td>\n",
       "      <td>February</td>\n",
       "      <td>49</td>\n",
       "      <td>April</td>\n",
       "      <td>-42</td>\n",
       "      <td>-46.153846</td>\n",
       "    </tr>\n",
       "    <tr>\n",
       "      <th>3</th>\n",
       "      <td>181050002011</td>\n",
       "      <td>108</td>\n",
       "      <td>February</td>\n",
       "      <td>54</td>\n",
       "      <td>April</td>\n",
       "      <td>-54</td>\n",
       "      <td>-50.000000</td>\n",
       "    </tr>\n",
       "    <tr>\n",
       "      <th>4</th>\n",
       "      <td>181050002012</td>\n",
       "      <td>169</td>\n",
       "      <td>February</td>\n",
       "      <td>72</td>\n",
       "      <td>April</td>\n",
       "      <td>-97</td>\n",
       "      <td>-57.396450</td>\n",
       "    </tr>\n",
       "    <tr>\n",
       "      <th>...</th>\n",
       "      <td>...</td>\n",
       "      <td>...</td>\n",
       "      <td>...</td>\n",
       "      <td>...</td>\n",
       "      <td>...</td>\n",
       "      <td>...</td>\n",
       "      <td>...</td>\n",
       "    </tr>\n",
       "    <tr>\n",
       "      <th>87</th>\n",
       "      <td>181050015022</td>\n",
       "      <td>72</td>\n",
       "      <td>February</td>\n",
       "      <td>49</td>\n",
       "      <td>April</td>\n",
       "      <td>-23</td>\n",
       "      <td>-31.944444</td>\n",
       "    </tr>\n",
       "    <tr>\n",
       "      <th>88</th>\n",
       "      <td>181050016001</td>\n",
       "      <td>219</td>\n",
       "      <td>February</td>\n",
       "      <td>125</td>\n",
       "      <td>April</td>\n",
       "      <td>-94</td>\n",
       "      <td>-42.922374</td>\n",
       "    </tr>\n",
       "    <tr>\n",
       "      <th>89</th>\n",
       "      <td>181050016002</td>\n",
       "      <td>139</td>\n",
       "      <td>February</td>\n",
       "      <td>76</td>\n",
       "      <td>April</td>\n",
       "      <td>-63</td>\n",
       "      <td>-45.323741</td>\n",
       "    </tr>\n",
       "    <tr>\n",
       "      <th>90</th>\n",
       "      <td>181050016003</td>\n",
       "      <td>79</td>\n",
       "      <td>February</td>\n",
       "      <td>36</td>\n",
       "      <td>April</td>\n",
       "      <td>-43</td>\n",
       "      <td>-54.430380</td>\n",
       "    </tr>\n",
       "    <tr>\n",
       "      <th>91</th>\n",
       "      <td>181199559003</td>\n",
       "      <td>107</td>\n",
       "      <td>February</td>\n",
       "      <td>69</td>\n",
       "      <td>April</td>\n",
       "      <td>-38</td>\n",
       "      <td>-35.514019</td>\n",
       "    </tr>\n",
       "  </tbody>\n",
       "</table>\n",
       "<p>92 rows × 7 columns</p>\n",
       "</div>"
      ],
      "text/plain": [
       "    census_block_group  devices02032020   month_x  devices04132020 month_y  \\\n",
       "0         181050001001              106  February               62   April   \n",
       "1         181050001002              122  February               61   April   \n",
       "2         181050001003               91  February               49   April   \n",
       "3         181050002011              108  February               54   April   \n",
       "4         181050002012              169  February               72   April   \n",
       "..                 ...              ...       ...              ...     ...   \n",
       "87        181050015022               72  February               49   April   \n",
       "88        181050016001              219  February              125   April   \n",
       "89        181050016002              139  February               76   April   \n",
       "90        181050016003               79  February               36   April   \n",
       "91        181199559003              107  February               69   April   \n",
       "\n",
       "    pop_change  pop_pct_change  \n",
       "0          -44      -41.509434  \n",
       "1          -61      -50.000000  \n",
       "2          -42      -46.153846  \n",
       "3          -54      -50.000000  \n",
       "4          -97      -57.396450  \n",
       "..         ...             ...  \n",
       "87         -23      -31.944444  \n",
       "88         -94      -42.922374  \n",
       "89         -63      -45.323741  \n",
       "90         -43      -54.430380  \n",
       "91         -38      -35.514019  \n",
       "\n",
       "[92 rows x 7 columns]"
      ]
     },
     "execution_count": 70,
     "metadata": {},
     "output_type": "execute_result"
    }
   ],
   "source": [
    "# Merge dataframes so we have one dataframe that includes February and April population, population change, and percent change\n",
    "filtered_feb_df = pd.merge(bton_cbgs, devices_residing02032020, on=['census_block_group'])\n",
    "filtered_april_df = pd.merge(devices_residing04132020, bton_cbgs, how='inner')\n",
    "\n",
    "bton_devices_residing = pd.merge(filtered_feb_df, filtered_april_df, how='left', on='census_block_group')\n",
    "\n",
    "bton_devices_residing['pop_change'] = bton_devices_residing['devices04132020'] - bton_devices_residing['devices02032020']\n",
    "bton_devices_residing['pop_pct_change'] = (bton_devices_residing['pop_change'] / bton_devices_residing['devices02032020'])*100\n",
    "\n",
    "bton_devices_residing"
   ]
  },
  {
   "cell_type": "code",
   "execution_count": 71,
   "metadata": {},
   "outputs": [
    {
     "data": {
      "text/plain": [
       "array([181050002011, 181050002012, 181050002013, 181050002021,\n",
       "       181050002022, 181050003014, 181050003021, 181050007003,\n",
       "       181050012002, 181050012005, 181050013014, 181050014012,\n",
       "       181050016001, 181050016002, 181050016003])"
      ]
     },
     "execution_count": 71,
     "metadata": {},
     "output_type": "execute_result"
    }
   ],
   "source": [
    "# Get a list of our transient CBGs\n",
    "bton_transient_cbgs = pd.read_csv('cbgs_data/bton_transient_cbgs.csv')\n",
    "bton_transient_cbgs.tail()\n",
    "bton_transient = bton_transient_cbgs['census_block_group'].to_numpy()\n",
    "bton_transient"
   ]
  },
  {
   "cell_type": "code",
   "execution_count": 75,
   "metadata": {},
   "outputs": [
    {
     "data": {
      "text/plain": [
       "(15, 7)"
      ]
     },
     "execution_count": 75,
     "metadata": {},
     "output_type": "execute_result"
    }
   ],
   "source": [
    "# Filter to only show the difference in resident devices in transient CBGs\n",
    "bton_transient_cbg_devices = bton_devices_residing[bton_devices_residing.census_block_group.isin(bton_transient)]\n",
    "bton_transient_cbg_devices.shape"
   ]
  },
  {
   "cell_type": "code",
   "execution_count": 89,
   "metadata": {},
   "outputs": [
    {
     "data": {
      "application/vnd.vegalite.v3+json": {
       "$schema": "https://vega.github.io/schema/vega-lite/v3.4.0.json",
       "config": {
        "mark": {
         "tooltip": null
        },
        "view": {
         "height": 300,
         "width": 400
        }
       },
       "data": {
        "name": "data-c5df4aad7f80c3bd2c6a25e00a617ff5"
       },
       "datasets": {
        "data-c5df4aad7f80c3bd2c6a25e00a617ff5": [
         {
          "census_block_group": 181050002011,
          "devices02032020": 108,
          "devices04132020": 54,
          "month_x": "February",
          "month_y": "April",
          "pop_change": -54,
          "pop_pct_change": -50
         },
         {
          "census_block_group": 181050002012,
          "devices02032020": 169,
          "devices04132020": 72,
          "month_x": "February",
          "month_y": "April",
          "pop_change": -97,
          "pop_pct_change": -57.396449704142015
         },
         {
          "census_block_group": 181050002013,
          "devices02032020": 94,
          "devices04132020": 51,
          "month_x": "February",
          "month_y": "April",
          "pop_change": -43,
          "pop_pct_change": -45.744680851063826
         },
         {
          "census_block_group": 181050002021,
          "devices02032020": 428,
          "devices04132020": 199,
          "month_x": "February",
          "month_y": "April",
          "pop_change": -229,
          "pop_pct_change": -53.50467289719626
         },
         {
          "census_block_group": 181050002022,
          "devices02032020": 327,
          "devices04132020": 155,
          "month_x": "February",
          "month_y": "April",
          "pop_change": -172,
          "pop_pct_change": -52.59938837920489
         },
         {
          "census_block_group": 181050003014,
          "devices02032020": 66,
          "devices04132020": 23,
          "month_x": "February",
          "month_y": "April",
          "pop_change": -43,
          "pop_pct_change": -65.15151515151516
         },
         {
          "census_block_group": 181050003021,
          "devices02032020": 56,
          "devices04132020": 23,
          "month_x": "February",
          "month_y": "April",
          "pop_change": -33,
          "pop_pct_change": -58.92857142857143
         },
         {
          "census_block_group": 181050007003,
          "devices02032020": 141,
          "devices04132020": 36,
          "month_x": "February",
          "month_y": "April",
          "pop_change": -105,
          "pop_pct_change": -74.46808510638297
         },
         {
          "census_block_group": 181050012002,
          "devices02032020": 135,
          "devices04132020": 64,
          "month_x": "February",
          "month_y": "April",
          "pop_change": -71,
          "pop_pct_change": -52.59259259259259
         },
         {
          "census_block_group": 181050012005,
          "devices02032020": 181,
          "devices04132020": 41,
          "month_x": "February",
          "month_y": "April",
          "pop_change": -140,
          "pop_pct_change": -77.34806629834254
         },
         {
          "census_block_group": 181050013014,
          "devices02032020": 116,
          "devices04132020": 51,
          "month_x": "February",
          "month_y": "April",
          "pop_change": -65,
          "pop_pct_change": -56.03448275862068
         },
         {
          "census_block_group": 181050014012,
          "devices02032020": 60,
          "devices04132020": 36,
          "month_x": "February",
          "month_y": "April",
          "pop_change": -24,
          "pop_pct_change": -40
         },
         {
          "census_block_group": 181050016001,
          "devices02032020": 219,
          "devices04132020": 125,
          "month_x": "February",
          "month_y": "April",
          "pop_change": -94,
          "pop_pct_change": -42.922374429223744
         },
         {
          "census_block_group": 181050016002,
          "devices02032020": 139,
          "devices04132020": 76,
          "month_x": "February",
          "month_y": "April",
          "pop_change": -63,
          "pop_pct_change": -45.32374100719424
         },
         {
          "census_block_group": 181050016003,
          "devices02032020": 79,
          "devices04132020": 36,
          "month_x": "February",
          "month_y": "April",
          "pop_change": -43,
          "pop_pct_change": -54.43037974683544
         }
        ]
       },
       "layer": [
        {
         "encoding": {
          "color": {
           "field": "month_x",
           "legend": {
            "title": "February"
           },
           "type": "nominal"
          },
          "x": {
           "axis": {
            "title": "Census Block Group"
           },
           "field": "census_block_group",
           "type": "nominal"
          },
          "y": {
           "axis": {
            "title": "Number of Resident Devices"
           },
           "field": "devices02032020",
           "type": "quantitative"
          }
         },
         "mark": {
          "color": "red",
          "type": "bar"
         }
        },
        {
         "encoding": {
          "color": {
           "field": "month_y",
           "legend": {
            "title": "April"
           },
           "type": "nominal"
          },
          "x": {
           "axis": {
            "title": "Census Block Group"
           },
           "field": "census_block_group",
           "type": "nominal"
          },
          "y": {
           "axis": {
            "title": "Number of Resident Devices"
           },
           "field": "devices04132020",
           "type": "quantitative"
          }
         },
         "mark": "bar",
         "title": "Change in Number of Resident Devices February-April 2020",
         "width": 800
        },
        {
         "encoding": {
          "color": {
           "field": "month_x",
           "legend": {
            "title": "February"
           },
           "type": "nominal"
          },
          "text": {
           "field": "pop_change",
           "type": "quantitative"
          },
          "x": {
           "axis": {
            "title": "Census Block Group"
           },
           "field": "census_block_group",
           "type": "nominal"
          },
          "y": {
           "axis": {
            "title": "Number of Resident Devices"
           },
           "field": "devices02032020",
           "type": "quantitative"
          }
         },
         "mark": {
          "dy": -4,
          "type": "text"
         }
        }
       ]
      },
      "image/png": "[encoded data removed]",
      "text/plain": [
       "<VegaLite 3 object>\n",
       "\n",
       "If you see this message, it means the renderer has not been properly enabled\n",
       "for the frontend that you are using. For more information, see\n",
       "https://altair-viz.github.io/user_guide/troubleshooting.html\n"
      ]
     },
     "execution_count": 89,
     "metadata": {},
     "output_type": "execute_result"
    }
   ],
   "source": [
    "# Chart the difference in population in an Altair scatter plot\n",
    "\n",
    "feb_chart = alt.Chart(bton_transient_cbg_devices).mark_bar(color='red').encode(\n",
    "    alt.X('census_block_group:N',\n",
    "         axis=alt.Axis(title='Census Block Group')),\n",
    "    alt.Y('devices02032020:Q',\n",
    "        axis=alt.Axis(\n",
    "         title='Number of Resident Devices'\n",
    "        )\n",
    "    ),\n",
    "    color=alt.Color('month_x', legend=alt.Legend(title=\"February\"))\n",
    ")\n",
    "\n",
    "april_chart = alt.Chart(bton_transient_cbg_devices).mark_bar().encode(\n",
    "    alt.X('census_block_group:N',\n",
    "         axis=alt.Axis(title='Census Block Group')\n",
    "         ),\n",
    "    alt.Y('devices04132020:Q',\n",
    "         axis=alt.Axis(\n",
    "         title='Number of Resident Devices'\n",
    "        )\n",
    "    ),\n",
    "    color=alt.Color('month_y', legend=alt.Legend(title=\"April\"))\n",
    ").properties(\n",
    "    width=800,\n",
    "    title='Change in Number of Resident Devices in Transient CBGs February-April 2020')\n",
    "\n",
    "pct_change_chart_text = feb_chart.mark_text(dy=-4).encode(text='pop_change:Q')\n",
    "\n",
    "feb_chart + april_chart + pct_change_chart_text"
   ]
  },
  {
   "cell_type": "code",
   "execution_count": null,
   "metadata": {},
   "outputs": [],
   "source": []
  }
 ],
 "metadata": {
  "kernelspec": {
   "display_name": "Python 3",
   "language": "python",
   "name": "python3"
  },
  "language_info": {
   "codemirror_mode": {
    "name": "ipython",
    "version": 3
   },
   "file_extension": ".py",
   "mimetype": "text/x-python",
   "name": "python",
   "nbconvert_exporter": "python",
   "pygments_lexer": "ipython3",
   "version": "3.8.3"
  }
 },
 "nbformat": 4,
 "nbformat_minor": 4
}
