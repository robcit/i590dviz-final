{
 "cells": [
  {
   "cell_type": "markdown",
   "metadata": {},
   "source": [
    "# Bloomington Places Summary\n",
    "\n",
    "This file shows information about places in Bloomington regardless of where the visitors are coming from.\n",
    "\n",
    "This CSV is the result of a query across all of my 8 tables in BigQuery that hold visit data for January - April 2019 and January - April 2020.\n",
    "\n",
    "Most importantly, this data contains the North American Industry Classification System (NAICS) code for each establishment (which my previous datasets did not include), so I can easily query this data for specific _types_ of establishments (restaurants, etc.)\n",
    "\n",
    "It also contains some custom fields (latlong, etc.) that were to be used in Google Data Studio."
   ]
  },
  {
   "cell_type": "code",
   "execution_count": 81,
   "metadata": {},
   "outputs": [
    {
     "ename": "ModuleNotFoundError",
     "evalue": "No module named 'seaborn'",
     "output_type": "error",
     "traceback": [
      "\u001b[0;31m---------------------------------------------------------------------------\u001b[0m",
      "\u001b[0;31mModuleNotFoundError\u001b[0m                       Traceback (most recent call last)",
      "\u001b[0;32m<ipython-input-81-45fe6997a14a>\u001b[0m in \u001b[0;36m<module>\u001b[0;34m\u001b[0m\n\u001b[1;32m      2\u001b[0m \u001b[0;32mimport\u001b[0m \u001b[0maltair\u001b[0m \u001b[0;32mas\u001b[0m \u001b[0malt\u001b[0m\u001b[0;34m\u001b[0m\u001b[0;34m\u001b[0m\u001b[0m\n\u001b[1;32m      3\u001b[0m \u001b[0;32mimport\u001b[0m \u001b[0mast\u001b[0m\u001b[0;34m\u001b[0m\u001b[0;34m\u001b[0m\u001b[0m\n\u001b[0;32m----> 4\u001b[0;31m \u001b[0;32mimport\u001b[0m \u001b[0mseaborn\u001b[0m \u001b[0;32mas\u001b[0m \u001b[0msns\u001b[0m\u001b[0;34m\u001b[0m\u001b[0;34m\u001b[0m\u001b[0m\n\u001b[0m",
      "\u001b[0;31mModuleNotFoundError\u001b[0m: No module named 'seaborn'"
     ]
    }
   ],
   "source": [
    "import pandas as pd\n",
    "import altair as alt\n",
    "import ast\n",
    "import seaborn as sns"
   ]
  },
  {
   "cell_type": "code",
   "execution_count": 2,
   "metadata": {},
   "outputs": [
    {
     "data": {
      "text/html": [
       "<div>\n",
       "<style scoped>\n",
       "    .dataframe tbody tr th:only-of-type {\n",
       "        vertical-align: middle;\n",
       "    }\n",
       "\n",
       "    .dataframe tbody tr th {\n",
       "        vertical-align: top;\n",
       "    }\n",
       "\n",
       "    .dataframe thead th {\n",
       "        text-align: right;\n",
       "    }\n",
       "</style>\n",
       "<table border=\"1\" class=\"dataframe\">\n",
       "  <thead>\n",
       "    <tr style=\"text-align: right;\">\n",
       "      <th></th>\n",
       "      <th>safegraph_place_id</th>\n",
       "      <th>location_name</th>\n",
       "      <th>naics_code</th>\n",
       "      <th>latitude</th>\n",
       "      <th>longitude</th>\n",
       "      <th>latlong</th>\n",
       "      <th>street_address</th>\n",
       "      <th>city</th>\n",
       "      <th>region</th>\n",
       "      <th>postal_code</th>\n",
       "      <th>...</th>\n",
       "      <th>date_range_end</th>\n",
       "      <th>month</th>\n",
       "      <th>year</th>\n",
       "      <th>raw_visit_counts</th>\n",
       "      <th>raw_visitor_counts</th>\n",
       "      <th>visits_by_day</th>\n",
       "      <th>poi_cbg</th>\n",
       "      <th>visitor_home_cbgs</th>\n",
       "      <th>popularity_by_hour</th>\n",
       "      <th>popularity_by_day</th>\n",
       "    </tr>\n",
       "  </thead>\n",
       "  <tbody>\n",
       "    <tr>\n",
       "      <th>13903</th>\n",
       "      <td>sg:83cd5c368e584d85b153fe72a404ef4e</td>\n",
       "      <td>The Prep School</td>\n",
       "      <td>611110.0</td>\n",
       "      <td>39.178768</td>\n",
       "      <td>-86.539315</td>\n",
       "      <td>39.178768,-86.539315</td>\n",
       "      <td>525 W 17th St</td>\n",
       "      <td>Bloomington</td>\n",
       "      <td>IN</td>\n",
       "      <td>47404</td>\n",
       "      <td>...</td>\n",
       "      <td>2020-03-01 05:00:00 UTC</td>\n",
       "      <td>2</td>\n",
       "      <td>2020</td>\n",
       "      <td>18</td>\n",
       "      <td>13</td>\n",
       "      <td>[0,1,1,2,0,0,1,0,0,3,1,0,0,1,0,2,1,0,0,1,1,1,0...</td>\n",
       "      <td>181050006012</td>\n",
       "      <td>{}</td>\n",
       "      <td>[1,1,2,1,1,2,3,2,3,3,3,2,2,2,2,4,1,2,1,3,3,6,5,3]</td>\n",
       "      <td>{\"Monday\":5,\"Tuesday\":3,\"Wednesday\":0,\"Thursda...</td>\n",
       "    </tr>\n",
       "    <tr>\n",
       "      <th>13904</th>\n",
       "      <td>sg:83cd5c368e584d85b153fe72a404ef4e</td>\n",
       "      <td>The Prep School</td>\n",
       "      <td>611110.0</td>\n",
       "      <td>39.178768</td>\n",
       "      <td>-86.539315</td>\n",
       "      <td>39.178768,-86.539315</td>\n",
       "      <td>525 W 17th St</td>\n",
       "      <td>Bloomington</td>\n",
       "      <td>IN</td>\n",
       "      <td>47404</td>\n",
       "      <td>...</td>\n",
       "      <td>2020-04-01 04:00:00 UTC</td>\n",
       "      <td>3</td>\n",
       "      <td>2020</td>\n",
       "      <td>25</td>\n",
       "      <td>13</td>\n",
       "      <td>[1,1,0,0,0,2,0,0,1,1,1,2,1,0,3,0,2,2,1,2,0,1,0...</td>\n",
       "      <td>181050006012</td>\n",
       "      <td>{\"181050013033\":5,\"181050013031\":4,\"1810500060...</td>\n",
       "      <td>[8,8,8,7,7,8,8,8,8,7,7,8,12,10,11,9,9,8,5,3,8,...</td>\n",
       "      <td>{\"Monday\":2,\"Tuesday\":3,\"Wednesday\":3,\"Thursda...</td>\n",
       "    </tr>\n",
       "    <tr>\n",
       "      <th>13905</th>\n",
       "      <td>sg:83cd5c368e584d85b153fe72a404ef4e</td>\n",
       "      <td>The Prep School</td>\n",
       "      <td>611110.0</td>\n",
       "      <td>39.178768</td>\n",
       "      <td>-86.539315</td>\n",
       "      <td>39.178768,-86.539315</td>\n",
       "      <td>525 W 17th St</td>\n",
       "      <td>Bloomington</td>\n",
       "      <td>IN</td>\n",
       "      <td>47404</td>\n",
       "      <td>...</td>\n",
       "      <td>2020-02-01 05:00:00 UTC</td>\n",
       "      <td>1</td>\n",
       "      <td>2020</td>\n",
       "      <td>31</td>\n",
       "      <td>19</td>\n",
       "      <td>[0,0,1,0,0,6,3,1,1,3,2,0,1,1,0,1,0,0,0,0,0,0,2...</td>\n",
       "      <td>181050006012</td>\n",
       "      <td>{\"181050013043\":4,\"181050002021\":4,\"1809395080...</td>\n",
       "      <td>[6,6,4,3,3,3,3,3,4,5,4,6,6,6,4,8,7,6,4,3,6,8,6,6]</td>\n",
       "      <td>{\"Monday\":8,\"Tuesday\":4,\"Wednesday\":3,\"Thursda...</td>\n",
       "    </tr>\n",
       "    <tr>\n",
       "      <th>13906</th>\n",
       "      <td>sg:83cd5c368e584d85b153fe72a404ef4e</td>\n",
       "      <td>The Prep School</td>\n",
       "      <td>611110.0</td>\n",
       "      <td>39.178768</td>\n",
       "      <td>-86.539315</td>\n",
       "      <td>39.178768,-86.539315</td>\n",
       "      <td>525 W 17th St</td>\n",
       "      <td>Bloomington</td>\n",
       "      <td>IN</td>\n",
       "      <td>47404</td>\n",
       "      <td>...</td>\n",
       "      <td>2019-04-01 04:00:00 UTC</td>\n",
       "      <td>3</td>\n",
       "      <td>2019</td>\n",
       "      <td>62</td>\n",
       "      <td>25</td>\n",
       "      <td>[2,1,0,0,3,2,3,2,0,1,0,1,1,0,1,0,0,4,1,3,3,4,0...</td>\n",
       "      <td>181050006012</td>\n",
       "      <td>{\"181050006021\":9,\"181050004021\":4}</td>\n",
       "      <td>[16,15,14,13,12,13,12,12,14,14,14,8,7,8,9,10,1...</td>\n",
       "      <td>{\"Monday\":9,\"Tuesday\":12,\"Wednesday\":11,\"Thurs...</td>\n",
       "    </tr>\n",
       "    <tr>\n",
       "      <th>13907</th>\n",
       "      <td>sg:83cd5c368e584d85b153fe72a404ef4e</td>\n",
       "      <td>The Prep School</td>\n",
       "      <td>611110.0</td>\n",
       "      <td>39.178768</td>\n",
       "      <td>-86.539315</td>\n",
       "      <td>39.178768,-86.539315</td>\n",
       "      <td>525 W 17th St</td>\n",
       "      <td>Bloomington</td>\n",
       "      <td>IN</td>\n",
       "      <td>47404</td>\n",
       "      <td>...</td>\n",
       "      <td>2019-02-01 05:00:00 UTC</td>\n",
       "      <td>1</td>\n",
       "      <td>2019</td>\n",
       "      <td>29</td>\n",
       "      <td>11</td>\n",
       "      <td>[0,2,0,0,0,0,4,0,1,0,3,2,3,0,1,3,0,1,0,1,3,0,0...</td>\n",
       "      <td>181050006012</td>\n",
       "      <td>{\"181050010013\":4,\"181050006021\":4}</td>\n",
       "      <td>[6,9,10,9,8,8,9,9,8,6,4,2,3,3,3,1,3,4,2,7,8,6,...</td>\n",
       "      <td>{\"Monday\":7,\"Tuesday\":1,\"Wednesday\":7,\"Thursda...</td>\n",
       "    </tr>\n",
       "  </tbody>\n",
       "</table>\n",
       "<p>5 rows × 22 columns</p>\n",
       "</div>"
      ],
      "text/plain": [
       "                        safegraph_place_id    location_name  naics_code  \\\n",
       "13903  sg:83cd5c368e584d85b153fe72a404ef4e  The Prep School    611110.0   \n",
       "13904  sg:83cd5c368e584d85b153fe72a404ef4e  The Prep School    611110.0   \n",
       "13905  sg:83cd5c368e584d85b153fe72a404ef4e  The Prep School    611110.0   \n",
       "13906  sg:83cd5c368e584d85b153fe72a404ef4e  The Prep School    611110.0   \n",
       "13907  sg:83cd5c368e584d85b153fe72a404ef4e  The Prep School    611110.0   \n",
       "\n",
       "        latitude  longitude               latlong street_address         city  \\\n",
       "13903  39.178768 -86.539315  39.178768,-86.539315  525 W 17th St  Bloomington   \n",
       "13904  39.178768 -86.539315  39.178768,-86.539315  525 W 17th St  Bloomington   \n",
       "13905  39.178768 -86.539315  39.178768,-86.539315  525 W 17th St  Bloomington   \n",
       "13906  39.178768 -86.539315  39.178768,-86.539315  525 W 17th St  Bloomington   \n",
       "13907  39.178768 -86.539315  39.178768,-86.539315  525 W 17th St  Bloomington   \n",
       "\n",
       "      region  postal_code  ...           date_range_end month  year  \\\n",
       "13903     IN        47404  ...  2020-03-01 05:00:00 UTC     2  2020   \n",
       "13904     IN        47404  ...  2020-04-01 04:00:00 UTC     3  2020   \n",
       "13905     IN        47404  ...  2020-02-01 05:00:00 UTC     1  2020   \n",
       "13906     IN        47404  ...  2019-04-01 04:00:00 UTC     3  2019   \n",
       "13907     IN        47404  ...  2019-02-01 05:00:00 UTC     1  2019   \n",
       "\n",
       "       raw_visit_counts  raw_visitor_counts  \\\n",
       "13903                18                  13   \n",
       "13904                25                  13   \n",
       "13905                31                  19   \n",
       "13906                62                  25   \n",
       "13907                29                  11   \n",
       "\n",
       "                                           visits_by_day       poi_cbg  \\\n",
       "13903  [0,1,1,2,0,0,1,0,0,3,1,0,0,1,0,2,1,0,0,1,1,1,0...  181050006012   \n",
       "13904  [1,1,0,0,0,2,0,0,1,1,1,2,1,0,3,0,2,2,1,2,0,1,0...  181050006012   \n",
       "13905  [0,0,1,0,0,6,3,1,1,3,2,0,1,1,0,1,0,0,0,0,0,0,2...  181050006012   \n",
       "13906  [2,1,0,0,3,2,3,2,0,1,0,1,1,0,1,0,0,4,1,3,3,4,0...  181050006012   \n",
       "13907  [0,2,0,0,0,0,4,0,1,0,3,2,3,0,1,3,0,1,0,1,3,0,0...  181050006012   \n",
       "\n",
       "                                       visitor_home_cbgs  \\\n",
       "13903                                                 {}   \n",
       "13904  {\"181050013033\":5,\"181050013031\":4,\"1810500060...   \n",
       "13905  {\"181050013043\":4,\"181050002021\":4,\"1809395080...   \n",
       "13906                {\"181050006021\":9,\"181050004021\":4}   \n",
       "13907                {\"181050010013\":4,\"181050006021\":4}   \n",
       "\n",
       "                                      popularity_by_hour  \\\n",
       "13903  [1,1,2,1,1,2,3,2,3,3,3,2,2,2,2,4,1,2,1,3,3,6,5,3]   \n",
       "13904  [8,8,8,7,7,8,8,8,8,7,7,8,12,10,11,9,9,8,5,3,8,...   \n",
       "13905  [6,6,4,3,3,3,3,3,4,5,4,6,6,6,4,8,7,6,4,3,6,8,6,6]   \n",
       "13906  [16,15,14,13,12,13,12,12,14,14,14,8,7,8,9,10,1...   \n",
       "13907  [6,9,10,9,8,8,9,9,8,6,4,2,3,3,3,1,3,4,2,7,8,6,...   \n",
       "\n",
       "                                       popularity_by_day  \n",
       "13903  {\"Monday\":5,\"Tuesday\":3,\"Wednesday\":0,\"Thursda...  \n",
       "13904  {\"Monday\":2,\"Tuesday\":3,\"Wednesday\":3,\"Thursda...  \n",
       "13905  {\"Monday\":8,\"Tuesday\":4,\"Wednesday\":3,\"Thursda...  \n",
       "13906  {\"Monday\":9,\"Tuesday\":12,\"Wednesday\":11,\"Thurs...  \n",
       "13907  {\"Monday\":7,\"Tuesday\":1,\"Wednesday\":7,\"Thursda...  \n",
       "\n",
       "[5 rows x 22 columns]"
      ]
     },
     "execution_count": 2,
     "metadata": {},
     "output_type": "execute_result"
    }
   ],
   "source": [
    "# Examine Bloomington place data without regard to CBG or population\n",
    "\n",
    "bton_places = pd.read_csv('bton_place_data/visits_monthly_summary.csv')\n",
    "bton_places.tail()"
   ]
  },
  {
   "cell_type": "code",
   "execution_count": 4,
   "metadata": {},
   "outputs": [
    {
     "data": {
      "text/plain": [
       "safegraph_place_id     object\n",
       "location_name          object\n",
       "naics_code            float64\n",
       "latitude              float64\n",
       "longitude             float64\n",
       "latlong                object\n",
       "street_address         object\n",
       "city                   object\n",
       "region                 object\n",
       "postal_code             int64\n",
       "category_tags          object\n",
       "range_date             object\n",
       "date_range_end         object\n",
       "month                   int64\n",
       "year                    int64\n",
       "raw_visit_counts        int64\n",
       "raw_visitor_counts      int64\n",
       "visits_by_day          object\n",
       "poi_cbg                 int64\n",
       "visitor_home_cbgs      object\n",
       "popularity_by_hour     object\n",
       "popularity_by_day      object\n",
       "dtype: object"
      ]
     },
     "execution_count": 4,
     "metadata": {},
     "output_type": "execute_result"
    }
   ],
   "source": [
    "bton_places.dtypes"
   ]
  },
  {
   "cell_type": "code",
   "execution_count": 5,
   "metadata": {},
   "outputs": [
    {
     "data": {
      "text/plain": [
       "(13908, 22)"
      ]
     },
     "execution_count": 5,
     "metadata": {},
     "output_type": "execute_result"
    }
   ],
   "source": [
    "bton_places.shape"
   ]
  },
  {
   "cell_type": "markdown",
   "metadata": {},
   "source": [
    "## Popular Bars in Bloomington\n",
    "\n",
    "A simple question might be to ask which bars in Bloomington are the most popular.\n",
    "\n",
    "The NAICS code for \"Drinking Places (Alcoholic Beverages)\" is 722410."
   ]
  },
  {
   "cell_type": "code",
   "execution_count": 17,
   "metadata": {},
   "outputs": [
    {
     "data": {
      "text/html": [
       "<div>\n",
       "<style scoped>\n",
       "    .dataframe tbody tr th:only-of-type {\n",
       "        vertical-align: middle;\n",
       "    }\n",
       "\n",
       "    .dataframe tbody tr th {\n",
       "        vertical-align: top;\n",
       "    }\n",
       "\n",
       "    .dataframe thead th {\n",
       "        text-align: right;\n",
       "    }\n",
       "</style>\n",
       "<table border=\"1\" class=\"dataframe\">\n",
       "  <thead>\n",
       "    <tr style=\"text-align: right;\">\n",
       "      <th></th>\n",
       "      <th>safegraph_place_id</th>\n",
       "      <th>location_name</th>\n",
       "      <th>raw_visit_counts</th>\n",
       "    </tr>\n",
       "  </thead>\n",
       "  <tbody>\n",
       "    <tr>\n",
       "      <th>0</th>\n",
       "      <td>sg:3c8743f25ff94d218e9222302a62bad7</td>\n",
       "      <td>Westside Beer Bar</td>\n",
       "      <td>87</td>\n",
       "    </tr>\n",
       "    <tr>\n",
       "      <th>1</th>\n",
       "      <td>sg:3e4140ecff83453c8eaccc6f717e3025</td>\n",
       "      <td>VFW 604 Bars</td>\n",
       "      <td>784</td>\n",
       "    </tr>\n",
       "    <tr>\n",
       "      <th>2</th>\n",
       "      <td>sg:3e7885ec1d9441118c5b593c61a8a10d</td>\n",
       "      <td>Blockhouse Bar</td>\n",
       "      <td>320</td>\n",
       "    </tr>\n",
       "    <tr>\n",
       "      <th>3</th>\n",
       "      <td>sg:4ac19225f5fb433e9808ace61b2446e5</td>\n",
       "      <td>Hoppy Wobbles</td>\n",
       "      <td>1676</td>\n",
       "    </tr>\n",
       "    <tr>\n",
       "      <th>4</th>\n",
       "      <td>sg:b2d20de626454dcfbf78650a980d03b2</td>\n",
       "      <td>Video Saloon</td>\n",
       "      <td>3078</td>\n",
       "    </tr>\n",
       "  </tbody>\n",
       "</table>\n",
       "</div>"
      ],
      "text/plain": [
       "                    safegraph_place_id      location_name  raw_visit_counts\n",
       "0  sg:3c8743f25ff94d218e9222302a62bad7  Westside Beer Bar                87\n",
       "1  sg:3e4140ecff83453c8eaccc6f717e3025       VFW 604 Bars               784\n",
       "2  sg:3e7885ec1d9441118c5b593c61a8a10d     Blockhouse Bar               320\n",
       "3  sg:4ac19225f5fb433e9808ace61b2446e5      Hoppy Wobbles              1676\n",
       "4  sg:b2d20de626454dcfbf78650a980d03b2       Video Saloon              3078"
      ]
     },
     "execution_count": 17,
     "metadata": {},
     "output_type": "execute_result"
    }
   ],
   "source": [
    "bton_bars = bton_places[bton_places.naics_code==722410].groupby([\"safegraph_place_id\", \"location_name\"], as_index = False)[\"raw_visit_counts\"].sum()\n",
    "bton_bars.head()"
   ]
  },
  {
   "cell_type": "code",
   "execution_count": 22,
   "metadata": {},
   "outputs": [
    {
     "data": {
      "application/vnd.vegalite.v3+json": {
       "$schema": "https://vega.github.io/schema/vega-lite/v3.4.0.json",
       "config": {
        "mark": {
         "tooltip": null
        },
        "view": {
         "height": 300,
         "width": 400
        }
       },
       "data": {
        "name": "data-2fa8b5ad121e56073349772a775c1445"
       },
       "datasets": {
        "data-2fa8b5ad121e56073349772a775c1445": [
         {
          "location_name": "Westside Beer Bar",
          "raw_visit_counts": 87,
          "safegraph_place_id": "sg:3c8743f25ff94d218e9222302a62bad7"
         },
         {
          "location_name": "VFW 604 Bars",
          "raw_visit_counts": 784,
          "safegraph_place_id": "sg:3e4140ecff83453c8eaccc6f717e3025"
         },
         {
          "location_name": "Blockhouse Bar",
          "raw_visit_counts": 320,
          "safegraph_place_id": "sg:3e7885ec1d9441118c5b593c61a8a10d"
         },
         {
          "location_name": "Hoppy Wobbles",
          "raw_visit_counts": 1676,
          "safegraph_place_id": "sg:4ac19225f5fb433e9808ace61b2446e5"
         },
         {
          "location_name": "Video Saloon",
          "raw_visit_counts": 3078,
          "safegraph_place_id": "sg:b2d20de626454dcfbf78650a980d03b2"
         },
         {
          "location_name": "Bear's Place",
          "raw_visit_counts": 947,
          "safegraph_place_id": "sg:b8ab33c2eeb84ae3b33439cf6df6654c"
         },
         {
          "location_name": "C3 Bar",
          "raw_visit_counts": 2692,
          "safegraph_place_id": "sg:c0aeb5e3207345919042d3a013e4d763"
         }
        ]
       },
       "encoding": {
        "x": {
         "axis": {
          "title": "Location Name"
         },
         "field": "location_name",
         "type": "nominal"
        },
        "y": {
         "axis": {
          "title": "Number of Visits"
         },
         "field": "raw_visit_counts",
         "type": "quantitative"
        }
       },
       "mark": "bar",
       "title": "Bloomington Bar Popularity"
      },
      "image/png": "[encoded data removed]",
      "text/plain": [
       "<VegaLite 3 object>\n",
       "\n",
       "If you see this message, it means the renderer has not been properly enabled\n",
       "for the frontend that you are using. For more information, see\n",
       "https://altair-viz.github.io/user_guide/troubleshooting.html\n"
      ]
     },
     "execution_count": 22,
     "metadata": {},
     "output_type": "execute_result"
    }
   ],
   "source": [
    "# Chart of most popular bars in Bloomington by raw number of visits in Jan-April 2019 and Jan-April 2020\n",
    "alt.Chart(bton_bars).mark_bar().encode(\n",
    "    alt.X('location_name:N',\n",
    "         axis=alt.Axis(title='Location Name')),\n",
    "    alt.Y('raw_visit_counts:Q',\n",
    "         axis=alt.Axis(title='Number of Visits'))\n",
    ").properties(\n",
    "    title='Bloomington Bar Popularity'\n",
    ")"
   ]
  },
  {
   "cell_type": "markdown",
   "metadata": {},
   "source": [
    "The problem with this is that NAICS codes bars that serve food in a different category.  Therefore, some of the most popular bars (Nick's English Hut, The Irish Lion, etc.) are actually \"restaurants.\""
   ]
  },
  {
   "cell_type": "code",
   "execution_count": 21,
   "metadata": {},
   "outputs": [
    {
     "data": {
      "text/html": [
       "<div>\n",
       "<style scoped>\n",
       "    .dataframe tbody tr th:only-of-type {\n",
       "        vertical-align: middle;\n",
       "    }\n",
       "\n",
       "    .dataframe tbody tr th {\n",
       "        vertical-align: top;\n",
       "    }\n",
       "\n",
       "    .dataframe thead th {\n",
       "        text-align: right;\n",
       "    }\n",
       "</style>\n",
       "<table border=\"1\" class=\"dataframe\">\n",
       "  <thead>\n",
       "    <tr style=\"text-align: right;\">\n",
       "      <th></th>\n",
       "      <th>safegraph_place_id</th>\n",
       "      <th>location_name</th>\n",
       "      <th>raw_visit_counts</th>\n",
       "    </tr>\n",
       "  </thead>\n",
       "  <tbody>\n",
       "    <tr>\n",
       "      <th>0</th>\n",
       "      <td>sg:00e61973a2b646c0ba85b11dc5c911ff</td>\n",
       "      <td>Bck Restaurants</td>\n",
       "      <td>162</td>\n",
       "    </tr>\n",
       "    <tr>\n",
       "      <th>1</th>\n",
       "      <td>sg:015b2077c9ad4fe6b91b4b6f31c2f0f8</td>\n",
       "      <td>Kilroy's Sports Bar</td>\n",
       "      <td>3988</td>\n",
       "    </tr>\n",
       "    <tr>\n",
       "      <th>2</th>\n",
       "      <td>sg:016fbe8f44164eca9b9b0c893eb5de2f</td>\n",
       "      <td>116 Buffet Seafood Sushi and Grill</td>\n",
       "      <td>8</td>\n",
       "    </tr>\n",
       "    <tr>\n",
       "      <th>3</th>\n",
       "      <td>sg:032add8f7a4e4bdc859e945dfc3af58f</td>\n",
       "      <td>Kebab On Wheels</td>\n",
       "      <td>1719</td>\n",
       "    </tr>\n",
       "    <tr>\n",
       "      <th>4</th>\n",
       "      <td>sg:0576e77a4810479cbe0a0ee0851d7385</td>\n",
       "      <td>Rainbow Bakery</td>\n",
       "      <td>230</td>\n",
       "    </tr>\n",
       "  </tbody>\n",
       "</table>\n",
       "</div>"
      ],
      "text/plain": [
       "                    safegraph_place_id                       location_name  \\\n",
       "0  sg:00e61973a2b646c0ba85b11dc5c911ff                     Bck Restaurants   \n",
       "1  sg:015b2077c9ad4fe6b91b4b6f31c2f0f8                 Kilroy's Sports Bar   \n",
       "2  sg:016fbe8f44164eca9b9b0c893eb5de2f  116 Buffet Seafood Sushi and Grill   \n",
       "3  sg:032add8f7a4e4bdc859e945dfc3af58f                     Kebab On Wheels   \n",
       "4  sg:0576e77a4810479cbe0a0ee0851d7385                      Rainbow Bakery   \n",
       "\n",
       "   raw_visit_counts  \n",
       "0               162  \n",
       "1              3988  \n",
       "2                 8  \n",
       "3              1719  \n",
       "4               230  "
      ]
     },
     "execution_count": 21,
     "metadata": {},
     "output_type": "execute_result"
    }
   ],
   "source": [
    "bton_bars_food = bton_places[\n",
    "    (bton_places.naics_code==722410) | \n",
    "    (bton_places.naics_code==722511)\n",
    "    ].groupby([\"safegraph_place_id\", \"location_name\"], as_index = False)[\"raw_visit_counts\"].sum()\n",
    "bton_bars_food.head()"
   ]
  },
  {
   "cell_type": "code",
   "execution_count": 23,
   "metadata": {},
   "outputs": [
    {
     "data": {
      "application/vnd.vegalite.v3+json": {
       "$schema": "https://vega.github.io/schema/vega-lite/v3.4.0.json",
       "config": {
        "mark": {
         "tooltip": null
        },
        "view": {
         "height": 300,
         "width": 400
        }
       },
       "data": {
        "name": "data-f3cec99dfabf1e44c50524637d38239c"
       },
       "datasets": {
        "data-f3cec99dfabf1e44c50524637d38239c": [
         {
          "location_name": "Bck Restaurants",
          "raw_visit_counts": 162,
          "safegraph_place_id": "sg:00e61973a2b646c0ba85b11dc5c911ff"
         },
         {
          "location_name": "Kilroy's Sports Bar",
          "raw_visit_counts": 3988,
          "safegraph_place_id": "sg:015b2077c9ad4fe6b91b4b6f31c2f0f8"
         },
         {
          "location_name": "116 Buffet Seafood Sushi and Grill",
          "raw_visit_counts": 8,
          "safegraph_place_id": "sg:016fbe8f44164eca9b9b0c893eb5de2f"
         },
         {
          "location_name": "Kebab On Wheels",
          "raw_visit_counts": 1719,
          "safegraph_place_id": "sg:032add8f7a4e4bdc859e945dfc3af58f"
         },
         {
          "location_name": "Rainbow Bakery",
          "raw_visit_counts": 230,
          "safegraph_place_id": "sg:0576e77a4810479cbe0a0ee0851d7385"
         },
         {
          "location_name": "116 Seafood and Sushi Buffet",
          "raw_visit_counts": 35,
          "safegraph_place_id": "sg:059937ea4f8440509e51736c142c3184"
         },
         {
          "location_name": "Smokin' Jack's Rib Shack",
          "raw_visit_counts": 1524,
          "safegraph_place_id": "sg:078a1647f0c74a5e8386d6cc3579cf1c"
         },
         {
          "location_name": "The Atlas Ballroom",
          "raw_visit_counts": 1310,
          "safegraph_place_id": "sg:07e39c8d73c84825b759a0ccc9081b20"
         },
         {
          "location_name": "Social Cantina",
          "raw_visit_counts": 5148,
          "safegraph_place_id": "sg:08fa25a6fe2f4da98e2f8411535fa26a"
         },
         {
          "location_name": "Grazie Italiano",
          "raw_visit_counts": 2489,
          "safegraph_place_id": "sg:09dbc40fe8af4d65b528181ce0a93a97"
         },
         {
          "location_name": "Do Asian Fusion Cuisine & Lounge",
          "raw_visit_counts": 396,
          "safegraph_place_id": "sg:0a6de7c04d434131bac98279d02aff51"
         },
         {
          "location_name": "Uptown Cafe",
          "raw_visit_counts": 2768,
          "safegraph_place_id": "sg:0b98512393e6449c942de724783d0765"
         },
         {
          "location_name": "Buffalo Wild Wings",
          "raw_visit_counts": 4741,
          "safegraph_place_id": "sg:0e94ea1ed26348419ced3e41e09d80c6"
         },
         {
          "location_name": "Big Woods Bloomington",
          "raw_visit_counts": 3605,
          "safegraph_place_id": "sg:0e9c2c8e6b0b4322bf04964704b71e2f"
         },
         {
          "location_name": "Red",
          "raw_visit_counts": 1067,
          "safegraph_place_id": "sg:0eae8eae3ac24b87a3f99b8963009529"
         },
         {
          "location_name": "Best Taste",
          "raw_visit_counts": 523,
          "safegraph_place_id": "sg:0ece2b1c6c174180aad6bfd1bbf751e8"
         },
         {
          "location_name": "Village Pub",
          "raw_visit_counts": 718,
          "safegraph_place_id": "sg:120d9b84e8e44d2a9e588cf4760399f2"
         },
         {
          "location_name": "Wings Xtreme U",
          "raw_visit_counts": 531,
          "safegraph_place_id": "sg:129e70f3ea9f42aa9735dd122cde174b"
         },
         {
          "location_name": "Dats",
          "raw_visit_counts": 344,
          "safegraph_place_id": "sg:13c6b05c44c6430d8f95b414369ac819"
         },
         {
          "location_name": "Domo Steak & Sushi Inc",
          "raw_visit_counts": 1163,
          "safegraph_place_id": "sg:143d98891d804a818ee90696313c5f7a"
         },
         {
          "location_name": "Sugar Daddy's Cakes & Catering Cafe",
          "raw_visit_counts": 393,
          "safegraph_place_id": "sg:145498f0acec4c699e13804b37013e4e"
         },
         {
          "location_name": "Siam House",
          "raw_visit_counts": 1965,
          "safegraph_place_id": "sg:151b747c0624431f959a01e40a20080d"
         },
         {
          "location_name": "Wee Willie's",
          "raw_visit_counts": 3154,
          "safegraph_place_id": "sg:1552dfaad2804f8e9d00443be8503443"
         },
         {
          "location_name": "Serendipity Martini Bar",
          "raw_visit_counts": 481,
          "safegraph_place_id": "sg:1590a0a991cb49feabe1e34bf5becc58"
         },
         {
          "location_name": "Korea Restaurant",
          "raw_visit_counts": 656,
          "safegraph_place_id": "sg:161161e72f5a496ca1b91ac5b3bbd6e9"
         },
         {
          "location_name": "Highland Lounge",
          "raw_visit_counts": 1643,
          "safegraph_place_id": "sg:16319d1aee954c10b658dcca87ddeeed"
         },
         {
          "location_name": "Sofra Cafe",
          "raw_visit_counts": 955,
          "safegraph_place_id": "sg:169d3f47b7ab4afa80cb50ebe35f704d"
         },
         {
          "location_name": "Fat Dan's Deli",
          "raw_visit_counts": 3180,
          "safegraph_place_id": "sg:1ab07636e6d14ab295a1e1b3b2397407"
         },
         {
          "location_name": "Golden China",
          "raw_visit_counts": 1140,
          "safegraph_place_id": "sg:1dbc6e6f431f4783827307e7f88f6305"
         },
         {
          "location_name": "Cloverleaf Family Restaurant",
          "raw_visit_counts": 4279,
          "safegraph_place_id": "sg:200a84a1417d4fb596dd3216649b57de"
         },
         {
          "location_name": "Stefano's",
          "raw_visit_counts": 742,
          "safegraph_place_id": "sg:20cc463c7c34420583d3e86a898874dc"
         },
         {
          "location_name": "El Rey Azteca",
          "raw_visit_counts": 399,
          "safegraph_place_id": "sg:23ac2b9e0a904e0080087e9629dc538b"
         },
         {
          "location_name": "Aver's Pizza North",
          "raw_visit_counts": 1191,
          "safegraph_place_id": "sg:245e4210111a40b288acdf8c48a14bd9"
         },
         {
          "location_name": "Cracker Barrel",
          "raw_visit_counts": 10227,
          "safegraph_place_id": "sg:24ed75e014c74420a41a588f40b786ec"
         },
         {
          "location_name": "La Charreada",
          "raw_visit_counts": 3222,
          "safegraph_place_id": "sg:277448dd645b45b181bcf7801422298b"
         },
         {
          "location_name": "Fish and Beef",
          "raw_visit_counts": 380,
          "safegraph_place_id": "sg:288be0add3a046819664f29c62bc79a3"
         },
         {
          "location_name": "Japonee",
          "raw_visit_counts": 826,
          "safegraph_place_id": "sg:2938b652bc08498fbb1a5597bee209ad"
         },
         {
          "location_name": "Southern Stone",
          "raw_visit_counts": 481,
          "safegraph_place_id": "sg:29e064cf013d430b9ef984ef8f59004c"
         },
         {
          "location_name": "Falafels Middle Eastern Grill",
          "raw_visit_counts": 563,
          "safegraph_place_id": "sg:2e625c8a534e4d3782d1b9821991e57c"
         },
         {
          "location_name": "Pizza X",
          "raw_visit_counts": 1100,
          "safegraph_place_id": "sg:2f16e9afb37a4568b2a8bf7c69e1f2ec"
         },
         {
          "location_name": "Pizza Pantry",
          "raw_visit_counts": 1584,
          "safegraph_place_id": "sg:2fa4f81062864fea8f3c3413a8bb4699"
         },
         {
          "location_name": "Buffa Louie's",
          "raw_visit_counts": 3371,
          "safegraph_place_id": "sg:30126a7335724f278370a626c5770e55"
         },
         {
          "location_name": "Tacos & Tequila Sports Bar",
          "raw_visit_counts": 131,
          "safegraph_place_id": "sg:3169d3f015bc4bca829f031771fac827"
         },
         {
          "location_name": "Cabin Restaurant & Lounge",
          "raw_visit_counts": 270,
          "safegraph_place_id": "sg:3189c0e28a6941d9bd5d2bbfc1f9df7b"
         },
         {
          "location_name": "Cheddar's Scratch Kitchen",
          "raw_visit_counts": 6497,
          "safegraph_place_id": "sg:335f2b897c434fdc861d4109312f199d"
         },
         {
          "location_name": "Pizza X",
          "raw_visit_counts": 911,
          "safegraph_place_id": "sg:33bb0fd2f4304ca59daebfb1bb2123af"
         },
         {
          "location_name": "King Gyros Restaurant",
          "raw_visit_counts": 2236,
          "safegraph_place_id": "sg:348ffbd956724fe0b915ac6c27814121"
         },
         {
          "location_name": "Upland Brewing",
          "raw_visit_counts": 4782,
          "safegraph_place_id": "sg:3656d87f11134ca8b3873cdcc71a303f"
         },
         {
          "location_name": "Rockit's Famous Pizza",
          "raw_visit_counts": 2180,
          "safegraph_place_id": "sg:376c9235671a47a1a8ebeba3bcd18a02"
         },
         {
          "location_name": "Cardinal Spirits",
          "raw_visit_counts": 436,
          "safegraph_place_id": "sg:37702d1a65aa46d18688cb99a90dbb13"
         },
         {
          "location_name": "Anyetsang Little Tibet Restaurant",
          "raw_visit_counts": 842,
          "safegraph_place_id": "sg:37fac31f5d1b405bb2005e0aa29e5430"
         },
         {
          "location_name": "Casa Brava Authentic Mexican Cusine",
          "raw_visit_counts": 4497,
          "safegraph_place_id": "sg:39312d14aafc48fea1a7056c3029194d"
         },
         {
          "location_name": "Westside Beer Bar",
          "raw_visit_counts": 87,
          "safegraph_place_id": "sg:3c8743f25ff94d218e9222302a62bad7"
         },
         {
          "location_name": "Rush Hour Station",
          "raw_visit_counts": 1830,
          "safegraph_place_id": "sg:3cd4ed5e2afa4440a21ce6b0ca3296ac"
         },
         {
          "location_name": "Cozy Table Restaurant",
          "raw_visit_counts": 1930,
          "safegraph_place_id": "sg:3da6d5258f58473fa190e48407e6cc94"
         },
         {
          "location_name": "VFW 604 Bars",
          "raw_visit_counts": 784,
          "safegraph_place_id": "sg:3e4140ecff83453c8eaccc6f717e3025"
         },
         {
          "location_name": "Blockhouse Bar",
          "raw_visit_counts": 320,
          "safegraph_place_id": "sg:3e7885ec1d9441118c5b593c61a8a10d"
         },
         {
          "location_name": "SmokeWorks",
          "raw_visit_counts": 1928,
          "safegraph_place_id": "sg:41aaf87af79a42089916a86ffb8cf76e"
         },
         {
          "location_name": "Lucky Express",
          "raw_visit_counts": 70,
          "safegraph_place_id": "sg:42ba17d5648b4ac3be56677fbe7bca71"
         },
         {
          "location_name": "Friendly Beasts Cider",
          "raw_visit_counts": 105,
          "safegraph_place_id": "sg:49d9f1c90da247c087a8cb42ff6f3899"
         },
         {
          "location_name": "Sunny Palace",
          "raw_visit_counts": 102,
          "safegraph_place_id": "sg:4a7cdfff9eb74226935e33681085b9ce"
         },
         {
          "location_name": "Hoppy Wobbles",
          "raw_visit_counts": 1676,
          "safegraph_place_id": "sg:4ac19225f5fb433e9808ace61b2446e5"
         },
         {
          "location_name": "O'Charley's",
          "raw_visit_counts": 6103,
          "safegraph_place_id": "sg:4ac7bd4e9ff8469389ff38f17a9956ac"
         },
         {
          "location_name": "Ami",
          "raw_visit_counts": 3886,
          "safegraph_place_id": "sg:4bd5dc62e659424ab2053ef75e7ebca6"
         },
         {
          "location_name": "Bucceto's Smiling Teeth",
          "raw_visit_counts": 2384,
          "safegraph_place_id": "sg:4c008fdf41384e209ff6e80162beb742"
         },
         {
          "location_name": "Hoosier Bar & Grill",
          "raw_visit_counts": 1162,
          "safegraph_place_id": "sg:4c4d7cb2480a4942be521cf2fadae9d0"
         },
         {
          "location_name": "Pizza X",
          "raw_visit_counts": 1259,
          "safegraph_place_id": "sg:4fefd60e0fe9431a86154f059a58a2a2"
         },
         {
          "location_name": "Malibu Grill",
          "raw_visit_counts": 200,
          "safegraph_place_id": "sg:500d2e3d8bb54c42891e0aa34363f4b3"
         },
         {
          "location_name": "Feast Market & Cellar",
          "raw_visit_counts": 1523,
          "safegraph_place_id": "sg:50fc633dbf5e45309593cf541b314fb2"
         },
         {
          "location_name": "India Garden",
          "raw_visit_counts": 500,
          "safegraph_place_id": "sg:51525cfb18fc45d8a8e558db427db721"
         },
         {
          "location_name": "The Back Door",
          "raw_visit_counts": 641,
          "safegraph_place_id": "sg:51aba11b816d4c4db6ae0672aa85b6cc"
         },
         {
          "location_name": "El Ranchero",
          "raw_visit_counts": 6601,
          "safegraph_place_id": "sg:53114e77f06745fabc4d5f25e3dc2bd8"
         },
         {
          "location_name": "Talkers Tap Room",
          "raw_visit_counts": 182,
          "safegraph_place_id": "sg:5414440728cd4fefab30e65c2266e0af"
         },
         {
          "location_name": "Juannita's Restaurant",
          "raw_visit_counts": 411,
          "safegraph_place_id": "sg:56868bb09bb542098d81e66a4c675d4c"
         },
         {
          "location_name": "Janko's Little Zagreb",
          "raw_visit_counts": 2326,
          "safegraph_place_id": "sg:569a5762515a437fb3adc121e788863f"
         },
         {
          "location_name": "Rocky's Pizza",
          "raw_visit_counts": 103,
          "safegraph_place_id": "sg:58fae3536146436ca5b156b57b3f8fad"
         },
         {
          "location_name": "Noodles & Company",
          "raw_visit_counts": 733,
          "safegraph_place_id": "sg:59bfebe4b17844659d52c430ca246fe6"
         },
         {
          "location_name": "Osteria Rago",
          "raw_visit_counts": 1968,
          "safegraph_place_id": "sg:5b208b10483b487aa985d56f4e5f88ff"
         },
         {
          "location_name": "Culver's",
          "raw_visit_counts": 8286,
          "safegraph_place_id": "sg:5d04f19f907e43649f5dc3e4567c8685"
         },
         {
          "location_name": "Mama's Restaurant",
          "raw_visit_counts": 585,
          "safegraph_place_id": "sg:5d9f2a89fbc94066bebbe5f5abba5b59"
         },
         {
          "location_name": "Bluetip Billiards",
          "raw_visit_counts": 726,
          "safegraph_place_id": "sg:5e2a89b7f9a54d4aa4b31c9e2e7a7f39"
         },
         {
          "location_name": "Darn Good Soup",
          "raw_visit_counts": 141,
          "safegraph_place_id": "sg:621e45e7cf314e9885088cd51156be1c"
         },
         {
          "location_name": "Mr Pot Hot Pot",
          "raw_visit_counts": 1500,
          "safegraph_place_id": "sg:633c8b5bbd244d7287425ed4b83138ed"
         },
         {
          "location_name": "Naughty Dog",
          "raw_visit_counts": 373,
          "safegraph_place_id": "sg:63b0e5f9d1194c69a781ba89d2ebfa0f"
         },
         {
          "location_name": "Bucceto's Pizza & Pasta",
          "raw_visit_counts": 2640,
          "safegraph_place_id": "sg:660ca3bd8ef2435f852b60d20d78022e"
         },
         {
          "location_name": "Dragon Express",
          "raw_visit_counts": 4034,
          "safegraph_place_id": "sg:66b5bb2c70a8414db4f2712f4c555595"
         },
         {
          "location_name": "B Town Diner",
          "raw_visit_counts": 399,
          "safegraph_place_id": "sg:683af6334b6541788b3a72e7df6e9192"
         },
         {
          "location_name": "Crazy Horse",
          "raw_visit_counts": 1717,
          "safegraph_place_id": "sg:6865ca62305445ab8382c64e75e39465"
         },
         {
          "location_name": "Anatolia",
          "raw_visit_counts": 265,
          "safegraph_place_id": "sg:69201f1354234c79be3d44689d39e444"
         },
         {
          "location_name": "Aver's Pizza East",
          "raw_visit_counts": 512,
          "safegraph_place_id": "sg:6ad9a491850b45faa11d5754025d6087"
         },
         {
          "location_name": "Cafe Pizzaria",
          "raw_visit_counts": 658,
          "safegraph_place_id": "sg:6af818e6e8e04fedacb872da74cb159f"
         },
         {
          "location_name": "Moe's Southwest Grill",
          "raw_visit_counts": 2325,
          "safegraph_place_id": "sg:6e56d6a5c1714e10a1a4f4c17f6a22a3"
         },
         {
          "location_name": "The Tap",
          "raw_visit_counts": 3806,
          "safegraph_place_id": "sg:7179f6ea9ff642c099fb24942578fde6"
         },
         {
          "location_name": "Carsons Bbq & Catering",
          "raw_visit_counts": 268,
          "safegraph_place_id": "sg:71f0e7f5e13d4f96a03140eea9409e33"
         },
         {
          "location_name": "Brother's Bar and Grill",
          "raw_visit_counts": 522,
          "safegraph_place_id": "sg:7578e9c507c646d5bde187d845e7fe47"
         },
         {
          "location_name": "Goodfellas Pizzeria",
          "raw_visit_counts": 257,
          "safegraph_place_id": "sg:78719a91b98f422a8ff9cd66b5fe4694"
         },
         {
          "location_name": "Pizza X",
          "raw_visit_counts": 1642,
          "safegraph_place_id": "sg:7a8bb378739b4a7a9386eeea4fef8a78"
         },
         {
          "location_name": "Noodles & Company",
          "raw_visit_counts": 1875,
          "safegraph_place_id": "sg:7c4a6afa47d748bbb2322d454833cea8"
         },
         {
          "location_name": "Trailhead Pizzeria",
          "raw_visit_counts": 665,
          "safegraph_place_id": "sg:7c5c80f35fdf4e08b03f28d5540ec1cf"
         },
         {
          "location_name": "Nick's English Hut",
          "raw_visit_counts": 4320,
          "safegraph_place_id": "sg:7daa3668ef434900975b83ab65feea01"
         },
         {
          "location_name": "Homie Hot Pot & Sushi",
          "raw_visit_counts": 1208,
          "safegraph_place_id": "sg:7f759c6274814d828add06ec182e1fe8"
         },
         {
          "location_name": "IHOP",
          "raw_visit_counts": 4767,
          "safegraph_place_id": "sg:804f46b1b6ba42618930c6ac6f0ef243"
         },
         {
          "location_name": "Yogi's Bar &amp Grill",
          "raw_visit_counts": 3494,
          "safegraph_place_id": "sg:80c28d7f887f410ab314122b5323a096"
         },
         {
          "location_name": "The 3 Amigos Mexican Restaurant",
          "raw_visit_counts": 1158,
          "safegraph_place_id": "sg:8331c8e542da4a6ea9b29ce7df70f972"
         },
         {
          "location_name": "La Vie En Rose Cafe",
          "raw_visit_counts": 1413,
          "safegraph_place_id": "sg:852c05b551eb4edeb529ddcd4876ce5b"
         },
         {
          "location_name": "Honey Baked Ham Company",
          "raw_visit_counts": 907,
          "safegraph_place_id": "sg:8691f66d212d43e4a23b915e06e621f6"
         },
         {
          "location_name": "GoPuff",
          "raw_visit_counts": 545,
          "safegraph_place_id": "sg:894bd0f72c8940e4acec24fe52daba58"
         },
         {
          "location_name": "Fuzzy's Vodka Launch Party",
          "raw_visit_counts": 684,
          "safegraph_place_id": "sg:89c23e7bcfbd455da69cf8751a68bd4a"
         },
         {
          "location_name": "The Irish Lion Restaurant & Pub",
          "raw_visit_counts": 1397,
          "safegraph_place_id": "sg:8a04d5ab99b4452d88331b92ac6b9264"
         },
         {
          "location_name": "China Star Restaurant",
          "raw_visit_counts": 4041,
          "safegraph_place_id": "sg:8b15a8a6cf6d467dad49ae9650c2a8fb"
         },
         {
          "location_name": "Hive",
          "raw_visit_counts": 2182,
          "safegraph_place_id": "sg:8e0c1c0233424d21bc6e9c5523c2054f"
         },
         {
          "location_name": "Dagwood's Deli",
          "raw_visit_counts": 1086,
          "safegraph_place_id": "sg:8e50e42758464bd9ba82ef535ee59057"
         },
         {
          "location_name": "Swing In Pizza",
          "raw_visit_counts": 632,
          "safegraph_place_id": "sg:8ffbbb907605416da8900ab6cdb899c8"
         },
         {
          "location_name": "Indian Palace",
          "raw_visit_counts": 861,
          "safegraph_place_id": "sg:937085273f134fbb910e87ea9d9bdb04"
         },
         {
          "location_name": "My Thai Cafe",
          "raw_visit_counts": 1098,
          "safegraph_place_id": "sg:93ec1f42243742d593cff45960dbb3b8"
         },
         {
          "location_name": "Outback Steakhouse",
          "raw_visit_counts": 7558,
          "safegraph_place_id": "sg:955a6fbc77014ffdad79ee32cf6d3a9d"
         },
         {
          "location_name": "Farm Bloomington",
          "raw_visit_counts": 2491,
          "safegraph_place_id": "sg:959bad0388484c14b747b87b3e7ec496"
         },
         {
          "location_name": "Laughing Planet Cafe",
          "raw_visit_counts": 2087,
          "safegraph_place_id": "sg:967d1078172b43c09ec8143a6a1a3eac"
         },
         {
          "location_name": "Le Petit Cafe",
          "raw_visit_counts": 829,
          "safegraph_place_id": "sg:9973680b73c04580ae6b1c91e3daeee6"
         },
         {
          "location_name": "Brothers Bar & Grill",
          "raw_visit_counts": 356,
          "safegraph_place_id": "sg:9b7d6065ddd240b999dbbe6dd7a2c222"
         },
         {
          "location_name": "Noodle Town",
          "raw_visit_counts": 870,
          "safegraph_place_id": "sg:9be8ecd2c89a4660905f70fae29702de"
         },
         {
          "location_name": "Roly Poly",
          "raw_visit_counts": 777,
          "safegraph_place_id": "sg:9d92e9f02fe8437bb29dfae073504994"
         },
         {
          "location_name": "Bana's Cafe",
          "raw_visit_counts": 3133,
          "safegraph_place_id": "sg:9df1efc3c0874b69b7464663dc911392"
         },
         {
          "location_name": "Denny's",
          "raw_visit_counts": 3102,
          "safegraph_place_id": "sg:9e8661697c6740ae99ecdb42446c6695"
         },
         {
          "location_name": "Kilroy's Bar and Grill",
          "raw_visit_counts": 6116,
          "safegraph_place_id": "sg:9e8a58a988b945bb8cf5074f387be4c8"
         },
         {
          "location_name": "Truffles Fine Cuisine",
          "raw_visit_counts": 376,
          "safegraph_place_id": "sg:9fe75897492243fc82a4adba940c5c93"
         },
         {
          "location_name": "Mateo's Buffet American &amp Latin",
          "raw_visit_counts": 2329,
          "safegraph_place_id": "sg:9fff6d24079e4ab18783d0f6921ea28d"
         },
         {
          "location_name": "China Wok",
          "raw_visit_counts": 857,
          "safegraph_place_id": "sg:a0e222737fa74eec89ec80352077925f"
         },
         {
          "location_name": "Baldy's Pizza",
          "raw_visit_counts": 46,
          "safegraph_place_id": "sg:a17eaa1675414cb6819504dc246eaa13"
         },
         {
          "location_name": "Great Taste Buffet",
          "raw_visit_counts": 11,
          "safegraph_place_id": "sg:a2af97d03d194307883868f6308ebce7"
         },
         {
          "location_name": "Great White Smoke",
          "raw_visit_counts": 215,
          "safegraph_place_id": "sg:a2da957972b74a86ba3e8abfc41c3ee4"
         },
         {
          "location_name": "Red Lobster",
          "raw_visit_counts": 4127,
          "safegraph_place_id": "sg:a41a53669ace4b05beb0463f0bd9b0d3"
         },
         {
          "location_name": "Joella's Hot Chicken Bloomington",
          "raw_visit_counts": 7064,
          "safegraph_place_id": "sg:a68999ac9b9a4db6a5e6114afc598e4e"
         },
         {
          "location_name": "My Thai Cafe Plus",
          "raw_visit_counts": 915,
          "safegraph_place_id": "sg:a7a08b03a5d24a218dbbc66dc6be3b02"
         },
         {
          "location_name": "The Alley",
          "raw_visit_counts": 1211,
          "safegraph_place_id": "sg:a7bd680df8764b5b8277ec871489a4b9"
         },
         {
          "location_name": "Longfei",
          "raw_visit_counts": 676,
          "safegraph_place_id": "sg:a83ec48721cf4e86b87294f95cb10b67"
         },
         {
          "location_name": "The Office Lounge & Liquor Store",
          "raw_visit_counts": 1831,
          "safegraph_place_id": "sg:ab6bec0dcdba47e29d6f4521da040369"
         },
         {
          "location_name": "Sweet Grass",
          "raw_visit_counts": 1708,
          "safegraph_place_id": "sg:ab7150ac53ac47aca2c780f438c533fb"
         },
         {
          "location_name": "My Thai Express",
          "raw_visit_counts": 593,
          "safegraph_place_id": "sg:aca82ee705274e7a83b467c45e31a943"
         },
         {
          "location_name": "Chili's Grill & Bar",
          "raw_visit_counts": 5880,
          "safegraph_place_id": "sg:ad5ee063107245cbb42f766d8f83f364"
         },
         {
          "location_name": "Video Saloon",
          "raw_visit_counts": 3078,
          "safegraph_place_id": "sg:b2d20de626454dcfbf78650a980d03b2"
         },
         {
          "location_name": "Viva Mas",
          "raw_visit_counts": 3391,
          "safegraph_place_id": "sg:b3421587a1ec4a1398744699e2e2dc58"
         },
         {
          "location_name": "Toto's Uncle Cafe",
          "raw_visit_counts": 1966,
          "safegraph_place_id": "sg:b3b56050ecb54c37afb1976b97f27a4f"
         },
         {
          "location_name": "Cynthia Moriarty Catering",
          "raw_visit_counts": 609,
          "safegraph_place_id": "sg:b428740b675d4d688dc1c40b2dc0b4f8"
         },
         {
          "location_name": "Japanee",
          "raw_visit_counts": 738,
          "safegraph_place_id": "sg:b45970d9fa9a4c918645bcddbded5717"
         },
         {
          "location_name": "Bear's Place",
          "raw_visit_counts": 947,
          "safegraph_place_id": "sg:b8ab33c2eeb84ae3b33439cf6df6654c"
         },
         {
          "location_name": "Wheel Pizza",
          "raw_visit_counts": 590,
          "safegraph_place_id": "sg:bc6f754661c5484198828a02ce475f97"
         },
         {
          "location_name": "Tandoor & Tikka",
          "raw_visit_counts": 1219,
          "safegraph_place_id": "sg:bd12abf3526744d4be734eb427719382"
         },
         {
          "location_name": "Da Vinci",
          "raw_visit_counts": 723,
          "safegraph_place_id": "sg:bf42f7e92b794f8bb4cd69f7e5bae8d7"
         },
         {
          "location_name": "C3 Bar",
          "raw_visit_counts": 2692,
          "safegraph_place_id": "sg:c0aeb5e3207345919042d3a013e4d763"
         },
         {
          "location_name": "Cloverleaf Restaurant",
          "raw_visit_counts": 3451,
          "safegraph_place_id": "sg:c17b8fe23ff24463917677136b5a2794"
         },
         {
          "location_name": "Sushi Bar",
          "raw_visit_counts": 3003,
          "safegraph_place_id": "sg:c192fb8cb88b42da9e1b1bb73402e171"
         },
         {
          "location_name": "Maje Sushi",
          "raw_visit_counts": 3815,
          "safegraph_place_id": "sg:c3133a6620994a0aa31f355c47fa7533"
         },
         {
          "location_name": "Olive Garden",
          "raw_visit_counts": 8063,
          "safegraph_place_id": "sg:c409c7eb69cc4369be083348456c8a2e"
         },
         {
          "location_name": "Mr Hibachi Buffet",
          "raw_visit_counts": 4729,
          "safegraph_place_id": "sg:c4d4add6560741d381e721ca5be9ba32"
         },
         {
          "location_name": "Z & C Teriyaki and Sushi Restaurant",
          "raw_visit_counts": 1606,
          "safegraph_place_id": "sg:c611a76e09c942b08b0c263443d34eb8"
         },
         {
          "location_name": "Butch's Grillacatessen & Eatzeria",
          "raw_visit_counts": 3071,
          "safegraph_place_id": "sg:ccaae59f191a4d36972f41065a1bf2d1"
         },
         {
          "location_name": "Upstairs Pub",
          "raw_visit_counts": 2424,
          "safegraph_place_id": "sg:ccfb74c435ae497fb7af9d88a1077640"
         },
         {
          "location_name": "Trojan Horse",
          "raw_visit_counts": 4666,
          "safegraph_place_id": "sg:cd2e745e052e494680a629998d44c108"
         },
         {
          "location_name": "The Owlery Restaurant",
          "raw_visit_counts": 1559,
          "safegraph_place_id": "sg:cd784f553d7845b69ebf93f6cb682720"
         },
         {
          "location_name": "Lotus Garden",
          "raw_visit_counts": 1582,
          "safegraph_place_id": "sg:cf617d528f44481191da978ed5943e55"
         },
         {
          "location_name": "One World Commissary",
          "raw_visit_counts": 1326,
          "safegraph_place_id": "sg:cff91aa2863e47c384ec4a481e11047c"
         },
         {
          "location_name": "My Thai Cafe",
          "raw_visit_counts": 966,
          "safegraph_place_id": "sg:d093c02bdf4f46bfa34aca1dd7b958fd"
         },
         {
          "location_name": "El Ranchero",
          "raw_visit_counts": 1992,
          "safegraph_place_id": "sg:d23f5a9ea21f4f75b313c40cffff25bf"
         },
         {
          "location_name": "Mother Bear's Pizza Campus",
          "raw_visit_counts": 5871,
          "safegraph_place_id": "sg:d280b5c4b3b64dc281c25e72a68c41a4"
         },
         {
          "location_name": "Asuka",
          "raw_visit_counts": 138,
          "safegraph_place_id": "sg:d508ef4a94eb49bea905aa1f9de6dba7"
         },
         {
          "location_name": "Turkuaz Cafe",
          "raw_visit_counts": 1625,
          "safegraph_place_id": "sg:d850ccfd8ebd4299ba6c1960d4c10809"
         },
         {
          "location_name": "The Big Cheeze",
          "raw_visit_counts": 304,
          "safegraph_place_id": "sg:d8e18c348ac74f649a5dee6ffcc56790"
         },
         {
          "location_name": "Oasis",
          "raw_visit_counts": 414,
          "safegraph_place_id": "sg:db4844369d4c4026b4792dd59ac848d0"
         },
         {
          "location_name": "El Ranchero",
          "raw_visit_counts": 168,
          "safegraph_place_id": "sg:de2992eae7aa44808c2a0f885880f6c5"
         },
         {
          "location_name": "Sazon Mexican Cuisine",
          "raw_visit_counts": 306,
          "safegraph_place_id": "sg:df60718293044aed8603c14f7b1e467e"
         },
         {
          "location_name": "Texas Roadhouse",
          "raw_visit_counts": 11672,
          "safegraph_place_id": "sg:e0dfd61ea93c445091f4c2f0f7a18f08"
         },
         {
          "location_name": "Aver's Pizza South",
          "raw_visit_counts": 706,
          "safegraph_place_id": "sg:e0ec4c8feb5d4a50a1b3c9711a3cab0c"
         },
         {
          "location_name": "Peach Garden",
          "raw_visit_counts": 1865,
          "safegraph_place_id": "sg:e211e8749cf145489998c4acbe9c6649"
         },
         {
          "location_name": "Fazoli's",
          "raw_visit_counts": 3038,
          "safegraph_place_id": "sg:e3611e7667c44268931a197fde5eed4e"
         },
         {
          "location_name": "Taste Of India",
          "raw_visit_counts": 2362,
          "safegraph_place_id": "sg:e4cd449dd97248e89403dbaffbee0755"
         },
         {
          "location_name": "Bookmarket Eatery",
          "raw_visit_counts": 17180,
          "safegraph_place_id": "sg:e546957610e241a2bcc386bb297899ae"
         },
         {
          "location_name": "BBQ Train",
          "raw_visit_counts": 874,
          "safegraph_place_id": "sg:e5ef99cd6d474c2ea0d279a8d2f7a293"
         },
         {
          "location_name": "Japonee Express",
          "raw_visit_counts": 3510,
          "safegraph_place_id": "sg:e62286abf577439f809781123bffb929"
         },
         {
          "location_name": "The Village Deli",
          "raw_visit_counts": 4491,
          "safegraph_place_id": "sg:e6913da6f746438a985b9519a6ee60b9"
         },
         {
          "location_name": "Opie Taylor's",
          "raw_visit_counts": 797,
          "safegraph_place_id": "sg:e7128c48b0de411685568a9e20d6d9c5"
         },
         {
          "location_name": "BJ's Restaurants",
          "raw_visit_counts": 9475,
          "safegraph_place_id": "sg:e92f164c77f64e2aa846d2a4f0a7d219"
         },
         {
          "location_name": "Miga Asian Cuisine",
          "raw_visit_counts": 631,
          "safegraph_place_id": "sg:e9cc7dd7f1604a76a18fe9ca87be249d"
         },
         {
          "location_name": "Fairfax Inn",
          "raw_visit_counts": 1318,
          "safegraph_place_id": "sg:ea2b12e1dec94e7088eecb319014081a"
         },
         {
          "location_name": "Bangkok Thai Cuisine",
          "raw_visit_counts": 1311,
          "safegraph_place_id": "sg:eb158af6c8d4414699458d721137edfa"
         },
         {
          "location_name": "LongHorn Steakhouse",
          "raw_visit_counts": 3152,
          "safegraph_place_id": "sg:ebec2f7c155946b490f7cc7f8b7b61d9"
         },
         {
          "location_name": "Gourmet Garden",
          "raw_visit_counts": 2902,
          "safegraph_place_id": "sg:ebfe73194414498d96ca16e751bccc06"
         },
         {
          "location_name": "Dragon Chinese Restaurant",
          "raw_visit_counts": 1321,
          "safegraph_place_id": "sg:ec2a6b71cfbd428397536df111a4e357"
         },
         {
          "location_name": "Chicago's Pizza of Ellettsville",
          "raw_visit_counts": 2813,
          "safegraph_place_id": "sg:ed17f602ba6f46b7acaf223b2bc1e54d"
         },
         {
          "location_name": "Pizza X",
          "raw_visit_counts": 457,
          "safegraph_place_id": "sg:f1fd0669e6e44f40bdd712cef62d8475"
         },
         {
          "location_name": "Gaza Modern Japanese Cuisine",
          "raw_visit_counts": 1891,
          "safegraph_place_id": "sg:f7c7eff99cac4aa2b4e8b6bf6014606f"
         },
         {
          "location_name": "Chow Bar",
          "raw_visit_counts": 1389,
          "safegraph_place_id": "sg:fb7a546f63744c2aafc2bdfa92010860"
         },
         {
          "location_name": "Mother Bear's Pizza West",
          "raw_visit_counts": 7117,
          "safegraph_place_id": "sg:fbaa28508d6c4e21a3d6d3124253ea4a"
         },
         {
          "location_name": "Lennie's",
          "raw_visit_counts": 512,
          "safegraph_place_id": "sg:fbcb2dc5638c40ecaf89dadc92660e7a"
         },
         {
          "location_name": "DeAngelo's",
          "raw_visit_counts": 3164,
          "safegraph_place_id": "sg:fe8516d8581c47d987be99a6afb2a01c"
         }
        ]
       },
       "encoding": {
        "x": {
         "axis": {
          "title": "Location Name"
         },
         "field": "location_name",
         "type": "nominal"
        },
        "y": {
         "axis": {
          "title": "Number of Visits"
         },
         "field": "raw_visit_counts",
         "type": "quantitative"
        }
       },
       "mark": "bar",
       "title": "Popularity of Places to Drink Alcohol"
      },
      "image/png": "[encoded data removed]",
      "text/plain": [
       "<VegaLite 3 object>\n",
       "\n",
       "If you see this message, it means the renderer has not been properly enabled\n",
       "for the frontend that you are using. For more information, see\n",
       "https://altair-viz.github.io/user_guide/troubleshooting.html\n"
      ]
     },
     "execution_count": 23,
     "metadata": {},
     "output_type": "execute_result"
    }
   ],
   "source": [
    "# Chart of most popular places in Bloomington that sell alcohol by raw number of visits in Jan-April 2019 and Jan-April 2020\n",
    "alt.Chart(bton_bars_food).mark_bar().encode(\n",
    "    alt.X('location_name:N',\n",
    "         axis=alt.Axis(title='Location Name')),\n",
    "    alt.Y('raw_visit_counts:Q',\n",
    "         axis=alt.Axis(title='Number of Visits'))\n",
    ").properties(\n",
    "    title='Popularity of Places to Drink Alcohol'\n",
    ")"
   ]
  },
  {
   "cell_type": "markdown",
   "metadata": {},
   "source": [
    "That's a ton of restaurants, so let's just find the top 20."
   ]
  },
  {
   "cell_type": "code",
   "execution_count": 26,
   "metadata": {},
   "outputs": [
    {
     "data": {
      "text/html": [
       "<div>\n",
       "<style scoped>\n",
       "    .dataframe tbody tr th:only-of-type {\n",
       "        vertical-align: middle;\n",
       "    }\n",
       "\n",
       "    .dataframe tbody tr th {\n",
       "        vertical-align: top;\n",
       "    }\n",
       "\n",
       "    .dataframe thead th {\n",
       "        text-align: right;\n",
       "    }\n",
       "</style>\n",
       "<table border=\"1\" class=\"dataframe\">\n",
       "  <thead>\n",
       "    <tr style=\"text-align: right;\">\n",
       "      <th></th>\n",
       "      <th>safegraph_place_id</th>\n",
       "      <th>location_name</th>\n",
       "      <th>raw_visit_counts</th>\n",
       "    </tr>\n",
       "  </thead>\n",
       "  <tbody>\n",
       "    <tr>\n",
       "      <th>176</th>\n",
       "      <td>sg:e546957610e241a2bcc386bb297899ae</td>\n",
       "      <td>Bookmarket Eatery</td>\n",
       "      <td>17180</td>\n",
       "    </tr>\n",
       "    <tr>\n",
       "      <th>171</th>\n",
       "      <td>sg:e0dfd61ea93c445091f4c2f0f7a18f08</td>\n",
       "      <td>Texas Roadhouse</td>\n",
       "      <td>11672</td>\n",
       "    </tr>\n",
       "    <tr>\n",
       "      <th>33</th>\n",
       "      <td>sg:24ed75e014c74420a41a588f40b786ec</td>\n",
       "      <td>Cracker Barrel</td>\n",
       "      <td>10227</td>\n",
       "    </tr>\n",
       "    <tr>\n",
       "      <th>181</th>\n",
       "      <td>sg:e92f164c77f64e2aa846d2a4f0a7d219</td>\n",
       "      <td>BJ's Restaurants</td>\n",
       "      <td>9475</td>\n",
       "    </tr>\n",
       "    <tr>\n",
       "      <th>78</th>\n",
       "      <td>sg:5d04f19f907e43649f5dc3e4567c8685</td>\n",
       "      <td>Culver's</td>\n",
       "      <td>8286</td>\n",
       "    </tr>\n",
       "  </tbody>\n",
       "</table>\n",
       "</div>"
      ],
      "text/plain": [
       "                      safegraph_place_id      location_name  raw_visit_counts\n",
       "176  sg:e546957610e241a2bcc386bb297899ae  Bookmarket Eatery             17180\n",
       "171  sg:e0dfd61ea93c445091f4c2f0f7a18f08    Texas Roadhouse             11672\n",
       "33   sg:24ed75e014c74420a41a588f40b786ec     Cracker Barrel             10227\n",
       "181  sg:e92f164c77f64e2aa846d2a4f0a7d219   BJ's Restaurants              9475\n",
       "78   sg:5d04f19f907e43649f5dc3e4567c8685           Culver's              8286"
      ]
     },
     "execution_count": 26,
     "metadata": {},
     "output_type": "execute_result"
    }
   ],
   "source": [
    "bton_bars_food = bton_bars_food.sort_values(by='raw_visit_counts', ascending=False)\n",
    "bton_bars_food.head()"
   ]
  },
  {
   "cell_type": "code",
   "execution_count": 28,
   "metadata": {},
   "outputs": [
    {
     "data": {
      "application/vnd.vegalite.v3+json": {
       "$schema": "https://vega.github.io/schema/vega-lite/v3.4.0.json",
       "config": {
        "mark": {
         "tooltip": null
        },
        "view": {
         "height": 300,
         "width": 400
        }
       },
       "data": {
        "name": "data-846fdba403d5b36d7abe0643eac504f4"
       },
       "datasets": {
        "data-846fdba403d5b36d7abe0643eac504f4": [
         {
          "location_name": "Bookmarket Eatery",
          "raw_visit_counts": 17180,
          "safegraph_place_id": "sg:e546957610e241a2bcc386bb297899ae"
         },
         {
          "location_name": "Texas Roadhouse",
          "raw_visit_counts": 11672,
          "safegraph_place_id": "sg:e0dfd61ea93c445091f4c2f0f7a18f08"
         },
         {
          "location_name": "Cracker Barrel",
          "raw_visit_counts": 10227,
          "safegraph_place_id": "sg:24ed75e014c74420a41a588f40b786ec"
         },
         {
          "location_name": "BJ's Restaurants",
          "raw_visit_counts": 9475,
          "safegraph_place_id": "sg:e92f164c77f64e2aa846d2a4f0a7d219"
         },
         {
          "location_name": "Culver's",
          "raw_visit_counts": 8286,
          "safegraph_place_id": "sg:5d04f19f907e43649f5dc3e4567c8685"
         },
         {
          "location_name": "Olive Garden",
          "raw_visit_counts": 8063,
          "safegraph_place_id": "sg:c409c7eb69cc4369be083348456c8a2e"
         },
         {
          "location_name": "Outback Steakhouse",
          "raw_visit_counts": 7558,
          "safegraph_place_id": "sg:955a6fbc77014ffdad79ee32cf6d3a9d"
         },
         {
          "location_name": "Mother Bear's Pizza West",
          "raw_visit_counts": 7117,
          "safegraph_place_id": "sg:fbaa28508d6c4e21a3d6d3124253ea4a"
         },
         {
          "location_name": "Joella's Hot Chicken Bloomington",
          "raw_visit_counts": 7064,
          "safegraph_place_id": "sg:a68999ac9b9a4db6a5e6114afc598e4e"
         },
         {
          "location_name": "El Ranchero",
          "raw_visit_counts": 6601,
          "safegraph_place_id": "sg:53114e77f06745fabc4d5f25e3dc2bd8"
         },
         {
          "location_name": "Cheddar's Scratch Kitchen",
          "raw_visit_counts": 6497,
          "safegraph_place_id": "sg:335f2b897c434fdc861d4109312f199d"
         },
         {
          "location_name": "Kilroy's Bar and Grill",
          "raw_visit_counts": 6116,
          "safegraph_place_id": "sg:9e8a58a988b945bb8cf5074f387be4c8"
         },
         {
          "location_name": "O'Charley's",
          "raw_visit_counts": 6103,
          "safegraph_place_id": "sg:4ac7bd4e9ff8469389ff38f17a9956ac"
         },
         {
          "location_name": "Chili's Grill & Bar",
          "raw_visit_counts": 5880,
          "safegraph_place_id": "sg:ad5ee063107245cbb42f766d8f83f364"
         },
         {
          "location_name": "Mother Bear's Pizza Campus",
          "raw_visit_counts": 5871,
          "safegraph_place_id": "sg:d280b5c4b3b64dc281c25e72a68c41a4"
         },
         {
          "location_name": "Social Cantina",
          "raw_visit_counts": 5148,
          "safegraph_place_id": "sg:08fa25a6fe2f4da98e2f8411535fa26a"
         },
         {
          "location_name": "Upland Brewing",
          "raw_visit_counts": 4782,
          "safegraph_place_id": "sg:3656d87f11134ca8b3873cdcc71a303f"
         },
         {
          "location_name": "IHOP",
          "raw_visit_counts": 4767,
          "safegraph_place_id": "sg:804f46b1b6ba42618930c6ac6f0ef243"
         },
         {
          "location_name": "Buffalo Wild Wings",
          "raw_visit_counts": 4741,
          "safegraph_place_id": "sg:0e94ea1ed26348419ced3e41e09d80c6"
         },
         {
          "location_name": "Mr Hibachi Buffet",
          "raw_visit_counts": 4729,
          "safegraph_place_id": "sg:c4d4add6560741d381e721ca5be9ba32"
         }
        ]
       },
       "encoding": {
        "x": {
         "axis": {
          "title": "Location Name"
         },
         "field": "location_name",
         "type": "nominal"
        },
        "y": {
         "axis": {
          "title": "Number of Visits"
         },
         "field": "raw_visit_counts",
         "type": "quantitative"
        }
       },
       "mark": "bar",
       "title": "Top 20 Popular Bars & Restaurants in Bloomington"
      },
      "image/png": "[encoded data removed]",
      "text/plain": [
       "<VegaLite 3 object>\n",
       "\n",
       "If you see this message, it means the renderer has not been properly enabled\n",
       "for the frontend that you are using. For more information, see\n",
       "https://altair-viz.github.io/user_guide/troubleshooting.html\n"
      ]
     },
     "execution_count": 28,
     "metadata": {},
     "output_type": "execute_result"
    }
   ],
   "source": [
    "# Chart of Top 20 most popular places in Bloomington that sell alcohol by raw number of visits in Jan-April 2019 and Jan-April 2020\n",
    "alt.Chart(bton_bars_food[:20]).mark_bar().encode(\n",
    "    alt.X('location_name:N',\n",
    "         axis=alt.Axis(title='Location Name')),\n",
    "    alt.Y('raw_visit_counts:Q',\n",
    "         axis=alt.Axis(title='Number of Visits'))\n",
    ").properties(\n",
    "    title='Top 20 Popular Bars & Restaurants in Bloomington'\n",
    ")"
   ]
  },
  {
   "cell_type": "markdown",
   "metadata": {},
   "source": [
    "As you can see, this is a difficult question to answer because our data doesn't include a distinction between establishments that serve alcohol and those that don't.  Many of the establishments in the Top 20 don't serve alcohol: Culver's, IHOP, etc.\n",
    "\n",
    "But the data does show popularity by hour, so it's possible that we can determine when each type of establishment is most popular."
   ]
  },
  {
   "cell_type": "code",
   "execution_count": 71,
   "metadata": {},
   "outputs": [
    {
     "data": {
      "text/html": [
       "<div>\n",
       "<style scoped>\n",
       "    .dataframe tbody tr th:only-of-type {\n",
       "        vertical-align: middle;\n",
       "    }\n",
       "\n",
       "    .dataframe tbody tr th {\n",
       "        vertical-align: top;\n",
       "    }\n",
       "\n",
       "    .dataframe thead th {\n",
       "        text-align: right;\n",
       "    }\n",
       "</style>\n",
       "<table border=\"1\" class=\"dataframe\">\n",
       "  <thead>\n",
       "    <tr style=\"text-align: right;\">\n",
       "      <th></th>\n",
       "      <th>naics_code</th>\n",
       "      <th>popularity_by_hour</th>\n",
       "    </tr>\n",
       "  </thead>\n",
       "  <tbody>\n",
       "    <tr>\n",
       "      <th>23</th>\n",
       "      <td>722511.0</td>\n",
       "      <td>[4,6,8,7,5,5,5,11,11,13,14,14,15,23,22,22,17,1...</td>\n",
       "    </tr>\n",
       "    <tr>\n",
       "      <th>65</th>\n",
       "      <td>722511.0</td>\n",
       "      <td>[101,101,102,101,103,104,101,100,91,81,75,70,8...</td>\n",
       "    </tr>\n",
       "    <tr>\n",
       "      <th>110</th>\n",
       "      <td>722511.0</td>\n",
       "      <td>[25,32,29,34,20,19,32,34,38,61,71,77,77,81,69,...</td>\n",
       "    </tr>\n",
       "    <tr>\n",
       "      <th>170</th>\n",
       "      <td>722511.0</td>\n",
       "      <td>[81,74,66,72,90,95,93,96,93,91,90,110,136,133,...</td>\n",
       "    </tr>\n",
       "    <tr>\n",
       "      <th>319</th>\n",
       "      <td>722511.0</td>\n",
       "      <td>[16,17,18,17,18,16,15,30,29,29,30,39,35,33,33,...</td>\n",
       "    </tr>\n",
       "  </tbody>\n",
       "</table>\n",
       "</div>"
      ],
      "text/plain": [
       "     naics_code                                 popularity_by_hour\n",
       "23     722511.0  [4,6,8,7,5,5,5,11,11,13,14,14,15,23,22,22,17,1...\n",
       "65     722511.0  [101,101,102,101,103,104,101,100,91,81,75,70,8...\n",
       "110    722511.0  [25,32,29,34,20,19,32,34,38,61,71,77,77,81,69,...\n",
       "170    722511.0  [81,74,66,72,90,95,93,96,93,91,90,110,136,133,...\n",
       "319    722511.0  [16,17,18,17,18,16,15,30,29,29,30,39,35,33,33,..."
      ]
     },
     "execution_count": 71,
     "metadata": {},
     "output_type": "execute_result"
    }
   ],
   "source": [
    "# Recreate our dining establishments dataframe to include just one month\n",
    "bton_bars_food = bton_places[['naics_code', 'popularity_by_hour']]\n",
    "bton_bars_food = bton_bars_food[(\n",
    "        (bton_places.naics_code==722410) | \n",
    "        (bton_places.naics_code==722511)\n",
    "    ) & (\n",
    "        bton_places.month==1\n",
    "    ) & (\n",
    "        bton_places.year==2019\n",
    "    )\n",
    "    ]\n",
    "bton_bars_food.head()"
   ]
  },
  {
   "cell_type": "code",
   "execution_count": 72,
   "metadata": {},
   "outputs": [
    {
     "data": {
      "text/html": [
       "<div>\n",
       "<style scoped>\n",
       "    .dataframe tbody tr th:only-of-type {\n",
       "        vertical-align: middle;\n",
       "    }\n",
       "\n",
       "    .dataframe tbody tr th {\n",
       "        vertical-align: top;\n",
       "    }\n",
       "\n",
       "    .dataframe thead th {\n",
       "        text-align: right;\n",
       "    }\n",
       "</style>\n",
       "<table border=\"1\" class=\"dataframe\">\n",
       "  <thead>\n",
       "    <tr style=\"text-align: right;\">\n",
       "      <th></th>\n",
       "      <th>naics_code</th>\n",
       "      <th>hour0</th>\n",
       "      <th>hour1</th>\n",
       "      <th>hour2</th>\n",
       "      <th>hour3</th>\n",
       "      <th>hour4</th>\n",
       "      <th>hour5</th>\n",
       "      <th>hour6</th>\n",
       "      <th>hour7</th>\n",
       "      <th>hour8</th>\n",
       "      <th>...</th>\n",
       "      <th>hour14</th>\n",
       "      <th>hour15</th>\n",
       "      <th>hour16</th>\n",
       "      <th>hour17</th>\n",
       "      <th>hour18</th>\n",
       "      <th>hour19</th>\n",
       "      <th>hour20</th>\n",
       "      <th>hour21</th>\n",
       "      <th>hour22</th>\n",
       "      <th>hour23</th>\n",
       "    </tr>\n",
       "  </thead>\n",
       "  <tbody>\n",
       "    <tr>\n",
       "      <th>23</th>\n",
       "      <td>722511.0</td>\n",
       "      <td>4</td>\n",
       "      <td>6</td>\n",
       "      <td>8</td>\n",
       "      <td>7</td>\n",
       "      <td>5</td>\n",
       "      <td>5</td>\n",
       "      <td>5</td>\n",
       "      <td>11</td>\n",
       "      <td>11</td>\n",
       "      <td>...</td>\n",
       "      <td>22</td>\n",
       "      <td>22</td>\n",
       "      <td>17</td>\n",
       "      <td>17</td>\n",
       "      <td>14</td>\n",
       "      <td>20</td>\n",
       "      <td>22</td>\n",
       "      <td>18</td>\n",
       "      <td>9</td>\n",
       "      <td>4</td>\n",
       "    </tr>\n",
       "    <tr>\n",
       "      <th>65</th>\n",
       "      <td>722511.0</td>\n",
       "      <td>101</td>\n",
       "      <td>101</td>\n",
       "      <td>102</td>\n",
       "      <td>101</td>\n",
       "      <td>103</td>\n",
       "      <td>104</td>\n",
       "      <td>101</td>\n",
       "      <td>100</td>\n",
       "      <td>91</td>\n",
       "      <td>...</td>\n",
       "      <td>73</td>\n",
       "      <td>73</td>\n",
       "      <td>76</td>\n",
       "      <td>100</td>\n",
       "      <td>116</td>\n",
       "      <td>107</td>\n",
       "      <td>137</td>\n",
       "      <td>140</td>\n",
       "      <td>123</td>\n",
       "      <td>107</td>\n",
       "    </tr>\n",
       "    <tr>\n",
       "      <th>110</th>\n",
       "      <td>722511.0</td>\n",
       "      <td>25</td>\n",
       "      <td>32</td>\n",
       "      <td>29</td>\n",
       "      <td>34</td>\n",
       "      <td>20</td>\n",
       "      <td>19</td>\n",
       "      <td>32</td>\n",
       "      <td>34</td>\n",
       "      <td>38</td>\n",
       "      <td>...</td>\n",
       "      <td>69</td>\n",
       "      <td>46</td>\n",
       "      <td>36</td>\n",
       "      <td>32</td>\n",
       "      <td>20</td>\n",
       "      <td>24</td>\n",
       "      <td>35</td>\n",
       "      <td>39</td>\n",
       "      <td>28</td>\n",
       "      <td>22</td>\n",
       "    </tr>\n",
       "    <tr>\n",
       "      <th>170</th>\n",
       "      <td>722511.0</td>\n",
       "      <td>81</td>\n",
       "      <td>74</td>\n",
       "      <td>66</td>\n",
       "      <td>72</td>\n",
       "      <td>90</td>\n",
       "      <td>95</td>\n",
       "      <td>93</td>\n",
       "      <td>96</td>\n",
       "      <td>93</td>\n",
       "      <td>...</td>\n",
       "      <td>126</td>\n",
       "      <td>133</td>\n",
       "      <td>136</td>\n",
       "      <td>155</td>\n",
       "      <td>157</td>\n",
       "      <td>167</td>\n",
       "      <td>203</td>\n",
       "      <td>167</td>\n",
       "      <td>114</td>\n",
       "      <td>94</td>\n",
       "    </tr>\n",
       "    <tr>\n",
       "      <th>319</th>\n",
       "      <td>722511.0</td>\n",
       "      <td>16</td>\n",
       "      <td>17</td>\n",
       "      <td>18</td>\n",
       "      <td>17</td>\n",
       "      <td>18</td>\n",
       "      <td>16</td>\n",
       "      <td>15</td>\n",
       "      <td>30</td>\n",
       "      <td>29</td>\n",
       "      <td>...</td>\n",
       "      <td>33</td>\n",
       "      <td>34</td>\n",
       "      <td>29</td>\n",
       "      <td>12</td>\n",
       "      <td>5</td>\n",
       "      <td>7</td>\n",
       "      <td>11</td>\n",
       "      <td>13</td>\n",
       "      <td>15</td>\n",
       "      <td>17</td>\n",
       "    </tr>\n",
       "  </tbody>\n",
       "</table>\n",
       "<p>5 rows × 25 columns</p>\n",
       "</div>"
      ],
      "text/plain": [
       "     naics_code  hour0  hour1  hour2  hour3  hour4  hour5  hour6  hour7  \\\n",
       "23     722511.0      4      6      8      7      5      5      5     11   \n",
       "65     722511.0    101    101    102    101    103    104    101    100   \n",
       "110    722511.0     25     32     29     34     20     19     32     34   \n",
       "170    722511.0     81     74     66     72     90     95     93     96   \n",
       "319    722511.0     16     17     18     17     18     16     15     30   \n",
       "\n",
       "     hour8  ...  hour14  hour15  hour16  hour17  hour18  hour19  hour20  \\\n",
       "23      11  ...      22      22      17      17      14      20      22   \n",
       "65      91  ...      73      73      76     100     116     107     137   \n",
       "110     38  ...      69      46      36      32      20      24      35   \n",
       "170     93  ...     126     133     136     155     157     167     203   \n",
       "319     29  ...      33      34      29      12       5       7      11   \n",
       "\n",
       "     hour21  hour22  hour23  \n",
       "23       18       9       4  \n",
       "65      140     123     107  \n",
       "110      39      28      22  \n",
       "170     167     114      94  \n",
       "319      13      15      17  \n",
       "\n",
       "[5 rows x 25 columns]"
      ]
     },
     "execution_count": 72,
     "metadata": {},
     "output_type": "execute_result"
    }
   ],
   "source": [
    "# Now split the popularity by hour array\n",
    "\n",
    "hour_columns = []\n",
    "\n",
    "def expand(row):\n",
    "    # Have to convert the string stored in popularity_by_hour to an actual Python list\n",
    "    popularity = ast.literal_eval(row.popularity_by_hour)\n",
    "    counter = 0\n",
    "    for item in popularity:\n",
    "        column_name = 'hour' + str(counter)\n",
    "        hour_columns.append(column_name)\n",
    "        row[column_name] = item\n",
    "        counter = counter+1\n",
    "    return row\n",
    "\n",
    "bton_bars_food = bton_bars_food.apply(expand, axis=1)\n",
    "bton_bars_food.drop(columns='popularity_by_hour', inplace=True)\n",
    "bton_bars_food.head()"
   ]
  },
  {
   "cell_type": "code",
   "execution_count": 75,
   "metadata": {},
   "outputs": [
    {
     "data": {
      "text/html": [
       "<div>\n",
       "<style scoped>\n",
       "    .dataframe tbody tr th:only-of-type {\n",
       "        vertical-align: middle;\n",
       "    }\n",
       "\n",
       "    .dataframe tbody tr th {\n",
       "        vertical-align: top;\n",
       "    }\n",
       "\n",
       "    .dataframe thead th {\n",
       "        text-align: right;\n",
       "    }\n",
       "</style>\n",
       "<table border=\"1\" class=\"dataframe\">\n",
       "  <thead>\n",
       "    <tr style=\"text-align: right;\">\n",
       "      <th></th>\n",
       "      <th>naics_code</th>\n",
       "      <th>hour</th>\n",
       "      <th>visits</th>\n",
       "    </tr>\n",
       "  </thead>\n",
       "  <tbody>\n",
       "    <tr>\n",
       "      <th>0</th>\n",
       "      <td>722511.0</td>\n",
       "      <td>hour0</td>\n",
       "      <td>4</td>\n",
       "    </tr>\n",
       "    <tr>\n",
       "      <th>1</th>\n",
       "      <td>722511.0</td>\n",
       "      <td>hour0</td>\n",
       "      <td>101</td>\n",
       "    </tr>\n",
       "    <tr>\n",
       "      <th>2</th>\n",
       "      <td>722511.0</td>\n",
       "      <td>hour0</td>\n",
       "      <td>25</td>\n",
       "    </tr>\n",
       "    <tr>\n",
       "      <th>3</th>\n",
       "      <td>722511.0</td>\n",
       "      <td>hour0</td>\n",
       "      <td>81</td>\n",
       "    </tr>\n",
       "    <tr>\n",
       "      <th>4</th>\n",
       "      <td>722511.0</td>\n",
       "      <td>hour0</td>\n",
       "      <td>16</td>\n",
       "    </tr>\n",
       "    <tr>\n",
       "      <th>...</th>\n",
       "      <td>...</td>\n",
       "      <td>...</td>\n",
       "      <td>...</td>\n",
       "    </tr>\n",
       "    <tr>\n",
       "      <th>907915</th>\n",
       "      <td>722511.0</td>\n",
       "      <td>hour23</td>\n",
       "      <td>31</td>\n",
       "    </tr>\n",
       "    <tr>\n",
       "      <th>907916</th>\n",
       "      <td>722511.0</td>\n",
       "      <td>hour23</td>\n",
       "      <td>38</td>\n",
       "    </tr>\n",
       "    <tr>\n",
       "      <th>907917</th>\n",
       "      <td>722511.0</td>\n",
       "      <td>hour23</td>\n",
       "      <td>7</td>\n",
       "    </tr>\n",
       "    <tr>\n",
       "      <th>907918</th>\n",
       "      <td>722511.0</td>\n",
       "      <td>hour23</td>\n",
       "      <td>0</td>\n",
       "    </tr>\n",
       "    <tr>\n",
       "      <th>907919</th>\n",
       "      <td>722511.0</td>\n",
       "      <td>hour23</td>\n",
       "      <td>18</td>\n",
       "    </tr>\n",
       "  </tbody>\n",
       "</table>\n",
       "<p>907920 rows × 3 columns</p>\n",
       "</div>"
      ],
      "text/plain": [
       "        naics_code    hour  visits\n",
       "0         722511.0   hour0       4\n",
       "1         722511.0   hour0     101\n",
       "2         722511.0   hour0      25\n",
       "3         722511.0   hour0      81\n",
       "4         722511.0   hour0      16\n",
       "...            ...     ...     ...\n",
       "907915    722511.0  hour23      31\n",
       "907916    722511.0  hour23      38\n",
       "907917    722511.0  hour23       7\n",
       "907918    722511.0  hour23       0\n",
       "907919    722511.0  hour23      18\n",
       "\n",
       "[907920 rows x 3 columns]"
      ]
     },
     "execution_count": 75,
     "metadata": {},
     "output_type": "execute_result"
    }
   ],
   "source": [
    "# Melt the dataframe\n",
    "bton_bars_food_popularity = pd.melt(bton_bars_food, \n",
    "                                    id_vars=['naics_code'], \n",
    "                                    value_vars=hour_columns,\n",
    "                                    var_name='hour',\n",
    "                                    value_name='visits')\n",
    "bton_bars_food_popularity"
   ]
  },
  {
   "cell_type": "code",
   "execution_count": 77,
   "metadata": {},
   "outputs": [
    {
     "data": {
      "text/html": [
       "<div>\n",
       "<style scoped>\n",
       "    .dataframe tbody tr th:only-of-type {\n",
       "        vertical-align: middle;\n",
       "    }\n",
       "\n",
       "    .dataframe tbody tr th {\n",
       "        vertical-align: top;\n",
       "    }\n",
       "\n",
       "    .dataframe thead th {\n",
       "        text-align: right;\n",
       "    }\n",
       "</style>\n",
       "<table border=\"1\" class=\"dataframe\">\n",
       "  <thead>\n",
       "    <tr style=\"text-align: right;\">\n",
       "      <th></th>\n",
       "      <th>naics_code</th>\n",
       "      <th>hour</th>\n",
       "      <th>visits</th>\n",
       "    </tr>\n",
       "  </thead>\n",
       "  <tbody>\n",
       "    <tr>\n",
       "      <th>0</th>\n",
       "      <td>722410.0</td>\n",
       "      <td>hour0</td>\n",
       "      <td>33735</td>\n",
       "    </tr>\n",
       "    <tr>\n",
       "      <th>24</th>\n",
       "      <td>722511.0</td>\n",
       "      <td>hour0</td>\n",
       "      <td>715260</td>\n",
       "    </tr>\n",
       "    <tr>\n",
       "      <th>1</th>\n",
       "      <td>722410.0</td>\n",
       "      <td>hour1</td>\n",
       "      <td>25350</td>\n",
       "    </tr>\n",
       "    <tr>\n",
       "      <th>25</th>\n",
       "      <td>722511.0</td>\n",
       "      <td>hour1</td>\n",
       "      <td>621270</td>\n",
       "    </tr>\n",
       "    <tr>\n",
       "      <th>2</th>\n",
       "      <td>722410.0</td>\n",
       "      <td>hour10</td>\n",
       "      <td>25935</td>\n",
       "    </tr>\n",
       "    <tr>\n",
       "      <th>26</th>\n",
       "      <td>722511.0</td>\n",
       "      <td>hour10</td>\n",
       "      <td>998205</td>\n",
       "    </tr>\n",
       "    <tr>\n",
       "      <th>3</th>\n",
       "      <td>722410.0</td>\n",
       "      <td>hour11</td>\n",
       "      <td>25740</td>\n",
       "    </tr>\n",
       "    <tr>\n",
       "      <th>27</th>\n",
       "      <td>722511.0</td>\n",
       "      <td>hour11</td>\n",
       "      <td>1381185</td>\n",
       "    </tr>\n",
       "    <tr>\n",
       "      <th>4</th>\n",
       "      <td>722410.0</td>\n",
       "      <td>hour12</td>\n",
       "      <td>30225</td>\n",
       "    </tr>\n",
       "    <tr>\n",
       "      <th>28</th>\n",
       "      <td>722511.0</td>\n",
       "      <td>hour12</td>\n",
       "      <td>1779960</td>\n",
       "    </tr>\n",
       "    <tr>\n",
       "      <th>5</th>\n",
       "      <td>722410.0</td>\n",
       "      <td>hour13</td>\n",
       "      <td>29055</td>\n",
       "    </tr>\n",
       "    <tr>\n",
       "      <th>29</th>\n",
       "      <td>722511.0</td>\n",
       "      <td>hour13</td>\n",
       "      <td>1672515</td>\n",
       "    </tr>\n",
       "    <tr>\n",
       "      <th>6</th>\n",
       "      <td>722410.0</td>\n",
       "      <td>hour14</td>\n",
       "      <td>30030</td>\n",
       "    </tr>\n",
       "    <tr>\n",
       "      <th>30</th>\n",
       "      <td>722511.0</td>\n",
       "      <td>hour14</td>\n",
       "      <td>1454310</td>\n",
       "    </tr>\n",
       "    <tr>\n",
       "      <th>7</th>\n",
       "      <td>722410.0</td>\n",
       "      <td>hour15</td>\n",
       "      <td>33735</td>\n",
       "    </tr>\n",
       "    <tr>\n",
       "      <th>31</th>\n",
       "      <td>722511.0</td>\n",
       "      <td>hour15</td>\n",
       "      <td>1364025</td>\n",
       "    </tr>\n",
       "    <tr>\n",
       "      <th>8</th>\n",
       "      <td>722410.0</td>\n",
       "      <td>hour16</td>\n",
       "      <td>37245</td>\n",
       "    </tr>\n",
       "    <tr>\n",
       "      <th>32</th>\n",
       "      <td>722511.0</td>\n",
       "      <td>hour16</td>\n",
       "      <td>1418040</td>\n",
       "    </tr>\n",
       "    <tr>\n",
       "      <th>9</th>\n",
       "      <td>722410.0</td>\n",
       "      <td>hour17</td>\n",
       "      <td>43680</td>\n",
       "    </tr>\n",
       "    <tr>\n",
       "      <th>33</th>\n",
       "      <td>722511.0</td>\n",
       "      <td>hour17</td>\n",
       "      <td>1678950</td>\n",
       "    </tr>\n",
       "    <tr>\n",
       "      <th>10</th>\n",
       "      <td>722410.0</td>\n",
       "      <td>hour18</td>\n",
       "      <td>35100</td>\n",
       "    </tr>\n",
       "    <tr>\n",
       "      <th>34</th>\n",
       "      <td>722511.0</td>\n",
       "      <td>hour18</td>\n",
       "      <td>1644045</td>\n",
       "    </tr>\n",
       "    <tr>\n",
       "      <th>11</th>\n",
       "      <td>722410.0</td>\n",
       "      <td>hour19</td>\n",
       "      <td>32370</td>\n",
       "    </tr>\n",
       "    <tr>\n",
       "      <th>35</th>\n",
       "      <td>722511.0</td>\n",
       "      <td>hour19</td>\n",
       "      <td>1421550</td>\n",
       "    </tr>\n",
       "    <tr>\n",
       "      <th>12</th>\n",
       "      <td>722410.0</td>\n",
       "      <td>hour2</td>\n",
       "      <td>19110</td>\n",
       "    </tr>\n",
       "    <tr>\n",
       "      <th>36</th>\n",
       "      <td>722511.0</td>\n",
       "      <td>hour2</td>\n",
       "      <td>532545</td>\n",
       "    </tr>\n",
       "    <tr>\n",
       "      <th>13</th>\n",
       "      <td>722410.0</td>\n",
       "      <td>hour20</td>\n",
       "      <td>34905</td>\n",
       "    </tr>\n",
       "    <tr>\n",
       "      <th>37</th>\n",
       "      <td>722511.0</td>\n",
       "      <td>hour20</td>\n",
       "      <td>1416480</td>\n",
       "    </tr>\n",
       "    <tr>\n",
       "      <th>14</th>\n",
       "      <td>722410.0</td>\n",
       "      <td>hour21</td>\n",
       "      <td>35685</td>\n",
       "    </tr>\n",
       "    <tr>\n",
       "      <th>38</th>\n",
       "      <td>722511.0</td>\n",
       "      <td>hour21</td>\n",
       "      <td>1123590</td>\n",
       "    </tr>\n",
       "    <tr>\n",
       "      <th>15</th>\n",
       "      <td>722410.0</td>\n",
       "      <td>hour22</td>\n",
       "      <td>40170</td>\n",
       "    </tr>\n",
       "    <tr>\n",
       "      <th>39</th>\n",
       "      <td>722511.0</td>\n",
       "      <td>hour22</td>\n",
       "      <td>892320</td>\n",
       "    </tr>\n",
       "    <tr>\n",
       "      <th>16</th>\n",
       "      <td>722410.0</td>\n",
       "      <td>hour23</td>\n",
       "      <td>40560</td>\n",
       "    </tr>\n",
       "    <tr>\n",
       "      <th>40</th>\n",
       "      <td>722511.0</td>\n",
       "      <td>hour23</td>\n",
       "      <td>794820</td>\n",
       "    </tr>\n",
       "    <tr>\n",
       "      <th>17</th>\n",
       "      <td>722410.0</td>\n",
       "      <td>hour3</td>\n",
       "      <td>13455</td>\n",
       "    </tr>\n",
       "    <tr>\n",
       "      <th>41</th>\n",
       "      <td>722511.0</td>\n",
       "      <td>hour3</td>\n",
       "      <td>464880</td>\n",
       "    </tr>\n",
       "    <tr>\n",
       "      <th>18</th>\n",
       "      <td>722410.0</td>\n",
       "      <td>hour4</td>\n",
       "      <td>9945</td>\n",
       "    </tr>\n",
       "    <tr>\n",
       "      <th>42</th>\n",
       "      <td>722511.0</td>\n",
       "      <td>hour4</td>\n",
       "      <td>442650</td>\n",
       "    </tr>\n",
       "    <tr>\n",
       "      <th>19</th>\n",
       "      <td>722410.0</td>\n",
       "      <td>hour5</td>\n",
       "      <td>10920</td>\n",
       "    </tr>\n",
       "    <tr>\n",
       "      <th>43</th>\n",
       "      <td>722511.0</td>\n",
       "      <td>hour5</td>\n",
       "      <td>450840</td>\n",
       "    </tr>\n",
       "    <tr>\n",
       "      <th>20</th>\n",
       "      <td>722410.0</td>\n",
       "      <td>hour6</td>\n",
       "      <td>14040</td>\n",
       "    </tr>\n",
       "    <tr>\n",
       "      <th>44</th>\n",
       "      <td>722511.0</td>\n",
       "      <td>hour6</td>\n",
       "      <td>491010</td>\n",
       "    </tr>\n",
       "    <tr>\n",
       "      <th>21</th>\n",
       "      <td>722410.0</td>\n",
       "      <td>hour7</td>\n",
       "      <td>16185</td>\n",
       "    </tr>\n",
       "    <tr>\n",
       "      <th>45</th>\n",
       "      <td>722511.0</td>\n",
       "      <td>hour7</td>\n",
       "      <td>585000</td>\n",
       "    </tr>\n",
       "    <tr>\n",
       "      <th>22</th>\n",
       "      <td>722410.0</td>\n",
       "      <td>hour8</td>\n",
       "      <td>19695</td>\n",
       "    </tr>\n",
       "    <tr>\n",
       "      <th>46</th>\n",
       "      <td>722511.0</td>\n",
       "      <td>hour8</td>\n",
       "      <td>721110</td>\n",
       "    </tr>\n",
       "    <tr>\n",
       "      <th>23</th>\n",
       "      <td>722410.0</td>\n",
       "      <td>hour9</td>\n",
       "      <td>24180</td>\n",
       "    </tr>\n",
       "    <tr>\n",
       "      <th>47</th>\n",
       "      <td>722511.0</td>\n",
       "      <td>hour9</td>\n",
       "      <td>834990</td>\n",
       "    </tr>\n",
       "  </tbody>\n",
       "</table>\n",
       "</div>"
      ],
      "text/plain": [
       "    naics_code    hour   visits\n",
       "0     722410.0   hour0    33735\n",
       "24    722511.0   hour0   715260\n",
       "1     722410.0   hour1    25350\n",
       "25    722511.0   hour1   621270\n",
       "2     722410.0  hour10    25935\n",
       "26    722511.0  hour10   998205\n",
       "3     722410.0  hour11    25740\n",
       "27    722511.0  hour11  1381185\n",
       "4     722410.0  hour12    30225\n",
       "28    722511.0  hour12  1779960\n",
       "5     722410.0  hour13    29055\n",
       "29    722511.0  hour13  1672515\n",
       "6     722410.0  hour14    30030\n",
       "30    722511.0  hour14  1454310\n",
       "7     722410.0  hour15    33735\n",
       "31    722511.0  hour15  1364025\n",
       "8     722410.0  hour16    37245\n",
       "32    722511.0  hour16  1418040\n",
       "9     722410.0  hour17    43680\n",
       "33    722511.0  hour17  1678950\n",
       "10    722410.0  hour18    35100\n",
       "34    722511.0  hour18  1644045\n",
       "11    722410.0  hour19    32370\n",
       "35    722511.0  hour19  1421550\n",
       "12    722410.0   hour2    19110\n",
       "36    722511.0   hour2   532545\n",
       "13    722410.0  hour20    34905\n",
       "37    722511.0  hour20  1416480\n",
       "14    722410.0  hour21    35685\n",
       "38    722511.0  hour21  1123590\n",
       "15    722410.0  hour22    40170\n",
       "39    722511.0  hour22   892320\n",
       "16    722410.0  hour23    40560\n",
       "40    722511.0  hour23   794820\n",
       "17    722410.0   hour3    13455\n",
       "41    722511.0   hour3   464880\n",
       "18    722410.0   hour4     9945\n",
       "42    722511.0   hour4   442650\n",
       "19    722410.0   hour5    10920\n",
       "43    722511.0   hour5   450840\n",
       "20    722410.0   hour6    14040\n",
       "44    722511.0   hour6   491010\n",
       "21    722410.0   hour7    16185\n",
       "45    722511.0   hour7   585000\n",
       "22    722410.0   hour8    19695\n",
       "46    722511.0   hour8   721110\n",
       "23    722410.0   hour9    24180\n",
       "47    722511.0   hour9   834990"
      ]
     },
     "execution_count": 77,
     "metadata": {},
     "output_type": "execute_result"
    }
   ],
   "source": [
    "# Sum it up so that we get one row for each hour for each NAICS code\n",
    "pop_by_hour = bton_bars_food_popularity.groupby([\"naics_code\", \"hour\"], as_index = False)[\"visits\"].sum()\n",
    "pop_by_hour = pop_by_hour.sort_values(by=['hour', 'naics_code'])\n",
    "pop_by_hour"
   ]
  },
  {
   "cell_type": "code",
   "execution_count": 78,
   "metadata": {},
   "outputs": [
    {
     "ename": "AttributeError",
     "evalue": "'Chart' object has no attribute 'transform_density'",
     "output_type": "error",
     "traceback": [
      "\u001b[0;31m---------------------------------------------------------------------------\u001b[0m",
      "\u001b[0;31mAttributeError\u001b[0m                            Traceback (most recent call last)",
      "\u001b[0;32m<ipython-input-78-de516f9e9912>\u001b[0m in \u001b[0;36m<module>\u001b[0;34m\u001b[0m\n\u001b[1;32m      1\u001b[0m \u001b[0;31m# Now make a violin plot\u001b[0m\u001b[0;34m\u001b[0m\u001b[0;34m\u001b[0m\u001b[0;34m\u001b[0m\u001b[0m\n\u001b[1;32m      2\u001b[0m \u001b[0;34m\u001b[0m\u001b[0m\n\u001b[0;32m----> 3\u001b[0;31m alt.Chart(pop_by_hour).transform_density(\n\u001b[0m\u001b[1;32m      4\u001b[0m     \u001b[0;34m'visits'\u001b[0m\u001b[0;34m,\u001b[0m\u001b[0;34m\u001b[0m\u001b[0;34m\u001b[0m\u001b[0m\n\u001b[1;32m      5\u001b[0m     \u001b[0mas_\u001b[0m\u001b[0;34m=\u001b[0m\u001b[0;34m[\u001b[0m\u001b[0;34m'visits'\u001b[0m\u001b[0;34m,\u001b[0m \u001b[0;34m'density'\u001b[0m\u001b[0;34m]\u001b[0m\u001b[0;34m,\u001b[0m\u001b[0;34m\u001b[0m\u001b[0;34m\u001b[0m\u001b[0m\n",
      "\u001b[0;32m~/anaconda3/envs/dviz/lib/python3.8/site-packages/altair/utils/schemapi.py\u001b[0m in \u001b[0;36m__getattr__\u001b[0;34m(self, attr)\u001b[0m\n\u001b[1;32m    227\u001b[0m             \u001b[0;32mexcept\u001b[0m \u001b[0mAttributeError\u001b[0m\u001b[0;34m:\u001b[0m\u001b[0;34m\u001b[0m\u001b[0;34m\u001b[0m\u001b[0m\n\u001b[1;32m    228\u001b[0m                 \u001b[0m_getattr\u001b[0m \u001b[0;34m=\u001b[0m \u001b[0msuper\u001b[0m\u001b[0;34m(\u001b[0m\u001b[0mSchemaBase\u001b[0m\u001b[0;34m,\u001b[0m \u001b[0mself\u001b[0m\u001b[0;34m)\u001b[0m\u001b[0;34m.\u001b[0m\u001b[0m__getattribute__\u001b[0m\u001b[0;34m\u001b[0m\u001b[0;34m\u001b[0m\u001b[0m\n\u001b[0;32m--> 229\u001b[0;31m             \u001b[0;32mreturn\u001b[0m \u001b[0m_getattr\u001b[0m\u001b[0;34m(\u001b[0m\u001b[0mattr\u001b[0m\u001b[0;34m)\u001b[0m\u001b[0;34m\u001b[0m\u001b[0;34m\u001b[0m\u001b[0m\n\u001b[0m\u001b[1;32m    230\u001b[0m \u001b[0;34m\u001b[0m\u001b[0m\n\u001b[1;32m    231\u001b[0m     \u001b[0;32mdef\u001b[0m \u001b[0m__setattr__\u001b[0m\u001b[0;34m(\u001b[0m\u001b[0mself\u001b[0m\u001b[0;34m,\u001b[0m \u001b[0mitem\u001b[0m \u001b[0;34m,\u001b[0m \u001b[0mval\u001b[0m\u001b[0;34m)\u001b[0m\u001b[0;34m:\u001b[0m\u001b[0;34m\u001b[0m\u001b[0;34m\u001b[0m\u001b[0m\n",
      "\u001b[0;31mAttributeError\u001b[0m: 'Chart' object has no attribute 'transform_density'"
     ]
    }
   ],
   "source": [
    "# Now make a violin plot\n",
    "\n",
    "alt.Chart(pop_by_hour).transform_density(\n",
    "    'visits',\n",
    "    as_=['visits', 'density'],\n",
    "    extent=[5, 50],\n",
    "    groupby=['naics_code']\n",
    ").mark_area(orient='horizontal').encode(\n",
    "    y='visits:Q',\n",
    "    color='naics_code:N',\n",
    "    x=alt.X(\n",
    "        'density:Q',\n",
    "        stack='center',\n",
    "        impute=None,\n",
    "        title=None,\n",
    "        axis=alt.Axis(labels=False, values=[0],grid=False, ticks=True),\n",
    "    ),\n",
    "    column=alt.Column(\n",
    "        'naics_code:N',\n",
    "        header=alt.Header(\n",
    "            titleOrient='bottom',\n",
    "            labelOrient='bottom',\n",
    "            labelPadding=0,\n",
    "        ),\n",
    "    )\n",
    ").properties(\n",
    "    width=100\n",
    ").configure_facet(\n",
    "    spacing=0\n",
    ").configure_view(\n",
    "    stroke=None\n",
    ")\n"
   ]
  },
  {
   "cell_type": "code",
   "execution_count": 80,
   "metadata": {},
   "outputs": [
    {
     "ename": "SchemaValidationError",
     "evalue": "Invalid specification\n\n        altair.vegalite.v3.schema.core.FoldTransform->fold->items, validating 'type'\n\n        722410.0 is not of type 'string'\n        ",
     "output_type": "error",
     "traceback": [
      "\u001b[0;31m---------------------------------------------------------------------------\u001b[0m",
      "\u001b[0;31mSchemaValidationError\u001b[0m                     Traceback (most recent call last)",
      "\u001b[0;32m<ipython-input-80-14b69ed31148>\u001b[0m in \u001b[0;36m<module>\u001b[0;34m\u001b[0m\n\u001b[0;32m----> 1\u001b[0;31m alt.Chart(pop_by_hour).transform_fold(\n\u001b[0m\u001b[1;32m      2\u001b[0m     \u001b[0;34m[\u001b[0m\u001b[0;36m722410.0\u001b[0m\u001b[0;34m,\u001b[0m \u001b[0;36m722511.0\u001b[0m\u001b[0;34m]\u001b[0m\u001b[0;34m,\u001b[0m\u001b[0;34m\u001b[0m\u001b[0;34m\u001b[0m\u001b[0m\n\u001b[1;32m      3\u001b[0m     \u001b[0mas_\u001b[0m\u001b[0;34m=\u001b[0m\u001b[0;34m[\u001b[0m\u001b[0;34m'Experiment'\u001b[0m\u001b[0;34m,\u001b[0m \u001b[0;34m'Measurement'\u001b[0m\u001b[0;34m]\u001b[0m\u001b[0;34m\u001b[0m\u001b[0;34m\u001b[0m\u001b[0m\n\u001b[1;32m      4\u001b[0m \u001b[0;34m)\u001b[0m\u001b[0;34m.\u001b[0m\u001b[0mmark_area\u001b[0m\u001b[0;34m(\u001b[0m\u001b[0;34m\u001b[0m\u001b[0;34m\u001b[0m\u001b[0m\n\u001b[1;32m      5\u001b[0m     \u001b[0mopacity\u001b[0m\u001b[0;34m=\u001b[0m\u001b[0;36m0.3\u001b[0m\u001b[0;34m,\u001b[0m\u001b[0;34m\u001b[0m\u001b[0;34m\u001b[0m\u001b[0m\n",
      "\u001b[0;32m~/anaconda3/envs/dviz/lib/python3.8/site-packages/altair/vegalite/v3/api.py\u001b[0m in \u001b[0;36mtransform_fold\u001b[0;34m(self, fold, as_)\u001b[0m\n\u001b[1;32m   1012\u001b[0m         \u001b[0malt\u001b[0m\u001b[0;34m.\u001b[0m\u001b[0mFoldTransform\u001b[0m \u001b[0;34m:\u001b[0m \u001b[0munderlying\u001b[0m \u001b[0mtransform\u001b[0m \u001b[0mobject\u001b[0m\u001b[0;34m\u001b[0m\u001b[0;34m\u001b[0m\u001b[0m\n\u001b[1;32m   1013\u001b[0m         \"\"\"\n\u001b[0;32m-> 1014\u001b[0;31m         \u001b[0;32mreturn\u001b[0m \u001b[0mself\u001b[0m\u001b[0;34m.\u001b[0m\u001b[0m_add_transform\u001b[0m\u001b[0;34m(\u001b[0m\u001b[0mcore\u001b[0m\u001b[0;34m.\u001b[0m\u001b[0mFoldTransform\u001b[0m\u001b[0;34m(\u001b[0m\u001b[0mfold\u001b[0m\u001b[0;34m=\u001b[0m\u001b[0mfold\u001b[0m\u001b[0;34m,\u001b[0m \u001b[0;34m**\u001b[0m\u001b[0;34m{\u001b[0m\u001b[0;34m'as'\u001b[0m\u001b[0;34m:\u001b[0m \u001b[0mas_\u001b[0m\u001b[0;34m}\u001b[0m\u001b[0;34m)\u001b[0m\u001b[0;34m)\u001b[0m\u001b[0;34m\u001b[0m\u001b[0;34m\u001b[0m\u001b[0m\n\u001b[0m\u001b[1;32m   1015\u001b[0m \u001b[0;34m\u001b[0m\u001b[0m\n\u001b[1;32m   1016\u001b[0m     \u001b[0;32mdef\u001b[0m \u001b[0mtransform_lookup\u001b[0m\u001b[0;34m(\u001b[0m\u001b[0mself\u001b[0m\u001b[0;34m,\u001b[0m \u001b[0mas_\u001b[0m\u001b[0;34m=\u001b[0m\u001b[0mUndefined\u001b[0m\u001b[0;34m,\u001b[0m \u001b[0mfrom_\u001b[0m\u001b[0;34m=\u001b[0m\u001b[0mUndefined\u001b[0m\u001b[0;34m,\u001b[0m \u001b[0mlookup\u001b[0m\u001b[0;34m=\u001b[0m\u001b[0mUndefined\u001b[0m\u001b[0;34m,\u001b[0m \u001b[0mdefault\u001b[0m\u001b[0;34m=\u001b[0m\u001b[0mUndefined\u001b[0m\u001b[0;34m,\u001b[0m \u001b[0;34m**\u001b[0m\u001b[0mkwargs\u001b[0m\u001b[0;34m)\u001b[0m\u001b[0;34m:\u001b[0m\u001b[0;34m\u001b[0m\u001b[0;34m\u001b[0m\u001b[0m\n",
      "\u001b[0;32m~/anaconda3/envs/dviz/lib/python3.8/site-packages/altair/vegalite/v3/schema/core.py\u001b[0m in \u001b[0;36m__init__\u001b[0;34m(self, fold, **kwds)\u001b[0m\n\u001b[1;32m   5988\u001b[0m \u001b[0;34m\u001b[0m\u001b[0m\n\u001b[1;32m   5989\u001b[0m     \u001b[0;32mdef\u001b[0m \u001b[0m__init__\u001b[0m\u001b[0;34m(\u001b[0m\u001b[0mself\u001b[0m\u001b[0;34m,\u001b[0m \u001b[0mfold\u001b[0m\u001b[0;34m=\u001b[0m\u001b[0mUndefined\u001b[0m\u001b[0;34m,\u001b[0m \u001b[0;34m**\u001b[0m\u001b[0mkwds\u001b[0m\u001b[0;34m)\u001b[0m\u001b[0;34m:\u001b[0m\u001b[0;34m\u001b[0m\u001b[0;34m\u001b[0m\u001b[0m\n\u001b[0;32m-> 5990\u001b[0;31m         \u001b[0msuper\u001b[0m\u001b[0;34m(\u001b[0m\u001b[0mFoldTransform\u001b[0m\u001b[0;34m,\u001b[0m \u001b[0mself\u001b[0m\u001b[0;34m)\u001b[0m\u001b[0;34m.\u001b[0m\u001b[0m__init__\u001b[0m\u001b[0;34m(\u001b[0m\u001b[0mfold\u001b[0m\u001b[0;34m=\u001b[0m\u001b[0mfold\u001b[0m\u001b[0;34m,\u001b[0m \u001b[0;34m**\u001b[0m\u001b[0mkwds\u001b[0m\u001b[0;34m)\u001b[0m\u001b[0;34m\u001b[0m\u001b[0;34m\u001b[0m\u001b[0m\n\u001b[0m\u001b[1;32m   5991\u001b[0m \u001b[0;34m\u001b[0m\u001b[0m\n\u001b[1;32m   5992\u001b[0m \u001b[0;34m\u001b[0m\u001b[0m\n",
      "\u001b[0;32m~/anaconda3/envs/dviz/lib/python3.8/site-packages/altair/utils/schemapi.py\u001b[0m in \u001b[0;36m__init__\u001b[0;34m(self, *args, **kwds)\u001b[0m\n\u001b[1;32m    152\u001b[0m \u001b[0;34m\u001b[0m\u001b[0m\n\u001b[1;32m    153\u001b[0m         \u001b[0;32mif\u001b[0m \u001b[0mDEBUG_MODE\u001b[0m \u001b[0;32mand\u001b[0m \u001b[0mself\u001b[0m\u001b[0;34m.\u001b[0m\u001b[0m_class_is_valid_at_instantiation\u001b[0m\u001b[0;34m:\u001b[0m\u001b[0;34m\u001b[0m\u001b[0;34m\u001b[0m\u001b[0m\n\u001b[0;32m--> 154\u001b[0;31m             \u001b[0mself\u001b[0m\u001b[0;34m.\u001b[0m\u001b[0mto_dict\u001b[0m\u001b[0;34m(\u001b[0m\u001b[0mvalidate\u001b[0m\u001b[0;34m=\u001b[0m\u001b[0;32mTrue\u001b[0m\u001b[0;34m)\u001b[0m\u001b[0;34m\u001b[0m\u001b[0;34m\u001b[0m\u001b[0m\n\u001b[0m\u001b[1;32m    155\u001b[0m \u001b[0;34m\u001b[0m\u001b[0m\n\u001b[1;32m    156\u001b[0m     \u001b[0;32mdef\u001b[0m \u001b[0mcopy\u001b[0m\u001b[0;34m(\u001b[0m\u001b[0mself\u001b[0m\u001b[0;34m,\u001b[0m \u001b[0mdeep\u001b[0m\u001b[0;34m=\u001b[0m\u001b[0;32mTrue\u001b[0m\u001b[0;34m,\u001b[0m \u001b[0mignore\u001b[0m\u001b[0;34m=\u001b[0m\u001b[0;34m(\u001b[0m\u001b[0;34m)\u001b[0m\u001b[0;34m)\u001b[0m\u001b[0;34m:\u001b[0m\u001b[0;34m\u001b[0m\u001b[0;34m\u001b[0m\u001b[0m\n",
      "\u001b[0;32m~/anaconda3/envs/dviz/lib/python3.8/site-packages/altair/utils/schemapi.py\u001b[0m in \u001b[0;36mto_dict\u001b[0;34m(self, validate, ignore, context)\u001b[0m\n\u001b[1;32m    300\u001b[0m                 \u001b[0mself\u001b[0m\u001b[0;34m.\u001b[0m\u001b[0mvalidate\u001b[0m\u001b[0;34m(\u001b[0m\u001b[0mresult\u001b[0m\u001b[0;34m)\u001b[0m\u001b[0;34m\u001b[0m\u001b[0;34m\u001b[0m\u001b[0m\n\u001b[1;32m    301\u001b[0m             \u001b[0;32mexcept\u001b[0m \u001b[0mjsonschema\u001b[0m\u001b[0;34m.\u001b[0m\u001b[0mValidationError\u001b[0m \u001b[0;32mas\u001b[0m \u001b[0merr\u001b[0m\u001b[0;34m:\u001b[0m\u001b[0;34m\u001b[0m\u001b[0;34m\u001b[0m\u001b[0m\n\u001b[0;32m--> 302\u001b[0;31m                 \u001b[0;32mraise\u001b[0m \u001b[0mSchemaValidationError\u001b[0m\u001b[0;34m(\u001b[0m\u001b[0mself\u001b[0m\u001b[0;34m,\u001b[0m \u001b[0merr\u001b[0m\u001b[0;34m)\u001b[0m\u001b[0;34m\u001b[0m\u001b[0;34m\u001b[0m\u001b[0m\n\u001b[0m\u001b[1;32m    303\u001b[0m         \u001b[0;32mreturn\u001b[0m \u001b[0mresult\u001b[0m\u001b[0;34m\u001b[0m\u001b[0;34m\u001b[0m\u001b[0m\n\u001b[1;32m    304\u001b[0m \u001b[0;34m\u001b[0m\u001b[0m\n",
      "\u001b[0;31mSchemaValidationError\u001b[0m: Invalid specification\n\n        altair.vegalite.v3.schema.core.FoldTransform->fold->items, validating 'type'\n\n        722410.0 is not of type 'string'\n        "
     ]
    }
   ],
   "source": [
    "alt.Chart(pop_by_hour).transform_fold(\n",
    "    [722410.0, 722511.0],\n",
    "    as_=['Experiment', 'Measurement']\n",
    ").mark_area(\n",
    "    opacity=0.3,\n",
    "    interpolate='step'\n",
    ").encode(\n",
    "    alt.X('hour:N', bin=alt.Bin(maxbins=100)),\n",
    "    alt.Y('visits:Q', stack=None),\n",
    "    alt.Color('Experiment:N')\n",
    ")"
   ]
  },
  {
   "cell_type": "code",
   "execution_count": null,
   "metadata": {},
   "outputs": [],
   "source": []
  }
 ],
 "metadata": {
  "kernelspec": {
   "display_name": "Python 3",
   "language": "python",
   "name": "python3"
  },
  "language_info": {
   "codemirror_mode": {
    "name": "ipython",
    "version": 3
   },
   "file_extension": ".py",
   "mimetype": "text/x-python",
   "name": "python",
   "nbconvert_exporter": "python",
   "pygments_lexer": "ipython3",
   "version": "3.8.3"
  }
 },
 "nbformat": 4,
 "nbformat_minor": 4
}
